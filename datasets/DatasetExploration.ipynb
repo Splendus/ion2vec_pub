{
 "cells": [
  {
   "cell_type": "code",
   "execution_count": 9,
   "id": "5cf8c009",
   "metadata": {},
   "outputs": [],
   "source": [
    "import os\n",
    "import gc\n",
    "\n",
    "import numpy as np\n",
    "import pandas as pd\n",
    "\n",
    "import pickle\n",
    "\n",
    "import matplotlib.pyplot as plt, seaborn as sn\n",
    "\n",
    "from metaspace import SMInstance\n",
    "\n",
    "import gensim\n",
    "from gensim import similarities\n",
    "from gensim.similarities import Similarity\n",
    "from gensim import models\n",
    "\n",
    "from pixel_dataframes import create_pixel_df, filter_ions\n",
    "\n",
    "\n",
    "METAHOST = 'https://metaspace2020.eu'\n",
    "MOLDBNAME = 'HMDB-v4'\n",
    "DSID = \"2016-09-22_11h16m17s\"\n",
    "\n",
    "# Temporary directory for output\n",
    "OUTPUT_PATH = 'output'\n",
    "\n",
    "def filter_ions(images, ann_ions):\n",
    "    img_ions =[] \n",
    "    for image in images:\n",
    "        s = str(image)\n",
    "        img_ions.append(s[s.find(\"(\")+1:s.find(\")\")])\n",
    "    \n",
    "    #if len(ann_ions) != len(img_ions):\n",
    "    diff = len(img_ions)-len(ann_ions)\n",
    "    print(f'images contain {diff} more ions \\n')\n",
    "    drop_list = []\n",
    "    for idx, ion in enumerate(img_ions):\n",
    "        if ion + ann_ions[0][-1] not in ann_ions:\n",
    "            drop_list.append(idx)\n",
    "    dropped = [img_ions[i] for i in drop_list]\n",
    "    img_ions = [img_ions[i] for i in range(len(img_ions)) if i not in drop_list]\n",
    "    images = [images[i] for i in range(len(images)) if i not in drop_list]\n",
    "\n",
    "    for i, ion in enumerate(ann_ions): # assert the same image order\n",
    "        name_len = len(ion[:-1])\n",
    "        assert ion[:name_len] == img_ions[i][:name_len], f\"{ion[:-1]} != {img_ions[i]} at  i = {i}\" \n",
    "    return images\n",
    "\n",
    "def create_pixel_df(dsid=DSID, dbase = MOLDBNAME, host = METAHOST, fdr = 0.1, only_first_isotope = True,\n",
    "                    hotspot_clipping = False, norm = True):\n",
    "\n",
    "    sm = SMInstance(host = host)\n",
    "    molset = sm.dataset(dbase, dsid)\n",
    "    \n",
    "    ann_df = molset.results(fdr=fdr) #annotation data frame\n",
    "    ann_ions = ann_df.ion.tolist() #list of ions and adduct\n",
    "    columns = ['y', 'x'] + ann_ions\n",
    "    \n",
    "    images = molset.all_annotation_images(fdr= fdr, only_first_isotope=only_first_isotope, hotspot_clipping = hotspot_clipping)\n",
    "    images = filter_ions(images, ann_ions) # here, we make sure, that the ions of ann_df and images match\n",
    "    \n",
    "    image_array = np.moveaxis((np.squeeze(np.array(images))), 0, -1) # move channel dimension to the last axis\n",
    "    pixel_no = np.shape(image_array[:,:,0].flatten())[0]\n",
    "    \n",
    "    indices_array = np.moveaxis(np.indices((image_array.shape[0], image_array.shape[1])), 0, -1) # construct an index array\n",
    "    all_array = np.dstack((indices_array, image_array)).reshape((pixel_no,-1)) # merge index and image array,\n",
    "                                                                               # reshaping to (index, (y,x,intensity))\n",
    "    pixel_df = pd.DataFrame(all_array, columns=columns).astype({'y': np.uint8, 'x': np.uint8})# create dataframe\n",
    "    if norm:\n",
    "        pixel_df[ann_ions] = pixel_df[ann_ions] / (pixel_df[ann_ions].sum()) #normalize\n",
    "    del indices_array, all_array\n",
    "    \n",
    "    return pixel_df, ann_ions"
   ]
  },
  {
   "cell_type": "code",
   "execution_count": 66,
   "id": "9b067093",
   "metadata": {},
   "outputs": [],
   "source": [
    "ds_list = ['2017-05-17_19h49m04s', '2017-05-17_19h50m07s', '2017-05-30_06h56m05s',\n",
    "           '2017-07-24_19h42m31s', '2017-07-26_18h25m14s', '2017-08-03_15h09m51s',\n",
    "           '2017-08-11_07h59m58s', '2017-08-03_15h09m06s']\n",
    "ions2ids = {}\n",
    "for dsid in ds_list:\n",
    "    sm = SMInstance(host = METAHOST)\n",
    "    molset = sm.dataset(MOLDBNAME, dsid)\n",
    "\n",
    "    ann_df = molset.results(fdr=fdr) #annotation data frame\n",
    "    ann_ions = ann_df.ion.tolist() #list of ions and adduct\n",
    "\n",
    "    for ion in ann_ions:\n",
    "        if ion not in ions2ids:\n",
    "            ions2ids[ion] = ann_df[ann_df['ion'] == ion]['moleculeIds'].item()"
   ]
  },
  {
   "cell_type": "code",
   "execution_count": 11,
   "id": "dbdca478",
   "metadata": {},
   "outputs": [
    {
     "name": "stderr",
     "output_type": "stream",
     "text": [
      "100%|████████████████████████████████████████| 51/51 [00:00<00:00, 191.80it/s]\n"
     ]
    },
    {
     "name": "stdout",
     "output_type": "stream",
     "text": [
      "images contain 0 more ions \n",
      "\n"
     ]
    }
   ],
   "source": [
    "ion_df = create_pixel_df()"
   ]
  },
  {
   "cell_type": "code",
   "execution_count": 19,
   "id": "f57157f9",
   "metadata": {},
   "outputs": [
    {
     "data": {
      "text/plain": [
       "'Brain01_Bregma-1-46_centroid'"
      ]
     },
     "execution_count": 19,
     "metadata": {},
     "output_type": "execute_result"
    }
   ],
   "source": [
    "sm = SMInstance(host = METAHOST)\n",
    "molset = sm.dataset(MOLDBNAME, DSID)\n",
    "\n",
    "molset.name"
   ]
  },
  {
   "cell_type": "code",
   "execution_count": 70,
   "id": "1d82e25c",
   "metadata": {},
   "outputs": [],
   "source": [
    "id_df = pd.DataFrame(ions2ids.items(), columns = ['ion', 'hmdbID'])\n",
    "id_df.to_csv('ions2ids.csv', index=False)"
   ]
  },
  {
   "cell_type": "code",
   "execution_count": 69,
   "id": "09c8c8f7",
   "metadata": {},
   "outputs": [
    {
     "data": {
      "text/html": [
       "<div>\n",
       "<style scoped>\n",
       "    .dataframe tbody tr th:only-of-type {\n",
       "        vertical-align: middle;\n",
       "    }\n",
       "\n",
       "    .dataframe tbody tr th {\n",
       "        vertical-align: top;\n",
       "    }\n",
       "\n",
       "    .dataframe thead th {\n",
       "        text-align: right;\n",
       "    }\n",
       "</style>\n",
       "<table border=\"1\" class=\"dataframe\">\n",
       "  <thead>\n",
       "    <tr style=\"text-align: right;\">\n",
       "      <th></th>\n",
       "      <th>ion</th>\n",
       "      <th>hmdbID</th>\n",
       "    </tr>\n",
       "  </thead>\n",
       "  <tbody>\n",
       "    <tr>\n",
       "      <th>0</th>\n",
       "      <td>C8H20NO6P+K+</td>\n",
       "      <td>[HMDB0000086]</td>\n",
       "    </tr>\n",
       "    <tr>\n",
       "      <th>1</th>\n",
       "      <td>C8H20NO6P+Na+</td>\n",
       "      <td>[HMDB0000086]</td>\n",
       "    </tr>\n",
       "    <tr>\n",
       "      <th>2</th>\n",
       "      <td>C10H14N5O7P+H+</td>\n",
       "      <td>[HMDB0000045, HMDB0001044, HMDB0003540, HMDB00...</td>\n",
       "    </tr>\n",
       "    <tr>\n",
       "      <th>3</th>\n",
       "      <td>C8H20NO6P+H+</td>\n",
       "      <td>[HMDB0000086]</td>\n",
       "    </tr>\n",
       "    <tr>\n",
       "      <th>4</th>\n",
       "      <td>C10H13N5O4+H+</td>\n",
       "      <td>[HMDB0000050, HMDB0000085, HMDB0014340, HMDB00...</td>\n",
       "    </tr>\n",
       "    <tr>\n",
       "      <th>...</th>\n",
       "      <td>...</td>\n",
       "      <td>...</td>\n",
       "    </tr>\n",
       "    <tr>\n",
       "      <th>253</th>\n",
       "      <td>C29H40N8O5+H+</td>\n",
       "      <td>[HMDB0030459]</td>\n",
       "    </tr>\n",
       "    <tr>\n",
       "      <th>254</th>\n",
       "      <td>C35H64O4+H+</td>\n",
       "      <td>[HMDB0031169, HMDB0031168]</td>\n",
       "    </tr>\n",
       "    <tr>\n",
       "      <th>255</th>\n",
       "      <td>C24H32O5+Na+</td>\n",
       "      <td>[HMDB0035834, HMDB0030162]</td>\n",
       "    </tr>\n",
       "    <tr>\n",
       "      <th>256</th>\n",
       "      <td>C10H11NO2+Na+</td>\n",
       "      <td>[HMDB0060063, HMDB0040045, HMDB0037693, HMDB00...</td>\n",
       "    </tr>\n",
       "    <tr>\n",
       "      <th>257</th>\n",
       "      <td>C21H22O5+H+</td>\n",
       "      <td>[HMDB0140767, HMDB0135858, HMDB0135857, HMDB01...</td>\n",
       "    </tr>\n",
       "  </tbody>\n",
       "</table>\n",
       "<p>258 rows × 2 columns</p>\n",
       "</div>"
      ],
      "text/plain": [
       "                ion                                             hmdbID\n",
       "0      C8H20NO6P+K+                                      [HMDB0000086]\n",
       "1     C8H20NO6P+Na+                                      [HMDB0000086]\n",
       "2    C10H14N5O7P+H+  [HMDB0000045, HMDB0001044, HMDB0003540, HMDB00...\n",
       "3      C8H20NO6P+H+                                      [HMDB0000086]\n",
       "4     C10H13N5O4+H+  [HMDB0000050, HMDB0000085, HMDB0014340, HMDB00...\n",
       "..              ...                                                ...\n",
       "253   C29H40N8O5+H+                                      [HMDB0030459]\n",
       "254     C35H64O4+H+                         [HMDB0031169, HMDB0031168]\n",
       "255    C24H32O5+Na+                         [HMDB0035834, HMDB0030162]\n",
       "256   C10H11NO2+Na+  [HMDB0060063, HMDB0040045, HMDB0037693, HMDB00...\n",
       "257     C21H22O5+H+  [HMDB0140767, HMDB0135858, HMDB0135857, HMDB01...\n",
       "\n",
       "[258 rows x 2 columns]"
      ]
     },
     "execution_count": 69,
     "metadata": {},
     "output_type": "execute_result"
    }
   ],
   "source": [
    "id_df"
   ]
  },
  {
   "cell_type": "code",
   "execution_count": 14,
   "id": "e079032b",
   "metadata": {},
   "outputs": [],
   "source": [
    "ds_path = ['2018-05-07_22h32m23s', '2021-01-06_20h58m42s', '2021-01-06_21h11m17s',\n",
    "           '2021-01-06_21h14m14s','2021-01-07_20h35m22s', '2021-01-07_20h37m34s',\n",
    "           '2021-01-07_20h43m57s', '2021-01-07_20h45m48s', '2021-01-07_20h53m04s', \n",
    "           '2021-01-07_20h54m53s', '2018-05-23_15h10m59s']"
   ]
  },
  {
   "cell_type": "code",
   "execution_count": 44,
   "id": "bb010119",
   "metadata": {},
   "outputs": [],
   "source": [
    "more_img_ions = pd.DataFrame(metadict)\n",
    "more_img_ions = more_img_ions.T\n",
    "columns = {0:'Additional Ions', 1:'Difference'}\n",
    "more_img_ions.rename(columns=columns, inplace=True)\n",
    "df_more = more_img_ions.drop(more_img_ions.index[1:])\n",
    "df_more.to_csv('MoreImgIons.csv')"
   ]
  },
  {
   "cell_type": "code",
   "execution_count": null,
   "id": "8b59d705",
   "metadata": {},
   "outputs": [],
   "source": [
    "metadict = {}\n",
    "for dsid in ds_path:    \n",
    "    DSID = dsid\n",
    "\n",
    "    sm = SMInstance(host = METAHOST)\n",
    "    molset = sm.dataset(MOLDBNAME, DSID)\n",
    "    only_first_isotope = True\n",
    "    hotspot_clipping = False\n",
    "    fdr = 0.1\n",
    "    norm = True\n",
    "\n",
    "    ann_df = molset.results(fdr=fdr) #annotation data frame\n",
    "    ann_ions = ann_df.ion.tolist() #list of ions and adduct\n",
    "    columns = ['y', 'x'] + ann_ions\n",
    "\n",
    "    images = molset.all_annotation_images(fdr= fdr, only_first_isotope=only_first_isotope, hotspot_clipping = hotspot_clipping)\n",
    "    images, dropped, diff = filter_ions(images, ann_ions) # here, we make sure, that the ions of ann_df and images match\n",
    "    metadict[dsid] = (dropped, diff)\n",
    "    \n",
    "    image_array = np.moveaxis((np.squeeze(np.array(images))), 0, -1) # move channel dimension to the last axis\n",
    "    try:\n",
    "        pixel_no = np.shape(image_array[:,:,0].flatten())[0]\n",
    "    except IndexError:\n",
    "        print('IndexError')\n",
    "        continue\n",
    "\n",
    "    indices_array = np.moveaxis(np.indices((image_array.shape[0], image_array.shape[1])), 0, -1) # construct an index array\n",
    "    all_array = np.dstack((indices_array, image_array)).reshape((pixel_no,-1)) # merge index and image array,\n",
    "                                                                               # reshaping to (index, (y,x,intensity))\n",
    "    pixel_df = pd.DataFrame(all_array, columns=columns).astype({'y': np.uint8, 'x': np.uint8})# create dataframe\n",
    "    if norm:\n",
    "        pixel_df[ann_ions] = pixel_df[ann_ions] / (pixel_df[ann_ions].sum()) #normalize\n"
   ]
  },
  {
   "cell_type": "code",
   "execution_count": 44,
   "id": "c680b6e6",
   "metadata": {},
   "outputs": [],
   "source": [
    "img_ions =[] \n",
    "for image in images:\n",
    "    s = str(image)\n",
    "    img_ions.append(s[s.find(\"(\")+1:s.find(\")\")])\n",
    "\n",
    "if len(ann_ions) != len(img_ions):\n",
    "    drop_list = []\n",
    "    for idx, ion in enumerate(img_ions):\n",
    "        if ion + ann_ions[0][-1] not in ann_ions:\n",
    "            drop_list.append(idx)\n",
    "\n",
    "    img_ions = [img_ions[i] for i in range(len(img_ions)) if i not in drop_list]\n",
    "    images = [images[i] for i in range(len(images)) if i not in drop_list]\n",
    "\n",
    "for i, ion in enumerate(ann_ions): # assert the same image order\n",
    "    name_len = len(ion[:-1])\n",
    "    assert ion[:name_len] == img_ions[i][:name_len], f\"{ion[:-1]} != {img_ions_filt[i]} at  i = {i}\" \n"
   ]
  },
  {
   "cell_type": "code",
   "execution_count": null,
   "id": "43613443",
   "metadata": {},
   "outputs": [],
   "source": [
    "for i, ion in enumerate(ann_ions):\n",
    "    name_len = len(ion[:-1])\n",
    "    print(ion[:name_len], img_ions[i][:name_len])"
   ]
  },
  {
   "cell_type": "code",
   "execution_count": null,
   "id": "f29655b4",
   "metadata": {},
   "outputs": [],
   "source": [
    "for i, ion in enumerate(ann_ions):\n",
    "    print(ion[:-1] + \", \" + img_ions_filt[i])"
   ]
  },
  {
   "cell_type": "code",
   "execution_count": 3,
   "id": "ec97b07e",
   "metadata": {},
   "outputs": [],
   "source": [
    "data_dir = '/home/geng/pix2vec/datasets/mouse_brain_datasets'"
   ]
  },
  {
   "cell_type": "code",
   "execution_count": 4,
   "id": "7705abc7",
   "metadata": {},
   "outputs": [],
   "source": [
    "ann_ions = []\n",
    "\n",
    "for f in os.listdir(data_dir):\n",
    "    if f.endswith('.pickle'):\n",
    "        px_df = pd.read_pickle(os.path.join(data_dir,f))\n",
    "        ions = px_df.drop(columns=['y', 'x']).columns.tolist()\n",
    "        for ion in ions:\n",
    "            if ion not in ann_ions:\n",
    "                ann_ions.append(ion)\n"
   ]
  },
  {
   "cell_type": "code",
   "execution_count": 5,
   "id": "495532f6",
   "metadata": {},
   "outputs": [
    {
     "data": {
      "text/plain": [
       "4455"
      ]
     },
     "execution_count": 5,
     "metadata": {},
     "output_type": "execute_result"
    }
   ],
   "source": [
    "len(ann_ions)"
   ]
  },
  {
   "cell_type": "code",
   "execution_count": 6,
   "id": "5fe370ae",
   "metadata": {},
   "outputs": [],
   "source": [
    "ind_freq = {}\n",
    "anno_freq = {}\n",
    "for f in os.listdir(data_dir):\n",
    "    if f.endswith('.pickle'):\n",
    "        px_df = pd.read_pickle(os.path.join(data_dir,f))\n",
    "        ion_df = px_df.drop(columns=['x', 'y'])\n",
    "        freq_counts = dict(ion_df.columns.value_counts())\n",
    "\n",
    "        for ion in freq_counts:\n",
    "            ind_freq[ion] = ind_freq.get(ion, 0) + freq_counts[ion] # update the global ind_freq \n",
    "                                                                    # when the ion is not present yet it is added with default value 0\n",
    "        anno_freq[f] = anno_freq.get(f, 0) + len(ion_df.columns.tolist())"
   ]
  },
  {
   "cell_type": "code",
   "execution_count": 17,
   "id": "be91a831",
   "metadata": {},
   "outputs": [
    {
     "data": {
      "image/png": "[encoded data removed]",
      "text/plain": [
       "<Figure size 1280x960 with 1 Axes>"
      ]
     },
     "metadata": {},
     "output_type": "display_data"
    }
   ],
   "source": [
    "plt.figure(dpi=200)\n",
    "vals = np.array(list(ind_freq.values()))\n",
    "sn.histplot(vals, binwidth=1)\n",
    "plt.xscale('log')\n",
    "plt.yscale('log')\n",
    "plt.title('Datasets per annotation', size=14)\n",
    "plt.ylabel('Count of annotations')\n",
    "plt.xlabel('Datasets per annotations')\n",
    "plt.savefig('datasets_per_annotation.png', format = 'png')"
   ]
  },
  {
   "cell_type": "code",
   "execution_count": 16,
   "id": "0d79f636",
   "metadata": {},
   "outputs": [
    {
     "data": {
      "image/png": "[encoded data removed]",
      "text/plain": [
       "<Figure size 1280x960 with 1 Axes>"
      ]
     },
     "metadata": {},
     "output_type": "display_data"
    }
   ],
   "source": [
    "plt.figure(dpi=200)\n",
    "vals = np.array(list(anno_freq.values()))\n",
    "sn.histplot(vals, binwidth=3)\n",
    "plt.xscale('log')\n",
    "#plt.yscale('log')\n",
    "plt.title('Annotations per dataset', size=14)\n",
    "plt.ylabel('Count of datasets')\n",
    "plt.xlabel('Annotations per dataset')\n",
    "\n",
    "plt.savefig('annotations_per_dataset.png', format = 'png')"
   ]
  },
  {
   "cell_type": "code",
   "execution_count": 77,
   "id": "99cfcafb",
   "metadata": {},
   "outputs": [],
   "source": [
    "ion_arr = np.array(list(ind_freq.values()))\n",
    "mask = ion_arr > 30"
   ]
  },
  {
   "cell_type": "code",
   "execution_count": 78,
   "id": "b4617f7b",
   "metadata": {},
   "outputs": [
    {
     "data": {
      "text/plain": [
       "(27,)"
      ]
     },
     "execution_count": 78,
     "metadata": {},
     "output_type": "execute_result"
    }
   ],
   "source": [
    "ion_arr[mask].shape"
   ]
  },
  {
   "cell_type": "code",
   "execution_count": 9,
   "id": "34f61a00",
   "metadata": {},
   "outputs": [],
   "source": [
    "def thresholding(ion_dict, thresh):\n",
    "    ion_arr = np.array(list(ind_freq.values()))\n",
    "    mask = ion_arr > thresh\n",
    "    return ion_arr[mask]\n",
    "    "
   ]
  },
  {
   "cell_type": "code",
   "execution_count": 10,
   "id": "5ba6b1f7",
   "metadata": {},
   "outputs": [],
   "source": [
    "thresholds = np.arange(0,50)\n",
    "surviving_ions = [len(thresholding(ind_freq, t)) for t in thresholds]"
   ]
  },
  {
   "cell_type": "code",
   "execution_count": 15,
   "id": "fb5b4fc7",
   "metadata": {},
   "outputs": [
    {
     "data": {
      "image/png": "[encoded data removed]",
      "text/plain": [
       "<Figure size 1152x864 with 1 Axes>"
      ]
     },
     "metadata": {},
     "output_type": "display_data"
    }
   ],
   "source": [
    "plt.figure(dpi=180)\n",
    "\n",
    "plt.scatter(thresholds, surviving_ions, s=20)\n",
    "plt.yscale('log')\n",
    "plt.ylabel('Remaining Ions')\n",
    "plt.xlabel('Demanded inter dataset coverage')\n",
    "plt.title('Cross dataset coverage')\n",
    "\n",
    "plt.tight_layout()\n",
    "\n",
    "plt.savefig('cross-dataset-coverage.png', format='png')"
   ]
  },
  {
   "cell_type": "code",
   "execution_count": 99,
   "id": "55876f9a",
   "metadata": {},
   "outputs": [
    {
     "data": {
      "text/plain": [
       "659"
      ]
     },
     "execution_count": 99,
     "metadata": {},
     "output_type": "execute_result"
    }
   ],
   "source": [
    "#ions must occur in at least 5% of the datasets\n",
    "surviving_ions[4]"
   ]
  },
  {
   "cell_type": "code",
   "execution_count": 106,
   "id": "7ba2a023",
   "metadata": {},
   "outputs": [],
   "source": [
    "dict_filtered = {k: v for k,v in ind_freq.items() if v > 4}"
   ]
  },
  {
   "cell_type": "code",
   "execution_count": 115,
   "id": "652be126",
   "metadata": {},
   "outputs": [],
   "source": [
    "remaining_ions = list(dict_filtered.keys())\n",
    "remaining_set = set(remaining_ions)"
   ]
  },
  {
   "cell_type": "code",
   "execution_count": 122,
   "id": "3db12f34",
   "metadata": {},
   "outputs": [],
   "source": [
    "keep_list = []\n",
    "\n",
    "for f in os.listdir(data_dir):\n",
    "    if f.endswith('.pickle'):\n",
    "        px_df = pd.read_pickle(os.path.join(data_dir,f))\n",
    "        ions = px_df.drop(columns=['x', 'y']).columns.tolist()\n",
    "        ions = set(ions)\n",
    "        \n",
    "        if remaining_set.intersection(ions):\n",
    "            keep_list.append(f)"
   ]
  },
  {
   "cell_type": "code",
   "execution_count": 123,
   "id": "b3190dfa",
   "metadata": {},
   "outputs": [
    {
     "data": {
      "text/plain": [
       "100"
      ]
     },
     "execution_count": 123,
     "metadata": {},
     "output_type": "execute_result"
    }
   ],
   "source": [
    "len(keep_list)"
   ]
  },
  {
   "cell_type": "code",
   "execution_count": 2,
   "id": "0f284a6d",
   "metadata": {},
   "outputs": [],
   "source": [
    "example_file = 'pixel_df_2022-09-15_11h13m32s.pickle'\n"
   ]
  },
  {
   "cell_type": "code",
   "execution_count": 4,
   "id": "07737c89",
   "metadata": {},
   "outputs": [
    {
     "name": "stderr",
     "output_type": "stream",
     "text": [
      "100%|████████████████████████████████████████| 32/32 [00:00<00:00, 146.33it/s]\n"
     ]
    }
   ],
   "source": [
    "DSID = '2022-09-15_11h13m32s'\n",
    "\n",
    "fdr = 0.1\n",
    "only_first_isotope = True\n",
    "hotspot_clipping = False\n",
    "norm = True\n",
    "\n",
    "sm = SMInstance(host = METAHOST)\n",
    "molset = sm.dataset(MOLDBNAME, DSID)\n",
    "\n",
    "ann_df = molset.results(fdr=fdr) #annotation data frame\n",
    "ann_ions = ann_df.ion.tolist() #list of ions and adduct\n",
    "columns = ['y', 'x'] + ann_ions\n",
    "\n",
    "images = molset.all_annotation_images(fdr= fdr, only_first_isotope=only_first_isotope, hotspot_clipping = hotspot_clipping)\n",
    "images = filter_ions(images, ann_ions) # here, we make sure, that the ions of ann_df and images match\n",
    "\n",
    "image_array = np.moveaxis((np.squeeze(np.array(images))), 0, -1) # move channel dimension to the last axis\n",
    "pixel_no = np.shape(image_array[:,:,0].flatten())[0]\n",
    "\n",
    "indices_array = np.moveaxis(np.indices((image_array.shape[0], image_array.shape[1])), 0, -1) # construct an index array\n",
    "all_array = np.dstack((indices_array, image_array)).reshape((pixel_no,-1)) # merge index and image array,\n",
    "                                                                           # reshaping to (index, (y,x,intensity))\n",
    "pixel_df = pd.DataFrame(all_array, columns=columns).astype({'y': np.uint8, 'x': np.uint8})# create dataframe\n",
    "if norm:\n",
    "    pixel_df[ann_ions] = pixel_df[ann_ions] / (pixel_df[ann_ions].sum()) #normalize\n"
   ]
  },
  {
   "cell_type": "code",
   "execution_count": 6,
   "id": "d330aa44",
   "metadata": {},
   "outputs": [
    {
     "data": {
      "text/plain": [
       "formula     adduct\n",
       "C5H13NO     +H                                                [Neurine]\n",
       "C16H22O4    +K        [Alpha-CEHC, Diisobutyl phthalate, Monoethylhe...\n",
       "            +H        [Alpha-CEHC, Diisobutyl phthalate, Monoethylhe...\n",
       "            +Na       [Alpha-CEHC, Diisobutyl phthalate, Monoethylhe...\n",
       "C14H24O4    +Na       [5-Nonyltetrahydro-2-oxo-3-furancarboxylic aci...\n",
       "C19H18O3    +Na       [(E)-1-[4-Hydroxy-3-(3-methyl-1,3-butadienyl)p...\n",
       "C14H26O4    +K        [Tetradecanedioic acid, Diethyl decanedioate, ...\n",
       "            +H        [Tetradecanedioic acid, Diethyl decanedioate, ...\n",
       "C17H22O3    +Na       [1b-Furanoeudesm-4(15)-en-1-ol acetate, [6]-De...\n",
       "C7H15NO3    +H                          [L-Carnitine, Malonyl-Carnitin]\n",
       "C14H26O4    +Na       [Tetradecanedioic acid, Diethyl decanedioate, ...\n",
       "C13H24O4    +H        [1,11-Undecanedicarboxylic acid, Menthyl ethyl...\n",
       "C12H12O3    +H        [Anofinic acid, 7-Ethoxy-4-methyl-2H-1-benzopy...\n",
       "C5H9N3      +H                                    [Histamine, Betazole]\n",
       "C22H40O4    +Na                                    [Octadecyl fumarate]\n",
       "C32H51NO12  +Na       [(3a,5b,7a,12a)-24-[(carboxymethyl)amino]-1,12...\n",
       "C10H16O2    +K        [Ascaridole, Geranic acid, 4-Isopropyl-3-cyclo...\n",
       "C9H17NO4    +H                   [L-Acetylcarnitine, N-lactoyl-Leucine]\n",
       "C24H38O4    +H        [12-Ketodeoxycholic acid, 7-Hydroxy-3-oxochola...\n",
       "C10H16O2    +H        [Ascaridole, Geranic acid, 4-Isopropyl-3-cyclo...\n",
       "C10H14O     +H        [(-)-Pinocarvone, 2-(4-Methylphenyl)-2-propano...\n",
       "C9H6O3      +H        [3 Hydroxycoumarin, Umbelliferone, 5-hydroxy-2...\n",
       "C8H18O3     +H                              [(3R,7R)-1,3,7-Octanetriol]\n",
       "C7H19N3     +H                                             [Spermidine]\n",
       "C21H43N5O7  +H                                             [Gentamicin]\n",
       "C4H11N      +H        [sec-Butylamine, 1-Butylamine, 2-Methyl-1-prop...\n",
       "C12H22O2    +H        [Methyl 10-undecenoate, 2,6-Dimethyl-5-heptena...\n",
       "C10H26N4    +H                                               [Spermine]\n",
       "C13H18N2O5  +H        [Threoninyl-Tyrosine, Tyrosyl-Threonine, Hydro...\n",
       "C12H17NO    +H        [N-Acetyl-2,6-diethylaniline, N,N-Diethylbenze...\n",
       "C10H10O4    +H        [Piperonyl acetate, Meconine, trans-Ferulic ac...\n",
       "C16H30O4    +H        [16-Hydroxy-10-oxohexadecanoic acid, Hexadecan...\n",
       "Name: moleculeNames, dtype: object"
      ]
     },
     "execution_count": 6,
     "metadata": {},
     "output_type": "execute_result"
    }
   ],
   "source": [
    "ann_df['moleculeNames']"
   ]
  },
  {
   "cell_type": "code",
   "execution_count": 18,
   "id": "f04a98b9",
   "metadata": {},
   "outputs": [
    {
     "data": {
      "text/plain": [
       "list"
      ]
     },
     "execution_count": 18,
     "metadata": {},
     "output_type": "execute_result"
    }
   ],
   "source": [
    "type(ann_df[ann_df['ion'] == 'C5H13NO+H+']['moleculeNames'].item())"
   ]
  },
  {
   "cell_type": "code",
   "execution_count": 23,
   "id": "83661c8b",
   "metadata": {},
   "outputs": [],
   "source": [
    "ion_to_mols = { ion : ann_df[ann_df['ion'] == ion]['moleculeNames'].item()[0] for ion in ann_df['ion']  }"
   ]
  },
  {
   "cell_type": "code",
   "execution_count": 26,
   "id": "bf2803f5",
   "metadata": {},
   "outputs": [
    {
     "data": {
      "text/plain": [
       "{'C5H13NO+H+': 'Neurine',\n",
       " 'C16H22O4+K+': 'Alpha-CEHC',\n",
       " 'C16H22O4+H+': 'Alpha-CEHC',\n",
       " 'C16H22O4+Na+': 'Alpha-CEHC',\n",
       " 'C14H24O4+Na+': '5-Nonyltetrahydro-2-oxo-3-furancarboxylic acid',\n",
       " 'C19H18O3+Na+': '(E)-1-[4-Hydroxy-3-(3-methyl-1,3-butadienyl)phenyl]-2-(3,5-dihydroxyphenyl)ethylene',\n",
       " 'C14H26O4+K+': 'Tetradecanedioic acid',\n",
       " 'C14H26O4+H+': 'Tetradecanedioic acid',\n",
       " 'C17H22O3+Na+': '1b-Furanoeudesm-4(15)-en-1-ol acetate',\n",
       " 'C7H15NO3+H+': 'L-Carnitine',\n",
       " 'C14H26O4+Na+': 'Tetradecanedioic acid',\n",
       " 'C13H24O4+H+': '1,11-Undecanedicarboxylic acid',\n",
       " 'C12H12O3+H+': 'Anofinic acid',\n",
       " 'C5H9N3+H+': 'Histamine',\n",
       " 'C22H40O4+Na+': 'Octadecyl fumarate',\n",
       " 'C32H51NO12+Na+': '(3a,5b,7a,12a)-24-[(carboxymethyl)amino]-1,12-dihydroxy-24-oxocholan-3-yl-b-D-Glucopyranosiduronic acid',\n",
       " 'C10H16O2+K+': 'Ascaridole',\n",
       " 'C9H17NO4+H+': 'L-Acetylcarnitine',\n",
       " 'C24H38O4+H+': '12-Ketodeoxycholic acid',\n",
       " 'C10H16O2+H+': 'Ascaridole',\n",
       " 'C10H14O+H+': '(-)-Pinocarvone',\n",
       " 'C9H6O3+H+': '3 Hydroxycoumarin',\n",
       " 'C8H18O3+H+': '(3R,7R)-1,3,7-Octanetriol',\n",
       " 'C7H19N3+H+': 'Spermidine',\n",
       " 'C21H43N5O7+H+': 'Gentamicin',\n",
       " 'C4H11N+H+': 'sec-Butylamine',\n",
       " 'C12H22O2+H+': 'Methyl 10-undecenoate',\n",
       " 'C10H26N4+H+': 'Spermine',\n",
       " 'C13H18N2O5+H+': 'Threoninyl-Tyrosine',\n",
       " 'C12H17NO+H+': 'N-Acetyl-2,6-diethylaniline',\n",
       " 'C10H10O4+H+': 'Piperonyl acetate',\n",
       " 'C16H30O4+H+': '16-Hydroxy-10-oxohexadecanoic acid'}"
      ]
     },
     "execution_count": 26,
     "metadata": {},
     "output_type": "execute_result"
    }
   ],
   "source": [
    "ion_to_mols"
   ]
  },
  {
   "cell_type": "code",
   "execution_count": 30,
   "id": "3014cd1e",
   "metadata": {},
   "outputs": [],
   "source": [
    "\n",
    "for ion in ann_df['ion']:\n",
    "    if ion not in ion_to_mols:\n",
    "        ion_to_mols[ion] = ann_df[ann_df['ion'] == ion]['moleculeNames'].item()[0]"
   ]
  },
  {
   "cell_type": "code",
   "execution_count": 31,
   "id": "14266b4d",
   "metadata": {},
   "outputs": [
    {
     "data": {
      "text/plain": [
       "{'C5H13NO+H+': 'Neurine',\n",
       " 'C16H22O4+K+': 'Alpha-CEHC',\n",
       " 'C16H22O4+H+': 'Alpha-CEHC',\n",
       " 'C16H22O4+Na+': 'Alpha-CEHC',\n",
       " 'C14H24O4+Na+': '5-Nonyltetrahydro-2-oxo-3-furancarboxylic acid',\n",
       " 'C19H18O3+Na+': '(E)-1-[4-Hydroxy-3-(3-methyl-1,3-butadienyl)phenyl]-2-(3,5-dihydroxyphenyl)ethylene',\n",
       " 'C14H26O4+K+': 'Tetradecanedioic acid',\n",
       " 'C14H26O4+H+': 'Tetradecanedioic acid',\n",
       " 'C17H22O3+Na+': '1b-Furanoeudesm-4(15)-en-1-ol acetate',\n",
       " 'C7H15NO3+H+': 'L-Carnitine',\n",
       " 'C14H26O4+Na+': 'Tetradecanedioic acid',\n",
       " 'C13H24O4+H+': '1,11-Undecanedicarboxylic acid',\n",
       " 'C12H12O3+H+': 'Anofinic acid',\n",
       " 'C5H9N3+H+': 'Histamine',\n",
       " 'C22H40O4+Na+': 'Octadecyl fumarate',\n",
       " 'C32H51NO12+Na+': '(3a,5b,7a,12a)-24-[(carboxymethyl)amino]-1,12-dihydroxy-24-oxocholan-3-yl-b-D-Glucopyranosiduronic acid',\n",
       " 'C10H16O2+K+': 'Ascaridole',\n",
       " 'C9H17NO4+H+': 'L-Acetylcarnitine',\n",
       " 'C24H38O4+H+': '12-Ketodeoxycholic acid',\n",
       " 'C10H16O2+H+': 'Ascaridole',\n",
       " 'C10H14O+H+': '(-)-Pinocarvone',\n",
       " 'C9H6O3+H+': '3 Hydroxycoumarin',\n",
       " 'C8H18O3+H+': '(3R,7R)-1,3,7-Octanetriol',\n",
       " 'C7H19N3+H+': 'Spermidine',\n",
       " 'C21H43N5O7+H+': 'Gentamicin',\n",
       " 'C4H11N+H+': 'sec-Butylamine',\n",
       " 'C12H22O2+H+': 'Methyl 10-undecenoate',\n",
       " 'C10H26N4+H+': 'Spermine',\n",
       " 'C13H18N2O5+H+': 'Threoninyl-Tyrosine',\n",
       " 'C12H17NO+H+': 'N-Acetyl-2,6-diethylaniline',\n",
       " 'C10H10O4+H+': 'Piperonyl acetate',\n",
       " 'C16H30O4+H+': '16-Hydroxy-10-oxohexadecanoic acid'}"
      ]
     },
     "execution_count": 31,
     "metadata": {},
     "output_type": "execute_result"
    }
   ],
   "source": [
    "ion_to_mols"
   ]
  },
  {
   "cell_type": "code",
   "execution_count": 36,
   "id": "2cec58da",
   "metadata": {},
   "outputs": [
    {
     "data": {
      "text/html": [
       "<div>\n",
       "<style scoped>\n",
       "    .dataframe tbody tr th:only-of-type {\n",
       "        vertical-align: middle;\n",
       "    }\n",
       "\n",
       "    .dataframe tbody tr th {\n",
       "        vertical-align: top;\n",
       "    }\n",
       "\n",
       "    .dataframe thead th {\n",
       "        text-align: right;\n",
       "    }\n",
       "</style>\n",
       "<table border=\"1\" class=\"dataframe\">\n",
       "  <thead>\n",
       "    <tr style=\"text-align: right;\">\n",
       "      <th></th>\n",
       "      <th>index</th>\n",
       "      <th>0</th>\n",
       "    </tr>\n",
       "  </thead>\n",
       "  <tbody>\n",
       "    <tr>\n",
       "      <th>0</th>\n",
       "      <td>C5H13NO+H+</td>\n",
       "      <td>Neurine</td>\n",
       "    </tr>\n",
       "    <tr>\n",
       "      <th>1</th>\n",
       "      <td>C16H22O4+K+</td>\n",
       "      <td>Alpha-CEHC</td>\n",
       "    </tr>\n",
       "    <tr>\n",
       "      <th>2</th>\n",
       "      <td>C16H22O4+H+</td>\n",
       "      <td>Alpha-CEHC</td>\n",
       "    </tr>\n",
       "    <tr>\n",
       "      <th>3</th>\n",
       "      <td>C16H22O4+Na+</td>\n",
       "      <td>Alpha-CEHC</td>\n",
       "    </tr>\n",
       "    <tr>\n",
       "      <th>4</th>\n",
       "      <td>C14H24O4+Na+</td>\n",
       "      <td>5-Nonyltetrahydro-2-oxo-3-furancarboxylic acid</td>\n",
       "    </tr>\n",
       "    <tr>\n",
       "      <th>5</th>\n",
       "      <td>C19H18O3+Na+</td>\n",
       "      <td>(E)-1-[4-Hydroxy-3-(3-methyl-1,3-butadienyl)ph...</td>\n",
       "    </tr>\n",
       "    <tr>\n",
       "      <th>6</th>\n",
       "      <td>C14H26O4+K+</td>\n",
       "      <td>Tetradecanedioic acid</td>\n",
       "    </tr>\n",
       "    <tr>\n",
       "      <th>7</th>\n",
       "      <td>C14H26O4+H+</td>\n",
       "      <td>Tetradecanedioic acid</td>\n",
       "    </tr>\n",
       "    <tr>\n",
       "      <th>8</th>\n",
       "      <td>C17H22O3+Na+</td>\n",
       "      <td>1b-Furanoeudesm-4(15)-en-1-ol acetate</td>\n",
       "    </tr>\n",
       "    <tr>\n",
       "      <th>9</th>\n",
       "      <td>C7H15NO3+H+</td>\n",
       "      <td>L-Carnitine</td>\n",
       "    </tr>\n",
       "    <tr>\n",
       "      <th>10</th>\n",
       "      <td>C14H26O4+Na+</td>\n",
       "      <td>Tetradecanedioic acid</td>\n",
       "    </tr>\n",
       "    <tr>\n",
       "      <th>11</th>\n",
       "      <td>C13H24O4+H+</td>\n",
       "      <td>1,11-Undecanedicarboxylic acid</td>\n",
       "    </tr>\n",
       "    <tr>\n",
       "      <th>12</th>\n",
       "      <td>C12H12O3+H+</td>\n",
       "      <td>Anofinic acid</td>\n",
       "    </tr>\n",
       "    <tr>\n",
       "      <th>13</th>\n",
       "      <td>C5H9N3+H+</td>\n",
       "      <td>Histamine</td>\n",
       "    </tr>\n",
       "    <tr>\n",
       "      <th>14</th>\n",
       "      <td>C22H40O4+Na+</td>\n",
       "      <td>Octadecyl fumarate</td>\n",
       "    </tr>\n",
       "    <tr>\n",
       "      <th>15</th>\n",
       "      <td>C32H51NO12+Na+</td>\n",
       "      <td>(3a,5b,7a,12a)-24-[(carboxymethyl)amino]-1,12-...</td>\n",
       "    </tr>\n",
       "    <tr>\n",
       "      <th>16</th>\n",
       "      <td>C10H16O2+K+</td>\n",
       "      <td>Ascaridole</td>\n",
       "    </tr>\n",
       "    <tr>\n",
       "      <th>17</th>\n",
       "      <td>C9H17NO4+H+</td>\n",
       "      <td>L-Acetylcarnitine</td>\n",
       "    </tr>\n",
       "    <tr>\n",
       "      <th>18</th>\n",
       "      <td>C24H38O4+H+</td>\n",
       "      <td>12-Ketodeoxycholic acid</td>\n",
       "    </tr>\n",
       "    <tr>\n",
       "      <th>19</th>\n",
       "      <td>C10H16O2+H+</td>\n",
       "      <td>Ascaridole</td>\n",
       "    </tr>\n",
       "    <tr>\n",
       "      <th>20</th>\n",
       "      <td>C10H14O+H+</td>\n",
       "      <td>(-)-Pinocarvone</td>\n",
       "    </tr>\n",
       "    <tr>\n",
       "      <th>21</th>\n",
       "      <td>C9H6O3+H+</td>\n",
       "      <td>3 Hydroxycoumarin</td>\n",
       "    </tr>\n",
       "    <tr>\n",
       "      <th>22</th>\n",
       "      <td>C8H18O3+H+</td>\n",
       "      <td>(3R,7R)-1,3,7-Octanetriol</td>\n",
       "    </tr>\n",
       "    <tr>\n",
       "      <th>23</th>\n",
       "      <td>C7H19N3+H+</td>\n",
       "      <td>Spermidine</td>\n",
       "    </tr>\n",
       "    <tr>\n",
       "      <th>24</th>\n",
       "      <td>C21H43N5O7+H+</td>\n",
       "      <td>Gentamicin</td>\n",
       "    </tr>\n",
       "    <tr>\n",
       "      <th>25</th>\n",
       "      <td>C4H11N+H+</td>\n",
       "      <td>sec-Butylamine</td>\n",
       "    </tr>\n",
       "    <tr>\n",
       "      <th>26</th>\n",
       "      <td>C12H22O2+H+</td>\n",
       "      <td>Methyl 10-undecenoate</td>\n",
       "    </tr>\n",
       "    <tr>\n",
       "      <th>27</th>\n",
       "      <td>C10H26N4+H+</td>\n",
       "      <td>Spermine</td>\n",
       "    </tr>\n",
       "    <tr>\n",
       "      <th>28</th>\n",
       "      <td>C13H18N2O5+H+</td>\n",
       "      <td>Threoninyl-Tyrosine</td>\n",
       "    </tr>\n",
       "    <tr>\n",
       "      <th>29</th>\n",
       "      <td>C12H17NO+H+</td>\n",
       "      <td>N-Acetyl-2,6-diethylaniline</td>\n",
       "    </tr>\n",
       "    <tr>\n",
       "      <th>30</th>\n",
       "      <td>C10H10O4+H+</td>\n",
       "      <td>Piperonyl acetate</td>\n",
       "    </tr>\n",
       "    <tr>\n",
       "      <th>31</th>\n",
       "      <td>C16H30O4+H+</td>\n",
       "      <td>16-Hydroxy-10-oxohexadecanoic acid</td>\n",
       "    </tr>\n",
       "  </tbody>\n",
       "</table>\n",
       "</div>"
      ],
      "text/plain": [
       "             index                                                  0\n",
       "0       C5H13NO+H+                                            Neurine\n",
       "1      C16H22O4+K+                                         Alpha-CEHC\n",
       "2      C16H22O4+H+                                         Alpha-CEHC\n",
       "3     C16H22O4+Na+                                         Alpha-CEHC\n",
       "4     C14H24O4+Na+     5-Nonyltetrahydro-2-oxo-3-furancarboxylic acid\n",
       "5     C19H18O3+Na+  (E)-1-[4-Hydroxy-3-(3-methyl-1,3-butadienyl)ph...\n",
       "6      C14H26O4+K+                              Tetradecanedioic acid\n",
       "7      C14H26O4+H+                              Tetradecanedioic acid\n",
       "8     C17H22O3+Na+              1b-Furanoeudesm-4(15)-en-1-ol acetate\n",
       "9      C7H15NO3+H+                                        L-Carnitine\n",
       "10    C14H26O4+Na+                              Tetradecanedioic acid\n",
       "11     C13H24O4+H+                     1,11-Undecanedicarboxylic acid\n",
       "12     C12H12O3+H+                                      Anofinic acid\n",
       "13       C5H9N3+H+                                          Histamine\n",
       "14    C22H40O4+Na+                                 Octadecyl fumarate\n",
       "15  C32H51NO12+Na+  (3a,5b,7a,12a)-24-[(carboxymethyl)amino]-1,12-...\n",
       "16     C10H16O2+K+                                         Ascaridole\n",
       "17     C9H17NO4+H+                                  L-Acetylcarnitine\n",
       "18     C24H38O4+H+                            12-Ketodeoxycholic acid\n",
       "19     C10H16O2+H+                                         Ascaridole\n",
       "20      C10H14O+H+                                    (-)-Pinocarvone\n",
       "21       C9H6O3+H+                                  3 Hydroxycoumarin\n",
       "22      C8H18O3+H+                          (3R,7R)-1,3,7-Octanetriol\n",
       "23      C7H19N3+H+                                         Spermidine\n",
       "24   C21H43N5O7+H+                                         Gentamicin\n",
       "25       C4H11N+H+                                     sec-Butylamine\n",
       "26     C12H22O2+H+                              Methyl 10-undecenoate\n",
       "27     C10H26N4+H+                                           Spermine\n",
       "28   C13H18N2O5+H+                                Threoninyl-Tyrosine\n",
       "29     C12H17NO+H+                        N-Acetyl-2,6-diethylaniline\n",
       "30     C10H10O4+H+                                  Piperonyl acetate\n",
       "31     C16H30O4+H+                 16-Hydroxy-10-oxohexadecanoic acid"
      ]
     },
     "execution_count": 36,
     "metadata": {},
     "output_type": "execute_result"
    }
   ],
   "source": [
    "pd.DataFrame.from_dict(ion_to_mols, orient='index').reset_index(level=0)"
   ]
  },
  {
   "cell_type": "code",
   "execution_count": 54,
   "id": "435c251d",
   "metadata": {},
   "outputs": [],
   "source": [
    "ion_mol_df = pd.DataFrame(data = [ion_to_mols.keys(), ion_to_mols.values()]).T.rename(columns = {0:'ions', 1:'moleculeNames'})\n"
   ]
  },
  {
   "cell_type": "code",
   "execution_count": 58,
   "id": "1d8fb861",
   "metadata": {},
   "outputs": [],
   "source": [
    "ion_mol_df.to_csv('Ions2Molecules.csv', index = False)"
   ]
  },
  {
   "cell_type": "code",
   "execution_count": 59,
   "id": "0a1af658",
   "metadata": {},
   "outputs": [],
   "source": [
    "ANN_FILE = os.path.abspath(\"/scratch/trose/hmdbv4_300922/2021-12-21_01h14m46s.csv\")\n",
    "\n"
   ]
  },
  {
   "cell_type": "code",
   "execution_count": 66,
   "id": "9e3ed4a8",
   "metadata": {},
   "outputs": [
    {
     "data": {
      "text/html": [
       "<div>\n",
       "<style scoped>\n",
       "    .dataframe tbody tr th:only-of-type {\n",
       "        vertical-align: middle;\n",
       "    }\n",
       "\n",
       "    .dataframe tbody tr th {\n",
       "        vertical-align: top;\n",
       "    }\n",
       "\n",
       "    .dataframe thead th {\n",
       "        text-align: right;\n",
       "    }\n",
       "</style>\n",
       "<table border=\"1\" class=\"dataframe\">\n",
       "  <thead>\n",
       "    <tr style=\"text-align: right;\">\n",
       "      <th></th>\n",
       "      <th>formula</th>\n",
       "      <th>adduct</th>\n",
       "      <th>ionFormula</th>\n",
       "      <th>ion</th>\n",
       "      <th>mz</th>\n",
       "      <th>msm</th>\n",
       "      <th>rhoSpatial</th>\n",
       "      <th>rhoSpectral</th>\n",
       "      <th>moc</th>\n",
       "      <th>fdr</th>\n",
       "      <th>offSample</th>\n",
       "      <th>isotopeImages</th>\n",
       "      <th>colocCoeff</th>\n",
       "      <th>moleculeNames</th>\n",
       "      <th>moleculeIds</th>\n",
       "      <th>intensity</th>\n",
       "    </tr>\n",
       "  </thead>\n",
       "  <tbody>\n",
       "    <tr>\n",
       "      <th>0</th>\n",
       "      <td>C30H18O8</td>\n",
       "      <td>+K</td>\n",
       "      <td>C30H18O8K</td>\n",
       "      <td>C30H18O8+K+</td>\n",
       "      <td>545.063247</td>\n",
       "      <td>0.451686</td>\n",
       "      <td>0.475844</td>\n",
       "      <td>0.952862</td>\n",
       "      <td>0.996190</td>\n",
       "      <td>0.05</td>\n",
       "      <td>True</td>\n",
       "      <td>[{'mz': 545.0632473712369, 'url': 'https://s3....</td>\n",
       "      <td>NaN</td>\n",
       "      <td>['Protohypericin']</td>\n",
       "      <td>['HMDB0034180']</td>\n",
       "      <td>20143.742188</td>\n",
       "    </tr>\n",
       "    <tr>\n",
       "      <th>1</th>\n",
       "      <td>C18H26O17S</td>\n",
       "      <td>+K</td>\n",
       "      <td>C18H26O17SK</td>\n",
       "      <td>C18H26O17S+K+</td>\n",
       "      <td>585.052150</td>\n",
       "      <td>0.328922</td>\n",
       "      <td>0.344738</td>\n",
       "      <td>0.957933</td>\n",
       "      <td>0.996021</td>\n",
       "      <td>0.05</td>\n",
       "      <td>True</td>\n",
       "      <td>[{'mz': 585.0521499372369, 'url': 'https://s3....</td>\n",
       "      <td>NaN</td>\n",
       "      <td>['[(3,4,5-trihydroxy-6-{1,2,6-trihydroxy-3-[hy...</td>\n",
       "      <td>['HMDB0128277', 'HMDB0128278', 'HMDB0128279', ...</td>\n",
       "      <td>15711.632812</td>\n",
       "    </tr>\n",
       "    <tr>\n",
       "      <th>2</th>\n",
       "      <td>C18H14N2O6S</td>\n",
       "      <td>+Na</td>\n",
       "      <td>C18H14N2O6SNa</td>\n",
       "      <td>C18H14N2O6S+Na+</td>\n",
       "      <td>409.046400</td>\n",
       "      <td>0.300399</td>\n",
       "      <td>0.309129</td>\n",
       "      <td>0.976161</td>\n",
       "      <td>0.995491</td>\n",
       "      <td>0.05</td>\n",
       "      <td>True</td>\n",
       "      <td>[{'mz': 409.04639951323674, 'url': 'https://s3...</td>\n",
       "      <td>NaN</td>\n",
       "      <td>['Lithol Rubine']</td>\n",
       "      <td>['HMDB0041567']</td>\n",
       "      <td>16506.921875</td>\n",
       "    </tr>\n",
       "    <tr>\n",
       "      <th>3</th>\n",
       "      <td>C40H78NO8P</td>\n",
       "      <td>+Na</td>\n",
       "      <td>C40H78NO8PNa</td>\n",
       "      <td>C40H78NO8P+Na+</td>\n",
       "      <td>754.535648</td>\n",
       "      <td>0.271779</td>\n",
       "      <td>0.306605</td>\n",
       "      <td>0.888026</td>\n",
       "      <td>0.998187</td>\n",
       "      <td>0.05</td>\n",
       "      <td>True</td>\n",
       "      <td>[{'mz': 754.5356475512369, 'url': 'https://s3....</td>\n",
       "      <td>NaN</td>\n",
       "      <td>['PC(14:0/18:1(11Z))', 'PC(14:0/18:1(9Z))', 'P...</td>\n",
       "      <td>['HMDB0007872', 'HMDB0007873', 'HMDB0007904', ...</td>\n",
       "      <td>20002.308594</td>\n",
       "    </tr>\n",
       "    <tr>\n",
       "      <th>4</th>\n",
       "      <td>C46H78O4</td>\n",
       "      <td>+K</td>\n",
       "      <td>C46H78O4K</td>\n",
       "      <td>C46H78O4+K+</td>\n",
       "      <td>733.553091</td>\n",
       "      <td>0.175472</td>\n",
       "      <td>0.192096</td>\n",
       "      <td>0.915628</td>\n",
       "      <td>0.997637</td>\n",
       "      <td>0.50</td>\n",
       "      <td>True</td>\n",
       "      <td>[{'mz': 733.5530908112369, 'url': 'https://s3....</td>\n",
       "      <td>NaN</td>\n",
       "      <td>['3-Hexadecanoyloleanolic acid']</td>\n",
       "      <td>['HMDB0036967']</td>\n",
       "      <td>10712.085938</td>\n",
       "    </tr>\n",
       "    <tr>\n",
       "      <th>5</th>\n",
       "      <td>C10H17N7O9S</td>\n",
       "      <td>+K</td>\n",
       "      <td>C10H17N7O9SK</td>\n",
       "      <td>C10H17N7O9S+K+</td>\n",
       "      <td>450.043926</td>\n",
       "      <td>0.148873</td>\n",
       "      <td>0.154389</td>\n",
       "      <td>0.967343</td>\n",
       "      <td>0.996821</td>\n",
       "      <td>0.50</td>\n",
       "      <td>True</td>\n",
       "      <td>[{'mz': 450.0439257592369, 'url': 'https://s3....</td>\n",
       "      <td>NaN</td>\n",
       "      <td>['Gonyautoxin I']</td>\n",
       "      <td>['HMDB0033506']</td>\n",
       "      <td>11749.506836</td>\n",
       "    </tr>\n",
       "  </tbody>\n",
       "</table>\n",
       "</div>"
      ],
      "text/plain": [
       "       formula adduct     ionFormula              ion          mz       msm  \\\n",
       "0     C30H18O8     +K      C30H18O8K      C30H18O8+K+  545.063247  0.451686   \n",
       "1   C18H26O17S     +K    C18H26O17SK    C18H26O17S+K+  585.052150  0.328922   \n",
       "2  C18H14N2O6S    +Na  C18H14N2O6SNa  C18H14N2O6S+Na+  409.046400  0.300399   \n",
       "3   C40H78NO8P    +Na   C40H78NO8PNa   C40H78NO8P+Na+  754.535648  0.271779   \n",
       "4     C46H78O4     +K      C46H78O4K      C46H78O4+K+  733.553091  0.175472   \n",
       "5  C10H17N7O9S     +K   C10H17N7O9SK   C10H17N7O9S+K+  450.043926  0.148873   \n",
       "\n",
       "   rhoSpatial  rhoSpectral       moc   fdr  offSample  \\\n",
       "0    0.475844     0.952862  0.996190  0.05       True   \n",
       "1    0.344738     0.957933  0.996021  0.05       True   \n",
       "2    0.309129     0.976161  0.995491  0.05       True   \n",
       "3    0.306605     0.888026  0.998187  0.05       True   \n",
       "4    0.192096     0.915628  0.997637  0.50       True   \n",
       "5    0.154389     0.967343  0.996821  0.50       True   \n",
       "\n",
       "                                       isotopeImages  colocCoeff  \\\n",
       "0  [{'mz': 545.0632473712369, 'url': 'https://s3....         NaN   \n",
       "1  [{'mz': 585.0521499372369, 'url': 'https://s3....         NaN   \n",
       "2  [{'mz': 409.04639951323674, 'url': 'https://s3...         NaN   \n",
       "3  [{'mz': 754.5356475512369, 'url': 'https://s3....         NaN   \n",
       "4  [{'mz': 733.5530908112369, 'url': 'https://s3....         NaN   \n",
       "5  [{'mz': 450.0439257592369, 'url': 'https://s3....         NaN   \n",
       "\n",
       "                                       moleculeNames  \\\n",
       "0                                 ['Protohypericin']   \n",
       "1  ['[(3,4,5-trihydroxy-6-{1,2,6-trihydroxy-3-[hy...   \n",
       "2                                  ['Lithol Rubine']   \n",
       "3  ['PC(14:0/18:1(11Z))', 'PC(14:0/18:1(9Z))', 'P...   \n",
       "4                   ['3-Hexadecanoyloleanolic acid']   \n",
       "5                                  ['Gonyautoxin I']   \n",
       "\n",
       "                                         moleculeIds     intensity  \n",
       "0                                    ['HMDB0034180']  20143.742188  \n",
       "1  ['HMDB0128277', 'HMDB0128278', 'HMDB0128279', ...  15711.632812  \n",
       "2                                    ['HMDB0041567']  16506.921875  \n",
       "3  ['HMDB0007872', 'HMDB0007873', 'HMDB0007904', ...  20002.308594  \n",
       "4                                    ['HMDB0036967']  10712.085938  \n",
       "5                                    ['HMDB0033506']  11749.506836  "
      ]
     },
     "execution_count": 66,
     "metadata": {},
     "output_type": "execute_result"
    }
   ],
   "source": [
    "ann_df2 = pd.read_csv(ANN_FILE)\n",
    "ann_df2"
   ]
  },
  {
   "cell_type": "code",
   "execution_count": 88,
   "id": "fec59afe",
   "metadata": {},
   "outputs": [],
   "source": [
    "import ast\n",
    "ion_to_mols = {}\n",
    "for ion in ann_df2['ion']:\n",
    "    if ion not in ion_to_mols:\n",
    "        names = ast.literal_eval(ann_df2[ann_df2['ion'] == ion]['moleculeNames'].item())\n",
    "        names.sort(key=len)\n",
    "        short_name = names[0]\n",
    "        ion_to_mols[ion] = ast.literal_eval(ann_df2[ann_df2['ion'] == ion]['moleculeNames'].item())[0]"
   ]
  },
  {
   "cell_type": "code",
   "execution_count": 79,
   "id": "f9682f4b",
   "metadata": {},
   "outputs": [
    {
     "data": {
      "text/plain": [
       "{'C30H18O8+K+': 'Protohypericin',\n",
       " 'C18H26O17S+K+': '[(3,4,5-trihydroxy-6-{1,2,6-trihydroxy-3-[hydroxy(3,4,5-trihydroxyoxan-2-yl)methyl]-4-oxocyclohexa-2,5-dien-1-yl}oxan-2-yl)methoxy]sulfonic acid',\n",
       " 'C18H14N2O6S+Na+': 'Lithol Rubine',\n",
       " 'C40H78NO8P+Na+': 'PC(14:0/18:1(11Z))',\n",
       " 'C46H78O4+K+': '3-Hexadecanoyloleanolic acid',\n",
       " 'C10H17N7O9S+K+': 'Gonyautoxin I'}"
      ]
     },
     "execution_count": 79,
     "metadata": {},
     "output_type": "execute_result"
    }
   ],
   "source": [
    "ion_to_mols"
   ]
  }
 ],
 "metadata": {
  "kernelspec": {
   "display_name": "Python (DomEnv)",
   "language": "python",
   "name": "domenv"
  },
  "language_info": {
   "codemirror_mode": {
    "name": "ipython",
    "version": 3
   },
   "file_extension": ".py",
   "mimetype": "text/x-python",
   "name": "python",
   "nbconvert_exporter": "python",
   "pygments_lexer": "ipython3",
   "version": "3.9.13"
  }
 },
 "nbformat": 4,
 "nbformat_minor": 5
}
