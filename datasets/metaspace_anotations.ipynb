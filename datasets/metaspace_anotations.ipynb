{
 "cells": [
  {
   "cell_type": "code",
   "execution_count": 1,
   "id": "bbd9d3c4-49f3-4583-aefb-fcd54f669f01",
   "metadata": {
    "tags": []
   },
   "outputs": [
    {
     "name": "stdout",
     "output_type": "stream",
     "text": [
      "Collecting metaspace2020\n",
      "  Using cached metaspace2020-2.0.1-py3-none-any.whl (41 kB)\n",
      "Requirement already satisfied: matplotlib in /opt/conda/lib/python3.9/site-packages (from metaspace2020) (3.4.2)\n",
      "Requirement already satisfied: pillow in /opt/conda/lib/python3.9/site-packages (from metaspace2020) (8.3.1)\n",
      "Collecting plotly>=1.12\n",
      "  Using cached plotly-5.10.0-py2.py3-none-any.whl (15.2 MB)\n",
      "Requirement already satisfied: pandas in /opt/conda/lib/python3.9/site-packages (from metaspace2020) (1.3.1)\n",
      "Requirement already satisfied: requests in /opt/conda/lib/python3.9/site-packages (from metaspace2020) (2.26.0)\n",
      "Requirement already satisfied: tqdm in /opt/conda/lib/python3.9/site-packages (from metaspace2020) (4.62.0)\n",
      "Requirement already satisfied: numpy in /opt/conda/lib/python3.9/site-packages (from metaspace2020) (1.21.1)\n",
      "Collecting tenacity>=6.2.0\n",
      "  Using cached tenacity-8.1.0-py3-none-any.whl (23 kB)\n",
      "Requirement already satisfied: pyparsing>=2.2.1 in /opt/conda/lib/python3.9/site-packages (from matplotlib->metaspace2020) (2.4.7)\n",
      "Requirement already satisfied: python-dateutil>=2.7 in /opt/conda/lib/python3.9/site-packages (from matplotlib->metaspace2020) (2.8.2)\n",
      "Requirement already satisfied: cycler>=0.10 in /opt/conda/lib/python3.9/site-packages (from matplotlib->metaspace2020) (0.10.0)\n",
      "Requirement already satisfied: kiwisolver>=1.0.1 in /opt/conda/lib/python3.9/site-packages (from matplotlib->metaspace2020) (1.3.1)\n",
      "Requirement already satisfied: six in /opt/conda/lib/python3.9/site-packages (from cycler>=0.10->matplotlib->metaspace2020) (1.16.0)\n",
      "Requirement already satisfied: pytz>=2017.3 in /opt/conda/lib/python3.9/site-packages (from pandas->metaspace2020) (2021.1)\n",
      "Requirement already satisfied: urllib3<1.27,>=1.21.1 in /opt/conda/lib/python3.9/site-packages (from requests->metaspace2020) (1.26.6)\n",
      "Requirement already satisfied: certifi>=2017.4.17 in /opt/conda/lib/python3.9/site-packages (from requests->metaspace2020) (2021.5.30)\n",
      "Requirement already satisfied: charset-normalizer~=2.0.0 in /opt/conda/lib/python3.9/site-packages (from requests->metaspace2020) (2.0.0)\n",
      "Requirement already satisfied: idna<4,>=2.5 in /opt/conda/lib/python3.9/site-packages (from requests->metaspace2020) (3.1)\n",
      "Installing collected packages: tenacity, plotly, metaspace2020\n",
      "Successfully installed metaspace2020-2.0.1 plotly-5.10.0 tenacity-8.1.0\n",
      "Collecting linex2\n",
      "  Using cached linex2-1.1.2-py3-none-any.whl (849 kB)\n",
      "Collecting sklearn\n",
      "  Using cached sklearn-0.0-py2.py3-none-any.whl\n",
      "Requirement already satisfied: pandas in /opt/conda/lib/python3.9/site-packages (from linex2) (1.3.1)\n",
      "Requirement already satisfied: jinja2 in /opt/conda/lib/python3.9/site-packages (from linex2) (3.0.1)\n",
      "Requirement already satisfied: numpy in /opt/conda/lib/python3.9/site-packages (from linex2) (1.21.1)\n",
      "Requirement already satisfied: statsmodels in /opt/conda/lib/python3.9/site-packages (from linex2) (0.12.2)\n",
      "Requirement already satisfied: seaborn in /opt/conda/lib/python3.9/site-packages (from linex2) (0.11.1)\n",
      "Requirement already satisfied: networkx in /opt/conda/lib/python3.9/site-packages (from linex2) (2.3)\n",
      "Requirement already satisfied: matplotlib in /opt/conda/lib/python3.9/site-packages (from linex2) (3.4.2)\n",
      "Collecting pyvis\n",
      "  Using cached pyvis-0.3.0-py3-none-any.whl\n",
      "Requirement already satisfied: MarkupSafe>=2.0 in /opt/conda/lib/python3.9/site-packages (from jinja2->linex2) (2.0.1)\n",
      "Requirement already satisfied: pillow>=6.2.0 in /opt/conda/lib/python3.9/site-packages (from matplotlib->linex2) (8.3.1)\n",
      "Requirement already satisfied: python-dateutil>=2.7 in /opt/conda/lib/python3.9/site-packages (from matplotlib->linex2) (2.8.2)\n",
      "Requirement already satisfied: cycler>=0.10 in /opt/conda/lib/python3.9/site-packages (from matplotlib->linex2) (0.10.0)\n",
      "Requirement already satisfied: pyparsing>=2.2.1 in /opt/conda/lib/python3.9/site-packages (from matplotlib->linex2) (2.4.7)\n",
      "Requirement already satisfied: kiwisolver>=1.0.1 in /opt/conda/lib/python3.9/site-packages (from matplotlib->linex2) (1.3.1)\n",
      "Requirement already satisfied: six in /opt/conda/lib/python3.9/site-packages (from cycler>=0.10->matplotlib->linex2) (1.16.0)\n",
      "Requirement already satisfied: decorator>=4.3.0 in /opt/conda/lib/python3.9/site-packages (from networkx->linex2) (5.0.9)\n",
      "Requirement already satisfied: pytz>=2017.3 in /opt/conda/lib/python3.9/site-packages (from pandas->linex2) (2021.1)\n",
      "Requirement already satisfied: ipython>=5.3.0 in /opt/conda/lib/python3.9/site-packages (from pyvis->linex2) (7.26.0)\n",
      "Collecting jsonpickle>=1.4.1\n",
      "  Using cached jsonpickle-2.2.0-py2.py3-none-any.whl (39 kB)\n",
      "Requirement already satisfied: jedi>=0.16 in /opt/conda/lib/python3.9/site-packages (from ipython>=5.3.0->pyvis->linex2) (0.18.0)\n",
      "Requirement already satisfied: matplotlib-inline in /opt/conda/lib/python3.9/site-packages (from ipython>=5.3.0->pyvis->linex2) (0.1.2)\n",
      "Requirement already satisfied: backcall in /opt/conda/lib/python3.9/site-packages (from ipython>=5.3.0->pyvis->linex2) (0.2.0)\n",
      "Requirement already satisfied: setuptools>=18.5 in /opt/conda/lib/python3.9/site-packages (from ipython>=5.3.0->pyvis->linex2) (49.6.0.post20210108)\n",
      "Requirement already satisfied: prompt-toolkit!=3.0.0,!=3.0.1,<3.1.0,>=2.0.0 in /opt/conda/lib/python3.9/site-packages (from ipython>=5.3.0->pyvis->linex2) (3.0.19)\n",
      "Requirement already satisfied: pygments in /opt/conda/lib/python3.9/site-packages (from ipython>=5.3.0->pyvis->linex2) (2.9.0)\n",
      "Requirement already satisfied: traitlets>=4.2 in /opt/conda/lib/python3.9/site-packages (from ipython>=5.3.0->pyvis->linex2) (5.0.5)\n",
      "Requirement already satisfied: pexpect>4.3 in /opt/conda/lib/python3.9/site-packages (from ipython>=5.3.0->pyvis->linex2) (4.8.0)\n",
      "Requirement already satisfied: pickleshare in /opt/conda/lib/python3.9/site-packages (from ipython>=5.3.0->pyvis->linex2) (0.7.5)\n",
      "Requirement already satisfied: parso<0.9.0,>=0.8.0 in /opt/conda/lib/python3.9/site-packages (from jedi>=0.16->ipython>=5.3.0->pyvis->linex2) (0.8.2)\n",
      "Requirement already satisfied: ptyprocess>=0.5 in /opt/conda/lib/python3.9/site-packages (from pexpect>4.3->ipython>=5.3.0->pyvis->linex2) (0.7.0)\n",
      "Requirement already satisfied: wcwidth in /opt/conda/lib/python3.9/site-packages (from prompt-toolkit!=3.0.0,!=3.0.1,<3.1.0,>=2.0.0->ipython>=5.3.0->pyvis->linex2) (0.2.5)\n",
      "Requirement already satisfied: ipython-genutils in /opt/conda/lib/python3.9/site-packages (from traitlets>=4.2->ipython>=5.3.0->pyvis->linex2) (0.2.0)\n",
      "Requirement already satisfied: scipy>=1.0 in /opt/conda/lib/python3.9/site-packages (from seaborn->linex2) (1.7.1)\n",
      "Requirement already satisfied: scikit-learn in /opt/conda/lib/python3.9/site-packages (from sklearn->linex2) (0.24.2)\n",
      "Requirement already satisfied: threadpoolctl>=2.0.0 in /opt/conda/lib/python3.9/site-packages (from scikit-learn->sklearn->linex2) (2.2.0)\n",
      "Requirement already satisfied: joblib>=0.11 in /opt/conda/lib/python3.9/site-packages (from scikit-learn->sklearn->linex2) (1.0.1)\n",
      "Requirement already satisfied: patsy>=0.5 in /opt/conda/lib/python3.9/site-packages (from statsmodels->linex2) (0.5.1)\n",
      "Installing collected packages: jsonpickle, sklearn, pyvis, linex2\n",
      "Successfully installed jsonpickle-2.2.0 linex2-1.1.2 pyvis-0.3.0 sklearn-0.0\n",
      "Requirement already satisfied: tqdm in /opt/conda/lib/python3.9/site-packages (4.62.0)\n",
      "Collecting umap-learn\n",
      "  Using cached umap_learn-0.5.3-py3-none-any.whl\n",
      "Requirement already satisfied: scikit-learn>=0.22 in /opt/conda/lib/python3.9/site-packages (from umap-learn) (0.24.2)\n",
      "Requirement already satisfied: numba>=0.49 in /opt/conda/lib/python3.9/site-packages (from umap-learn) (0.53.1)\n",
      "Requirement already satisfied: numpy>=1.17 in /opt/conda/lib/python3.9/site-packages (from umap-learn) (1.21.1)\n",
      "Collecting pynndescent>=0.5\n",
      "  Using cached pynndescent-0.5.7-py3-none-any.whl\n",
      "Requirement already satisfied: tqdm in /opt/conda/lib/python3.9/site-packages (from umap-learn) (4.62.0)\n",
      "Requirement already satisfied: scipy>=1.0 in /opt/conda/lib/python3.9/site-packages (from umap-learn) (1.7.1)\n",
      "Requirement already satisfied: llvmlite<0.37,>=0.36.0rc1 in /opt/conda/lib/python3.9/site-packages (from numba>=0.49->umap-learn) (0.36.0)\n",
      "Requirement already satisfied: setuptools in /opt/conda/lib/python3.9/site-packages (from numba>=0.49->umap-learn) (49.6.0.post20210108)\n",
      "Requirement already satisfied: joblib>=0.11 in /opt/conda/lib/python3.9/site-packages (from pynndescent>=0.5->umap-learn) (1.0.1)\n",
      "Requirement already satisfied: threadpoolctl>=2.0.0 in /opt/conda/lib/python3.9/site-packages (from scikit-learn>=0.22->umap-learn) (2.2.0)\n",
      "Installing collected packages: pynndescent, umap-learn\n",
      "Successfully installed pynndescent-0.5.7 umap-learn-0.5.3\n"
     ]
    }
   ],
   "source": [
    "! pip install metaspace2020\n",
    "! pip install linex2\n",
    "! pip install tqdm\n",
    "! pip install umap-learn"
   ]
  },
  {
   "cell_type": "markdown",
   "id": "735eb9e9-1f8e-4d1f-80bb-5df0123bb29f",
   "metadata": {},
   "source": [
    "# Download all HMDB annotations from METASPACE"
   ]
  },
  {
   "cell_type": "code",
   "execution_count": 2,
   "id": "4bf1e658-1c9a-4110-87b0-4b882068d276",
   "metadata": {},
   "outputs": [],
   "source": [
    "from metaspace import SMInstance, sm_annotation_utils\n",
    "import pickle\n",
    "import os\n",
    "import sys\n",
    "from tqdm import tqdm\n",
    "import pandas as pd\n",
    "import numpy as np\n",
    "from sklearn.metrics.pairwise import cosine_similarity\n",
    "import matplotlib.pyplot as plt\n",
    "import umap\n",
    "import ast\n",
    "from collections import defaultdict, Counter\n",
    "import random\n",
    "%load_ext autoreload\n",
    "%autoreload 2"
   ]
  },
  {
   "cell_type": "code",
   "execution_count": 4,
   "id": "b64d86fb-b786-494e-b807-65182acf92e6",
   "metadata": {},
   "outputs": [],
   "source": [
    "sm = SMInstance()"
   ]
  },
  {
   "cell_type": "code",
   "execution_count": 7,
   "id": "48e949d1-a0eb-4ea9-9459-f18d8d3850de",
   "metadata": {},
   "outputs": [],
   "source": [
    "# Get metadata from all datasets\n",
    "dss = sm.datasets()"
   ]
  },
  {
   "cell_type": "code",
   "execution_count": 12,
   "id": "ad248713-088b-4107-a91c-45b3ccc93438",
   "metadata": {},
   "outputs": [],
   "source": [
    "#pickle.dump( dss, open( \"/home/trose/metaspacedata_300922/all_datasets_300922.pickle\", \"wb\" ) )"
   ]
  },
  {
   "cell_type": "code",
   "execution_count": 10,
   "id": "a328cb8b-2894-49fd-bf62-f9834d13d332",
   "metadata": {},
   "outputs": [],
   "source": [
    "dss = pickle.load(open( \"/home/trose/metaspacedata_300922/all_datasets_300922.pickle\", \"rb\" ) )"
   ]
  },
  {
   "cell_type": "code",
   "execution_count": 11,
   "id": "2f3df393-17ad-427f-94ea-26c7dc26e288",
   "metadata": {},
   "outputs": [
    {
     "data": {
      "text/plain": [
       "7040"
      ]
     },
     "execution_count": 11,
     "metadata": {},
     "output_type": "execute_result"
    }
   ],
   "source": [
    "len(dss)"
   ]
  },
  {
   "cell_type": "code",
   "execution_count": 8,
   "id": "ac7ae318-3608-4d36-809b-a3c93794e4f3",
   "metadata": {
    "collapsed": true,
    "jupyter": {
     "outputs_hidden": true
    },
    "tags": []
   },
   "outputs": [
    {
     "data": {
      "text/plain": [
       "['2017-03-24_11h29m56s.csv',\n",
       " '2017-09-23_09h31m56s.csv',\n",
       " '2016-10-01_12h23m04s.csv',\n",
       " '2018-11-02_23h00m32s.csv',\n",
       " '2021-05-27_22h31m50s.csv',\n",
       " '2021-03-12_18h37m44s.csv',\n",
       " '2017-11-13_17h29m37s.csv',\n",
       " '2019-03-25_19h24m11s.csv',\n",
       " '2018-11-02_15h40m47s.csv',\n",
       " '2021-04-29_14h24m35s.csv',\n",
       " '2021-08-05_18h11m47s.csv',\n",
       " '2018-08-01_14h27m07s.csv',\n",
       " '2019-04-13_00h14m09s.csv',\n",
       " '2017-11-16_16h36m00s.csv',\n",
       " '2022-01-27_04h19m34s.csv',\n",
       " '2018-12-18_04h07m33s.csv',\n",
       " '2019-09-05_23h36m56s.csv',\n",
       " '2018-06-11_14h01m31s.csv',\n",
       " '2017-09-06_14h02m21s.csv',\n",
       " '2019-05-07_21h22m27s.csv',\n",
       " '2017-12-04_13h09m51s.csv',\n",
       " '2017-05-09_16h23m46s.csv',\n",
       " '2021-12-13_08h27m36s.csv',\n",
       " '2022-06-11_22h42m52s.csv',\n",
       " '2018-09-14_21h38m44s.csv',\n",
       " '2021-12-01_18h49m56s.csv',\n",
       " '2018-08-01_13h31m30s.csv',\n",
       " '2018-01-19_10h24m30s.csv',\n",
       " '2018-10-05_00h52m32s.csv',\n",
       " '2020-06-12_17h14m59s.csv',\n",
       " '2017-08-09_10h07m05s.csv',\n",
       " '2021-01-06_20h50m02s.csv',\n",
       " '2017-03-24_11h33m37s.csv',\n",
       " '2022-09-07_19h56m09s.csv',\n",
       " '2020-05-21_02h52m04s.csv',\n",
       " '2017-05-11_13h41m15s.csv',\n",
       " '2022-03-08_20h56m36s.csv',\n",
       " '2017-11-16_16h37m58s.csv',\n",
       " '2019-05-16_17h22m00s.csv',\n",
       " '2020-12-11_19h25m04s.csv',\n",
       " '2016-09-22_11h16m23s.csv',\n",
       " '2022-04-19_20h53m41s.csv',\n",
       " '2021-03-22_13h50m40s.csv',\n",
       " '2021-05-11_21h33m33s.csv',\n",
       " '2017-03-15_11h39m51s.csv',\n",
       " '2017-03-01_11h03m05s.csv',\n",
       " '2017-11-23_07h52m40s.csv',\n",
       " '2021-07-14_18h50m49s.csv',\n",
       " '2021-05-30_18h51m15s.csv',\n",
       " '2020-02-24_14h29m10s.csv',\n",
       " '2017-03-10_22h38m42s.csv',\n",
       " '2022-05-31_11h23m58s.csv',\n",
       " '2019-10-01_21h13m37s.csv',\n",
       " '2022-05-30_20h44m19s.csv',\n",
       " '2021-10-19_18h46m56s.csv',\n",
       " '2021-08-26_23h57m42s.csv',\n",
       " '2021-04-12_22h13m20s.csv',\n",
       " '2017-03-10_23h15m10s.csv',\n",
       " '2018-11-02_22h51m48s.csv',\n",
       " '2022-09-24_01h37m40s.csv',\n",
       " '2016-12-13_13h59m50s.csv',\n",
       " '2017-03-10_22h55m55s.csv',\n",
       " '2018-03-23_11h59m35s.csv',\n",
       " '2021-09-24_17h50m18s.csv',\n",
       " '2020-01-06_22h03m31s.csv',\n",
       " '2022-03-16_20h27m43s.csv',\n",
       " '2017-08-16_11h53m50s.csv',\n",
       " '2020-03-11_16h40m10s.csv',\n",
       " '2022-05-16_10h34m15s.csv',\n",
       " '2022-02-17_18h52m34s.csv',\n",
       " '2021-09-02_21h44m18s.csv',\n",
       " '2016-12-16_13h05m26s.csv',\n",
       " '2019-11-12_21h20m41s.csv',\n",
       " '2019-01-22_19h50m21s.csv',\n",
       " '2022-04-20_00h03m33s.csv',\n",
       " '2022-08-30_17h14m16s.csv',\n",
       " '2019-08-29_20h22m07s.csv',\n",
       " '2018-07-05_11h22m27s.csv',\n",
       " '2020-06-23_21h25m15s.csv',\n",
       " '2021-07-14_18h53m59s.csv',\n",
       " '2020-12-05_15h12m29s.csv',\n",
       " '2021-09-22_17h28m56s.csv',\n",
       " '2019-01-25_20h41m48s.csv',\n",
       " '2022-09-15_11h13m32s.csv',\n",
       " '2017-10-26_14h26m35s.csv',\n",
       " '2017-08-30_09h25m09s.csv',\n",
       " '2018-10-25_15h59m53s.csv',\n",
       " '2018-02-15_14h56m21s.csv',\n",
       " '2017-10-26_14h26m20s.csv',\n",
       " '2022-06-09_19h05m42s.csv',\n",
       " '2020-08-28_22h38m52s.csv',\n",
       " '2017-12-20_16h31m13s.csv',\n",
       " '2022-05-21_19h59m08s.csv',\n",
       " '2017-08-02_05h55m26s.csv',\n",
       " '2017-08-08_14h29m07s.csv',\n",
       " '2019-03-19_06h59m56s.csv',\n",
       " '2019-09-10_14h25m54s.csv',\n",
       " '2021-07-19_20h26m20s.csv',\n",
       " '2022-01-31_21h57m55s.csv',\n",
       " '2019-09-27_19h35m53s.csv',\n",
       " '2019-01-25_20h42m33s.csv',\n",
       " '2021-11-04_17h13m57s.csv',\n",
       " '2018-02-18_19h05m50s.csv',\n",
       " '2017-03-10_22h38m26s.csv',\n",
       " '2017-09-21_07h48m19s.csv',\n",
       " '2017-05-16_10h37m26s.csv',\n",
       " '2017-11-22_09h15m58s.csv',\n",
       " '2019-12-26_22h37m21s.csv',\n",
       " '2022-06-23_23h19m05s.csv',\n",
       " '2017-05-07_07h31m09s.csv',\n",
       " '2018-07-13_15h22m25s.csv',\n",
       " '2018-06-17_14h01m10s.csv',\n",
       " '2022-05-24_02h59m10s.csv',\n",
       " '2019-09-06_22h27m11s.csv',\n",
       " '2016-11-15_12h49m00s.csv',\n",
       " '2017-10-26_14h25m28s.csv',\n",
       " '2021-04-06_22h38m10s.csv',\n",
       " '2017-03-03_10h43m16s.csv',\n",
       " '2021-09-30_22h44m51s.csv',\n",
       " '2019-07-31_17h35m11s.csv',\n",
       " '2017-05-03_17h48m18s.csv',\n",
       " '2017-11-16_16h36m39s.csv',\n",
       " '2017-11-16_16h36m14s.csv',\n",
       " '2021-02-17_01h27m23s.csv',\n",
       " '2016-12-12_11h58m03s.csv',\n",
       " '2017-02-17_14h56m37s.csv',\n",
       " '2021-03-30_23h04m24s.csv',\n",
       " '2017-03-15_12h24m56s.csv',\n",
       " '2022-03-15_18h37m37s.csv',\n",
       " '2018-03-23_12h01m39s.csv',\n",
       " '2017-12-20_16h32m25s.csv',\n",
       " '2017-01-19_15h48m03s.csv',\n",
       " '2022-08-05_22h31m01s.csv',\n",
       " '2022-08-03_03h48m52s.csv',\n",
       " '2017-08-10_13h44m06s.csv',\n",
       " '2021-04-07_23h58m51s.csv',\n",
       " '2019-01-11_18h44m31s.csv',\n",
       " '2016-12-16_22h05m54s.csv',\n",
       " '2019-01-25_20h39m03s.csv',\n",
       " '2018-07-13_06h11m18s.csv',\n",
       " '2016-10-13_14h06m49s.csv',\n",
       " '2021-09-27_22h56m07s.csv',\n",
       " '2017-07-10_09h39m30s.csv',\n",
       " '2020-02-06_22h50m14s.csv',\n",
       " '2022-09-24_01h59m39s.csv',\n",
       " '2017-06-23_14h01m14s.csv',\n",
       " '2017-08-22_15h24m03s.csv',\n",
       " '2018-09-12_09h28m04s.csv',\n",
       " '2021-06-25_22h09m57s.csv',\n",
       " '2022-01-17_22h28m27s.csv',\n",
       " '2021-05-04_20h41m28s.csv',\n",
       " '2016-10-01_12h17m31s.csv',\n",
       " '2018-07-13_12h45m45s.csv',\n",
       " '2017-05-30_06h56m05s.csv',\n",
       " '2017-08-01_07h41m18s.csv',\n",
       " '2017-11-14_14h31m49s.csv',\n",
       " '2017-03-10_22h31m09s.csv',\n",
       " '2017-10-27_09h35m59s.csv',\n",
       " '2020-01-16_13h13m47s.csv',\n",
       " '2021-12-17_18h11m49s.csv',\n",
       " '2022-08-03_03h39m31s.csv',\n",
       " '2017-10-26_14h28m17s.csv',\n",
       " '2018-09-07_00h49m45s.csv',\n",
       " '2017-03-16_07h38m50s.csv',\n",
       " '2021-06-15_19h26m09s.csv',\n",
       " '2017-07-28_07h35m04s.csv',\n",
       " '2022-06-11_22h18m44s.csv',\n",
       " '2017-03-14_14h35m46s.csv',\n",
       " '2017-03-28_16h18m53s.csv',\n",
       " '2021-01-07_20h43m57s.csv',\n",
       " '2017-08-22_15h16m21s.csv',\n",
       " '2018-06-30_00h20m21s.csv',\n",
       " '2019-09-12_19h43m40s.csv',\n",
       " '2018-05-22_16h41m15s.csv',\n",
       " '2022-04-07_10h47m27s.csv',\n",
       " '2017-07-12_06h00m52s.csv',\n",
       " '2022-08-31_20h27m24s.csv',\n",
       " '2021-01-07_20h51m30s.csv',\n",
       " '2022-06-26_23h56m11s.csv',\n",
       " '2017-10-26_14h25m58s.csv',\n",
       " '2021-07-14_18h53m01s.csv',\n",
       " '2018-04-05_09h51m06s.csv',\n",
       " '2017-03-17_17h20m49s.csv',\n",
       " '2018-09-04_00h44m59s.csv',\n",
       " '2018-12-20_13h46m48s.csv',\n",
       " '2021-04-21_10h22m47s.csv',\n",
       " '2018-07-12_05h44m23s.csv',\n",
       " '2019-08-09_18h18m31s.csv',\n",
       " '2016-12-19_18h08m41s.csv',\n",
       " '2016-12-13_13h50m37s.csv',\n",
       " '2017-11-14_13h48m56s.csv',\n",
       " '2019-07-04_09h50m41s.csv',\n",
       " '2016-09-30_15h25m19s.csv',\n",
       " '2017-05-22_14h07m41s.csv',\n",
       " '2018-10-19_01h14m02s.csv',\n",
       " '2016-12-13_13h52m44s.csv',\n",
       " '2022-09-24_01h47m38s.csv',\n",
       " '2022-09-07_20h06m27s.csv',\n",
       " '2017-05-10_04h49m33s.csv',\n",
       " '2021-05-18_23h44m01s.csv',\n",
       " '2021-12-21_19h26m39s.csv',\n",
       " '2020-12-23_10h13m10s.csv',\n",
       " '2018-10-25_14h45m48s.csv',\n",
       " '2022-09-24_00h40m31s.csv',\n",
       " '2020-10-07_10h14m31s.csv',\n",
       " '2022-07-13_21h25m05s.csv',\n",
       " '2021-11-10_08h09m47s.csv',\n",
       " '2017-03-15_14h38m43s.csv',\n",
       " '2016-10-01_12h24m11s.csv',\n",
       " '2021-04-15_10h29m36s.csv',\n",
       " '2017-08-30_09h00m12s.csv',\n",
       " '2017-10-26_14h25m56s.csv',\n",
       " '2017-03-30_04h01m54s.csv',\n",
       " '2017-04-11_17h19m44s.csv',\n",
       " '2022-08-29_23h26m38s.csv',\n",
       " '2017-08-09_10h06m42s.csv',\n",
       " '2016-09-30_15h20m59s.csv',\n",
       " '2018-04-09_13h01m16s.csv',\n",
       " '2017-07-18_10h12m23s.csv',\n",
       " '2019-07-23_09h45m04s.csv',\n",
       " '2020-12-03_18h45m40s.csv',\n",
       " '2016-12-13_13h59m15s.csv',\n",
       " '2021-11-24_23h20m32s.csv',\n",
       " '2021-05-19_20h11m50s.csv',\n",
       " '2017-10-26_14h29m10s.csv',\n",
       " '2022-06-23_23h22m16s.csv',\n",
       " '2016-12-09_10h16m23s.csv',\n",
       " '2022-06-16_19h48m59s.csv',\n",
       " '2018-02-16_01h12m44s.csv',\n",
       " '2017-08-02_00h09m50s.csv',\n",
       " '2019-02-27_11h41m10s.csv',\n",
       " '2022-04-22_13h59m24s.csv',\n",
       " '2021-06-18_07h26m04s.csv',\n",
       " '2019-10-26_00h00m03s.csv',\n",
       " '2020-09-03_16h30m20s.csv',\n",
       " '2021-07-01_21h41m54s.csv',\n",
       " '2018-07-25_09h06m12s.csv',\n",
       " '2021-03-29_21h54m58s.csv',\n",
       " '2017-03-15_12h23m25s.csv',\n",
       " '2020-06-05_01h19m50s.csv',\n",
       " '2021-04-27_18h46m55s.csv',\n",
       " '2021-05-07_19h15m20s.csv',\n",
       " '2017-10-26_14h28m32s.csv',\n",
       " '2021-05-04_21h21m03s.csv',\n",
       " '2021-12-21_19h47m36s.csv',\n",
       " '2016-09-22_11h16m42s.csv',\n",
       " '2019-05-07_20h58m07s.csv',\n",
       " '2018-02-18_16h48m58s.csv',\n",
       " '2019-02-11_10h13m25s.csv',\n",
       " '2021-11-22_20h00m41s.csv',\n",
       " '2021-06-16_18h48m18s.csv',\n",
       " '2016-09-21_16h07m00s.csv',\n",
       " '2022-09-09_00h35m57s.csv',\n",
       " '2017-08-07_09h33m31s.csv',\n",
       " '2017-01-31_14h38m10s.csv',\n",
       " '2017-11-16_16h38m11s.csv',\n",
       " '2019-01-25_05h18m40s.csv',\n",
       " '2018-02-13_20h36m51s.csv',\n",
       " '2016-12-16_22h15m27s.csv',\n",
       " '2021-07-23_23h48m56s.csv',\n",
       " '2017-03-06_13h31m28s.csv',\n",
       " '2021-02-22_11h20m53s.csv',\n",
       " '2019-10-26_00h15m42s.csv',\n",
       " '2022-04-22_13h57m25s.csv',\n",
       " '2016-12-13_13h55m37s.csv',\n",
       " '2021-01-06_20h44m23s.csv',\n",
       " '2019-07-18_23h51m14s.csv',\n",
       " '2018-02-13_10h02m38s.csv',\n",
       " '2020-09-11_13h14m59s.csv',\n",
       " '2022-06-12_08h07m32s.csv',\n",
       " '2020-05-21_17h08m46s.csv',\n",
       " '2022-09-02_03h03m41s.csv',\n",
       " '2016-09-21_10h55m30s.csv',\n",
       " '2021-04-30_09h29m56s.csv',\n",
       " '2021-06-16_18h03m55s.csv',\n",
       " '2022-05-30_16h27m57s.csv',\n",
       " '2017-11-10_12h44m19s.csv',\n",
       " '2018-08-01_14h14m17s.csv',\n",
       " '2018-01-19_06h40m16s.csv',\n",
       " '2020-02-06_23h14m51s.csv',\n",
       " '2016-10-01_12h12m19s.csv',\n",
       " '2018-07-23_12h10m59s.csv',\n",
       " '2018-04-27_05h59m17s.csv',\n",
       " '2018-03-23_12h01m08s.csv',\n",
       " '2021-04-17_00h39m18s.csv',\n",
       " '2021-03-22_13h51m44s.csv',\n",
       " '2018-03-26_17h35m44s.csv',\n",
       " '2021-06-16_17h53m00s.csv',\n",
       " '2020-12-04_21h52m25s.csv',\n",
       " '2017-03-15_12h20m04s.csv',\n",
       " '2022-01-12_10h42m57s.csv',\n",
       " '2016-09-30_15h19m47s.csv',\n",
       " '2018-08-01_11h06m55s.csv',\n",
       " '2017-03-14_05h57m36s.csv',\n",
       " '2022-08-24_21h20m07s.csv',\n",
       " '2018-03-28_03h22m01s.csv',\n",
       " '2018-10-25_15h59m00s.csv',\n",
       " '2017-07-18_10h11m46s.csv',\n",
       " '2022-09-24_02h02m11s.csv',\n",
       " '2016-12-21_14h07m40s.csv',\n",
       " '2016-09-30_15h23m12s.csv',\n",
       " '2022-04-18_23h55m22s.csv',\n",
       " '2018-12-18_12h33m17s.csv',\n",
       " '2017-07-24_19h42m31s.csv',\n",
       " '2018-05-15_22h55m43s.csv',\n",
       " '2019-10-25_13h36m31s.csv',\n",
       " '2017-09-15_19h13m37s.csv',\n",
       " '2021-04-07_18h02m26s.csv',\n",
       " '2021-09-22_17h02m11s.csv',\n",
       " '2017-03-15_12h23m55s.csv',\n",
       " '2017-05-16_14h33m03s.csv',\n",
       " '2022-05-19_10h25m34s.csv',\n",
       " '2016-12-13_13h50m11s.csv',\n",
       " '2021-04-17_00h22m44s.csv',\n",
       " '2020-05-21_20h23m10s.csv',\n",
       " '2020-10-29_18h09m04s.csv',\n",
       " '2022-01-10_19h47m27s.csv',\n",
       " '2016-09-30_15h20m56s.csv',\n",
       " '2021-06-30_20h06m40s.csv',\n",
       " '2021-05-13_17h44m25s.csv',\n",
       " '2022-06-11_22h48m25s.csv',\n",
       " '2019-07-17_22h01m46s.csv',\n",
       " '2021-03-29_19h44m55s.csv',\n",
       " '2021-09-27_23h05m13s.csv',\n",
       " '2017-08-03_13h54m41s.csv',\n",
       " '2021-09-27_05h02m11s.csv',\n",
       " '2019-08-21_01h16m20s.csv',\n",
       " '2017-10-26_14h27m45s.csv',\n",
       " '2021-01-04_19h12m37s.csv',\n",
       " '2019-01-22_21h35m13s.csv',\n",
       " '2021-10-12_19h05m58s.csv',\n",
       " '2021-07-06_15h03m52s.csv',\n",
       " '2017-11-16_16h35m38s.csv',\n",
       " '2017-03-17_08h39m50s.csv',\n",
       " '2016-11-21_18h36m57s.csv',\n",
       " '2019-09-05_22h17m40s.csv',\n",
       " '2018-02-23_14h12m27s.csv',\n",
       " '2018-08-01_14h29m27s.csv',\n",
       " '2018-08-01_11h03m42s.csv',\n",
       " '2017-07-28_15h03m31s.csv',\n",
       " '2018-03-30_20h55m30s.csv',\n",
       " '2019-09-05_14h09m10s.csv',\n",
       " '2022-09-24_01h52m50s.csv',\n",
       " '2018-08-21_14h44m14s.csv',\n",
       " '2017-04-13_09h25m18s.csv',\n",
       " '2018-09-15_01h32m52s.csv',\n",
       " '2018-08-01_14h21m22s.csv',\n",
       " '2021-12-09_23h53m39s.csv',\n",
       " '2017-09-06_17h10m25s.csv',\n",
       " '2019-01-25_20h42m15s.csv',\n",
       " '2021-03-29_18h30m44s.csv',\n",
       " '2017-12-19_22h18m58s.csv',\n",
       " '2022-05-27_05h58m08s.csv',\n",
       " '2017-05-09_19h43m56s.csv',\n",
       " '2021-10-19_05h42m32s.csv',\n",
       " '2018-03-29_03h05m06s.csv',\n",
       " '2021-07-14_18h42m21s.csv',\n",
       " '2019-01-01_01h00m29s.csv',\n",
       " '2021-03-22_13h40m42s.csv',\n",
       " '2017-09-14_13h43m01s.csv',\n",
       " '2020-10-29_18h00m57s.csv',\n",
       " '2020-11-18_20h21m56s.csv',\n",
       " '2017-05-07_07h29m01s.csv',\n",
       " '2022-05-12_20h56m05s.csv',\n",
       " '2021-04-24_08h53m04s.csv',\n",
       " '2021-09-16_23h07m29s.csv',\n",
       " '2021-05-11_19h37m28s.csv',\n",
       " '2022-06-03_20h08m04s.csv',\n",
       " '2018-01-18_14h55m11s.csv',\n",
       " '2020-09-24_23h45m35s.csv',\n",
       " '2021-04-16_23h54m24s.csv',\n",
       " '2016-10-01_12h09m56s.csv',\n",
       " '2019-05-15_23h06m40s.csv',\n",
       " '2021-06-16_18h56m20s.csv',\n",
       " '2018-01-12_10h26m08s.csv',\n",
       " '2021-06-21_20h49m28s.csv',\n",
       " '2018-06-21_10h32m41s.csv',\n",
       " '2020-07-29_20h47m49s.csv',\n",
       " '2019-04-12_20h22m31s.csv',\n",
       " '2021-07-01_13h56m49s.csv',\n",
       " '2017-05-16_11h22m50s.csv',\n",
       " '2017-05-02_12h35m09s.csv',\n",
       " '2021-02-04_21h51m53s.csv',\n",
       " '2017-10-10_14h22m27s.csv',\n",
       " '2018-05-24_09h36m43s.csv',\n",
       " '2022-01-31_09h30m29s.csv',\n",
       " '2017-03-15_11h39m30s.csv',\n",
       " '2017-10-24_13h41m42s.csv',\n",
       " '2021-10-22_19h04m24s.csv',\n",
       " '2021-05-18_11h20m56s.csv',\n",
       " '2019-07-24_00h05m07s.csv',\n",
       " '2021-04-29_18h05m33s.csv',\n",
       " '2022-02-23_19h49m15s.csv',\n",
       " '2017-04-11_17h20m04s.csv',\n",
       " '2017-04-19_16h28m02s.csv',\n",
       " '2017-03-31_09h58m35s.csv',\n",
       " '2016-11-17_20h05m40s.csv',\n",
       " '2016-10-01_12h10m16s.csv',\n",
       " '2018-04-04_17h10m27s.csv',\n",
       " '2021-03-04_23h30m46s.csv',\n",
       " '2016-09-21_16h06m59s.csv',\n",
       " '2018-08-01_13h32m20s.csv',\n",
       " '2020-07-07_23h29m46s.csv',\n",
       " '2017-08-09_03h02m01s.csv',\n",
       " '2016-09-30_15h22m20s.csv',\n",
       " '2021-06-01_14h32m18s.csv',\n",
       " '2022-06-04_01h09m55s.csv',\n",
       " '2017-09-27_10h13m43s.csv',\n",
       " '2019-11-20_16h30m25s.csv',\n",
       " '2017-11-16_16h36m44s.csv',\n",
       " '2018-07-27_18h04m54s.csv',\n",
       " '2016-12-13_13h48m58s.csv',\n",
       " '2021-05-30_19h08m31s.csv',\n",
       " '2021-03-22_13h59m01s.csv',\n",
       " '2018-07-12_05h46m20s.csv',\n",
       " '2022-01-31_21h47m16s.csv',\n",
       " '2018-08-17_21h23m30s.csv',\n",
       " '2020-06-05_00h52m35s.csv',\n",
       " '2017-03-29_14h25m26s.csv',\n",
       " '2017-08-07_11h36m05s.csv',\n",
       " '2020-03-02_11h38m22s.csv',\n",
       " '2017-11-16_16h34m43s.csv',\n",
       " '2022-05-12_20h08m36s.csv',\n",
       " '2021-07-21_16h59m22s.csv',\n",
       " '2021-09-03_11h43m13s.csv',\n",
       " '2021-04-16_22h41m08s.csv',\n",
       " '2021-09-15_20h25m03s.csv',\n",
       " '2022-04-19_20h47m01s.csv',\n",
       " '2021-08-25_22h58m45s.csv',\n",
       " '2017-08-30_09h26m47s.csv',\n",
       " '2020-10-29_18h04m02s.csv',\n",
       " '2017-07-04_09h31m30s.csv',\n",
       " '2017-10-26_14h26m51s.csv',\n",
       " '2020-12-09_22h30m47s.csv',\n",
       " '2021-06-14_17h42m34s.csv',\n",
       " '2017-08-17_16h23m46s.csv',\n",
       " '2017-09-01_19h53m47s.csv',\n",
       " '2019-02-25_22h53m07s.csv',\n",
       " '2021-04-20_21h33m49s.csv',\n",
       " '2018-10-06_00h45m03s.csv',\n",
       " '2016-10-01_12h22m12s.csv',\n",
       " '2017-06-20_09h18m28s.csv',\n",
       " '2019-07-16_18h04m43s.csv',\n",
       " '2019-01-01_01h03m53s.csv',\n",
       " '2022-07-16_07h21m09s.csv',\n",
       " '2021-09-24_17h51m42s.csv',\n",
       " '2020-11-16_11h23m40s.csv',\n",
       " '2017-03-24_10h57m19s.csv',\n",
       " '2018-02-14_01h11m28s.csv',\n",
       " '2021-12-02_00h41m12s.csv',\n",
       " '2017-11-10_13h02m08s.csv',\n",
       " '2017-03-10_19h55m50s.csv',\n",
       " '2021-11-18_20h09m55s.csv',\n",
       " '2019-08-31_22h07m34s.csv',\n",
       " '2019-07-11_02h08m58s.csv',\n",
       " '2017-10-31_14h57m15s.csv',\n",
       " '2021-11-29_10h53m25s.csv',\n",
       " '2019-02-15_22h56m20s.csv',\n",
       " '2021-11-18_20h09m21s.csv',\n",
       " '2016-10-13_12h09m30s.csv',\n",
       " '2016-09-21_10h44m53s.csv',\n",
       " '2019-01-11_18h51m43s.csv',\n",
       " '2021-12-17_18h08m15s.csv',\n",
       " '2021-07-28_15h42m57s.csv',\n",
       " '2019-03-28_09h18m57s.csv',\n",
       " '2017-10-26_14h27m53s.csv',\n",
       " '2017-06-20_09h11m44s.csv',\n",
       " '2022-05-21_20h06m53s.csv',\n",
       " '2016-09-30_15h20m01s.csv',\n",
       " '2017-10-26_14h26m05s.csv',\n",
       " '2021-05-11_16h44m14s.csv',\n",
       " '2016-10-01_12h15m38s.csv',\n",
       " '2019-01-25_20h34m36s.csv',\n",
       " '2022-07-02_02h08m12s.csv',\n",
       " '2021-09-16_18h57m36s.csv',\n",
       " '2021-08-25_22h56m56s.csv',\n",
       " '2021-12-10_20h27m46s.csv',\n",
       " '2021-11-18_23h17m34s.csv',\n",
       " '2017-10-26_14h30m07s.csv',\n",
       " '2019-01-25_20h27m55s.csv',\n",
       " '2021-05-11_19h42m24s.csv',\n",
       " '2017-03-15_11h39m40s.csv',\n",
       " '2020-01-16_00h04m19s.csv',\n",
       " '2016-12-12_10h03m41s.csv',\n",
       " '2021-12-30_03h00m53s.csv',\n",
       " '2022-01-06_23h32m29s.csv',\n",
       " '2018-07-27_18h10m54s.csv',\n",
       " '2022-06-24_00h17m08s.csv',\n",
       " '2019-01-25_20h30m05s.csv',\n",
       " '2019-01-07_07h33m40s.csv',\n",
       " '2022-01-10_19h25m33s.csv',\n",
       " '2018-07-12_05h46m53s.csv',\n",
       " '2022-07-23_22h49m15s.csv',\n",
       " '2018-05-30_10h58m48s.csv',\n",
       " '2019-07-24_00h20m20s.csv',\n",
       " '2016-10-01_12h10m32s.csv',\n",
       " '2019-01-25_20h20m02s.csv',\n",
       " '2022-09-07_19h46m04s.csv',\n",
       " '2018-06-14_22h22m09s.csv',\n",
       " '2022-04-01_21h01m59s.csv',\n",
       " '2021-11-19_23h12m47s.csv',\n",
       " '2021-12-01_18h16m10s.csv',\n",
       " '2018-12-18_23h26m38s.csv',\n",
       " '2018-10-06_00h14m13s.csv',\n",
       " '2022-07-13_21h28m10s.csv',\n",
       " '2019-09-05_22h29m31s.csv',\n",
       " '2016-11-25_12h10m00s.csv',\n",
       " '2020-05-17_08h59m34s.csv',\n",
       " '2017-06-20_09h12m20s.csv',\n",
       " '2018-08-01_14h24m14s.csv',\n",
       " '2017-09-26_23h03m44s.csv',\n",
       " '2022-05-18_01h14m25s.csv',\n",
       " '2022-04-22_13h58m27s.csv',\n",
       " '2022-09-24_02h03m19s.csv',\n",
       " '2018-07-12_09h29m50s.csv',\n",
       " '2016-12-13_13h52m01s.csv',\n",
       " '2022-09-28_16h17m16s.csv',\n",
       " '2022-09-24_00h28m42s.csv',\n",
       " '2022-03-16_00h52m31s.csv',\n",
       " '2022-09-15_11h26m37s.csv',\n",
       " '2021-10-25_23h40m15s.csv',\n",
       " '2021-06-21_20h53m07s.csv',\n",
       " '2017-11-16_16h36m37s.csv',\n",
       " '2021-08-02_15h45m02s.csv',\n",
       " '2020-05-27_20h17m42s.csv',\n",
       " '2020-02-24_20h44m17s.csv',\n",
       " '2021-06-21_18h38m44s.csv',\n",
       " '2017-05-03_18h42m38s.csv',\n",
       " '2017-10-26_14h29m39s.csv',\n",
       " '2019-11-28_10h39m21s.csv',\n",
       " '2020-12-04_22h06m42s.csv',\n",
       " '2018-10-08_01h26m58s.csv',\n",
       " '2019-10-04_18h30m42s.csv',\n",
       " '2020-06-18_01h19m01s.csv',\n",
       " '2021-06-30_20h06m19s.csv',\n",
       " '2018-10-25_14h46m37s.csv',\n",
       " '2022-03-08_00h27m56s.csv',\n",
       " '2016-10-14_00h00m01s.csv',\n",
       " '2022-09-24_00h37m23s.csv',\n",
       " '2022-05-02_18h59m55s.csv',\n",
       " '2020-01-13_23h01m15s.csv',\n",
       " '2022-04-08_08h23m22s.csv',\n",
       " '2017-06-02_13h26m48s.csv',\n",
       " '2022-09-08_23h58m41s.csv',\n",
       " '2016-10-01_12h26m12s.csv',\n",
       " '2017-07-11_09h03m42s.csv',\n",
       " '2021-02-22_16h53m06s.csv',\n",
       " '2020-09-24_23h46m12s.csv',\n",
       " '2016-11-16_08h54m21s.csv',\n",
       " '2017-11-06_15h10m07s.csv',\n",
       " '2021-12-01_18h47m36s.csv',\n",
       " '2017-03-15_12h18m03s.csv',\n",
       " '2019-12-09_21h07m16s.csv',\n",
       " '2019-10-25_00h00m33s.csv',\n",
       " '2021-09-08_00h24m06s.csv',\n",
       " '2017-03-15_12h18m39s.csv',\n",
       " '2018-08-01_14h16m31s.csv',\n",
       " '2017-04-26_08h18m31s.csv',\n",
       " '2016-09-21_16h06m57s.csv',\n",
       " '2017-11-16_16h35m51s.csv',\n",
       " '2016-12-16_22h15m07s.csv',\n",
       " '2019-05-31_20h52m48s.csv',\n",
       " '2021-09-11_20h45m11s.csv',\n",
       " '2022-09-07_20h01m14s.csv',\n",
       " '2019-05-10_20h18m39s.csv',\n",
       " '2022-01-11_05h54m46s.csv',\n",
       " '2018-09-20_04h57m51s.csv',\n",
       " '2021-12-10_19h17m00s.csv',\n",
       " '2022-09-24_01h57m34s.csv',\n",
       " '2017-05-09_05h43m24s.csv',\n",
       " '2017-09-08_11h41m27s.csv',\n",
       " '2017-10-26_14h27m27s.csv',\n",
       " '2017-11-16_16h35m43s.csv',\n",
       " '2018-10-11_01h38m52s.csv',\n",
       " '2020-02-17_18h19m25s.csv',\n",
       " '2018-06-19_14h25m04s.csv',\n",
       " '2021-10-28_00h20m29s.csv',\n",
       " '2019-01-25_20h23m58s.csv',\n",
       " '2018-10-25_14h44m49s.csv',\n",
       " '2017-05-22_14h50m37s.csv',\n",
       " '2017-05-18_18h30m26s.csv',\n",
       " '2022-09-02_03h02m10s.csv',\n",
       " '2017-10-26_14h26m59s.csv',\n",
       " '2018-12-18_04h20m35s.csv',\n",
       " '2019-09-12_00h42m06s.csv',\n",
       " '2018-12-31_20h35m45s.csv',\n",
       " '2020-05-21_17h07m47s.csv',\n",
       " '2019-05-28_13h47m16s.csv',\n",
       " '2020-06-12_17h58m11s.csv',\n",
       " '2020-10-01_18h55m21s.csv',\n",
       " '2019-01-31_22h59m26s.csv',\n",
       " '2021-01-25_09h00m45s.csv',\n",
       " '2018-04-04_11h40m29s.csv',\n",
       " '2016-09-30_15h24m27s.csv',\n",
       " '2019-07-24_22h18m56s.csv',\n",
       " '2017-10-26_14h30m05s.csv',\n",
       " '2018-05-29_11h22m56s.csv',\n",
       " '2018-05-29_11h27m19s.csv',\n",
       " '2020-09-13_22h32m24s.csv',\n",
       " '2022-01-24_12h41m34s.csv',\n",
       " '2021-11-15_19h29m33s.csv',\n",
       " '2018-04-03_02h49m04s.csv',\n",
       " '2016-10-01_12h22m03s.csv',\n",
       " '2022-09-24_01h43m35s.csv',\n",
       " '2016-10-01_12h13m49s.csv',\n",
       " '2016-11-21_12h56m44s.csv',\n",
       " '2017-03-11_19h44m47s.csv',\n",
       " '2022-01-25_08h08m02s.csv',\n",
       " '2022-03-29_23h03m01s.csv',\n",
       " '2017-08-04_12h33m17s.csv',\n",
       " '2022-09-24_02h06m05s.csv',\n",
       " '2017-09-14_09h49m14s.csv',\n",
       " '2016-09-30_15h24m43s.csv',\n",
       " '2018-10-15_20h09m22s.csv',\n",
       " '2022-09-09_00h34m25s.csv',\n",
       " '2019-01-01_01h13m47s.csv',\n",
       " '2018-02-19_15h28m15s.csv',\n",
       " '2020-12-09_21h51m46s.csv',\n",
       " '2022-09-07_20h16m07s.csv',\n",
       " '2022-01-24_12h07m50s.csv',\n",
       " '2020-07-15_16h57m51s.csv',\n",
       " '2021-06-28_03h09m59s.csv',\n",
       " '2017-10-26_14h27m41s.csv',\n",
       " '2021-12-14_22h41m45s.csv',\n",
       " '2021-12-10_19h41m35s.csv',\n",
       " '2019-01-07_06h44m16s.csv',\n",
       " '2017-03-14_17h38m46s.csv',\n",
       " '2017-09-20_18h27m41s.csv',\n",
       " '2019-07-04_09h52m06s.csv',\n",
       " '2017-11-16_16h35m45s.csv',\n",
       " '2018-06-12_11h44m53s.csv',\n",
       " '2016-09-30_15h23m57s.csv',\n",
       " '2021-02-02_19h16m32s.csv',\n",
       " '2016-09-30_15h23m38s.csv',\n",
       " '2017-05-07_09h41m33s.csv',\n",
       " '2018-07-06_01h03m06s.csv',\n",
       " '2021-05-28_15h14m16s.csv',\n",
       " '2019-01-28_04h07m24s.csv',\n",
       " '2022-06-09_20h33m39s.csv',\n",
       " '2020-02-19_00h03m48s.csv',\n",
       " '2021-05-21_20h16m39s.csv',\n",
       " '2018-05-06_21h51m27s.csv',\n",
       " '2022-02-18_20h13m13s.csv',\n",
       " '2022-09-24_01h49m25s.csv',\n",
       " '2022-03-08_22h31m31s.csv',\n",
       " '2018-03-29_19h54m56s.csv',\n",
       " '2016-10-04_14h16m23s.csv',\n",
       " '2019-11-06_21h36m56s.csv',\n",
       " '2020-06-18_00h37m15s.csv',\n",
       " '2017-05-16_14h11m12s.csv',\n",
       " '2018-02-19_19h41m03s.csv',\n",
       " '2017-05-19_19h32m41s.csv',\n",
       " '2022-04-28_23h52m58s.csv',\n",
       " '2019-03-14_13h54m36s.csv',\n",
       " '2022-09-07_20h49m06s.csv',\n",
       " '2022-06-08_00h55m28s.csv',\n",
       " '2018-05-22_12h41m03s.csv',\n",
       " '2021-07-26_19h49m14s.csv',\n",
       " '2022-06-03_20h34m09s.csv',\n",
       " '2016-09-30_15h24m34s.csv',\n",
       " '2021-06-21_20h13m25s.csv',\n",
       " '2017-07-21_22h20m26s.csv',\n",
       " '2019-06-18_19h31m41s.csv',\n",
       " '2021-03-29_18h58m28s.csv',\n",
       " '2017-10-18_10h57m41s.csv',\n",
       " '2017-11-30_10h05m20s.csv',\n",
       " '2019-01-25_20h12m30s.csv',\n",
       " '2020-06-15_22h11m57s.csv',\n",
       " '2017-03-16_14h21m25s.csv',\n",
       " '2020-06-05_00h55m17s.csv',\n",
       " '2017-12-21_07h22m01s.csv',\n",
       " '2018-09-17_20h51m29s.csv',\n",
       " '2017-03-10_22h39m39s.csv',\n",
       " '2022-05-23_14h50m19s.csv',\n",
       " '2022-09-12_20h58m17s.csv',\n",
       " '2021-07-23_23h00m42s.csv',\n",
       " '2016-10-01_12h21m40s.csv',\n",
       " '2017-03-14_14h34m09s.csv',\n",
       " '2022-09-24_02h14m38s.csv',\n",
       " '2016-12-21_14h08m11s.csv',\n",
       " '2020-09-11_13h17m24s.csv',\n",
       " '2017-11-16_16h34m19s.csv',\n",
       " '2019-01-25_20h38m15s.csv',\n",
       " '2022-09-24_00h41m28s.csv',\n",
       " '2017-09-23_11h29m21s.csv',\n",
       " '2022-09-09_00h55m14s.csv',\n",
       " '2022-05-23_15h09m38s.csv',\n",
       " '2017-10-26_14h29m48s.csv',\n",
       " '2018-12-18_04h37m14s.csv',\n",
       " '2019-11-06_21h43m15s.csv',\n",
       " '2021-11-19_23h21m55s.csv',\n",
       " '2018-08-01_11h05m56s.csv',\n",
       " '2019-03-08_16h46m27s.csv',\n",
       " '2022-06-23_23h19m45s.csv',\n",
       " '2022-09-23_19h54m41s.csv',\n",
       " '2017-03-29_16h19m13s.csv',\n",
       " '2016-09-30_15h22m10s.csv',\n",
       " '2018-05-29_11h24m00s.csv',\n",
       " '2018-06-13_15h52m15s.csv',\n",
       " '2016-11-21_23h34m43s.csv',\n",
       " '2017-04-05_11h04m36s.csv',\n",
       " '2020-07-07_17h25m54s.csv',\n",
       " '2018-02-06_20h58m15s.csv',\n",
       " '2022-07-08_18h05m11s.csv',\n",
       " '2021-04-14_18h12m56s.csv',\n",
       " '2017-06-20_09h11m13s.csv',\n",
       " '2021-04-26_21h27m54s.csv',\n",
       " '2021-05-04_21h04m21s.csv',\n",
       " '2021-10-11_22h02m30s.csv',\n",
       " '2017-04-13_18h44m00s.csv',\n",
       " '2022-08-23_23h48m59s.csv',\n",
       " '2021-11-19_13h06m51s.csv',\n",
       " '2022-03-30_19h09m25s.csv',\n",
       " '2017-02-09_03h02m19s.csv',\n",
       " '2022-09-24_00h12m52s.csv',\n",
       " '2016-10-01_12h15m47s.csv',\n",
       " '2021-07-26_19h50m11s.csv',\n",
       " '2017-07-18_17h21m08s.csv',\n",
       " '2021-09-22_17h23m39s.csv',\n",
       " '2018-05-20_22h50m27s.csv',\n",
       " '2017-12-15_12h37m04s.csv',\n",
       " '2019-11-12_22h13m45s.csv',\n",
       " '2022-03-15_20h56m13s.csv',\n",
       " '2022-01-19_15h11m01s.csv',\n",
       " '2017-08-07_15h34m33s.csv',\n",
       " '2017-10-04_01h30m02s.csv',\n",
       " '2018-06-13_04h51m16s.csv',\n",
       " '2018-04-04_17h11m32s.csv',\n",
       " '2022-09-09_00h52m16s.csv',\n",
       " '2019-04-22_21h13m07s.csv',\n",
       " '2022-09-16_08h10m36s.csv',\n",
       " '2021-05-25_19h35m04s.csv',\n",
       " '2021-03-12_20h00m13s.csv',\n",
       " '2017-08-01_07h51m51s.csv',\n",
       " '2017-03-10_23h21m08s.csv',\n",
       " '2021-12-06_17h34m44s.csv',\n",
       " '2017-02-09_03h02m47s.csv',\n",
       " '2021-04-21_00h46m51s.csv',\n",
       " '2017-07-20_07h39m24s.csv',\n",
       " '2017-03-14_17h39m47s.csv',\n",
       " '2020-08-25_00h03m38s.csv',\n",
       " '2022-09-02_03h02m38s.csv',\n",
       " '2017-08-02_00h07m28s.csv',\n",
       " '2016-09-30_15h24m42s.csv',\n",
       " '2022-01-06_23h31m52s.csv',\n",
       " '2020-08-11_15h16m52s.csv',\n",
       " '2020-06-18_01h14m53s.csv',\n",
       " '2016-11-22_02h00m45s.csv',\n",
       " '2021-05-04_20h38m11s.csv',\n",
       " '2020-10-29_18h15m12s.csv',\n",
       " '2018-09-12_09h22m21s.csv',\n",
       " '2017-08-07_19h42m39s.csv',\n",
       " '2020-10-09_10h38m45s.csv',\n",
       " '2022-03-26_19h16m18s.csv',\n",
       " '2021-02-04_14h37m14s.csv',\n",
       " '2018-01-16_13h56m54s.csv',\n",
       " '2020-10-29_18h18m13s.csv',\n",
       " '2022-02-17_20h56m35s.csv',\n",
       " '2019-05-10_23h18m37s.csv',\n",
       " '2019-01-07_07h52m38s.csv',\n",
       " '2022-09-17_20h58m32s.csv',\n",
       " '2022-09-09_00h15m16s.csv',\n",
       " '2018-02-19_12h43m32s.csv',\n",
       " '2019-01-21_15h59m30s.csv',\n",
       " '2019-01-25_20h22m13s.csv',\n",
       " '2021-06-21_19h54m36s.csv',\n",
       " '2022-03-11_22h28m46s.csv',\n",
       " '2021-06-15_19h43m38s.csv',\n",
       " '2017-07-05_07h31m58s.csv',\n",
       " '2018-11-16_15h16m48s.csv',\n",
       " '2021-07-15_22h33m05s.csv',\n",
       " '2021-05-04_21h20m32s.csv',\n",
       " '2019-01-14_15h30m51s.csv',\n",
       " '2019-10-02_23h29m02s.csv',\n",
       " '2017-03-03_05h57m45s.csv',\n",
       " '2019-01-25_20h30m43s.csv',\n",
       " '2017-06-01_11h20m52s.csv',\n",
       " '2017-08-01_07h50m05s.csv',\n",
       " '2020-12-22_22h54m28s.csv',\n",
       " '2017-05-07_08h05m27s.csv',\n",
       " '2022-07-13_21h31m13s.csv',\n",
       " '2022-01-27_05h27m57s.csv',\n",
       " '2018-03-30_22h55m21s.csv',\n",
       " '2019-08-23_17h15m55s.csv',\n",
       " '2017-10-26_14h29m41s.csv',\n",
       " '2018-11-08_15h35m30s.csv',\n",
       " '2021-04-27_18h45m26s.csv',\n",
       " '2021-03-16_23h26m40s.csv',\n",
       " '2018-04-27_16h56m19s.csv',\n",
       " '2018-07-23_11h56m56s.csv',\n",
       " '2022-06-11_22h29m46s.csv',\n",
       " '2021-12-27_02h45m21s.csv',\n",
       " '2018-02-15_10h59m46s.csv',\n",
       " '2021-09-27_22h55m45s.csv',\n",
       " '2019-03-12_09h58m32s.csv',\n",
       " '2017-11-16_15h04m29s.csv',\n",
       " '2019-08-18_15h39m14s.csv',\n",
       " '2017-01-26_09h00m05s.csv',\n",
       " '2022-09-15_03h34m59s.csv',\n",
       " '2018-04-12_23h14m39s.csv',\n",
       " '2017-11-16_16h38m30s.csv',\n",
       " '2021-05-04_20h47m58s.csv',\n",
       " '2019-01-25_20h22m45s.csv',\n",
       " '2016-12-13_13h50m17s.csv',\n",
       " '2019-01-25_20h40m10s.csv',\n",
       " '2019-12-11_17h10m47s.csv',\n",
       " '2022-01-27_05h57m22s.csv',\n",
       " '2017-10-17_09h00m49s.csv',\n",
       " '2018-09-12_09h30m56s.csv',\n",
       " '2016-12-13_13h55m08s.csv',\n",
       " '2016-09-30_15h19m18s.csv',\n",
       " '2016-09-30_15h24m03s.csv',\n",
       " '2021-05-17_17h08m57s.csv',\n",
       " '2017-05-22_14h22m54s.csv',\n",
       " '2018-07-14_04h53m26s.csv',\n",
       " '2021-05-26_16h03m21s.csv',\n",
       " '2018-06-22_19h16m08s.csv',\n",
       " '2016-09-30_15h18m34s.csv',\n",
       " '2019-07-24_22h10m27s.csv',\n",
       " '2019-07-17_19h05m45s.csv',\n",
       " '2019-07-16_18h50m17s.csv',\n",
       " '2018-07-23_12h19m37s.csv',\n",
       " '2016-11-18_15h15m24s.csv',\n",
       " '2018-06-08_17h02m23s.csv',\n",
       " '2018-02-21_12h25m02s.csv',\n",
       " '2021-06-23_23h31m17s.csv',\n",
       " '2019-06-14_15h58m26s.csv',\n",
       " '2018-09-24_09h56m16s.csv',\n",
       " '2017-05-11_13h41m04s.csv',\n",
       " '2018-08-01_14h20m46s.csv',\n",
       " '2016-09-30_15h20m45s.csv',\n",
       " '2017-11-16_16h37m05s.csv',\n",
       " '2016-12-13_13h59m32s.csv',\n",
       " '2018-10-25_16h01m54s.csv',\n",
       " '2019-09-12_00h13m11s.csv',\n",
       " '2017-11-16_16h35m25s.csv',\n",
       " '2019-01-16_22h53m57s.csv',\n",
       " '2021-07-15_17h20m16s.csv',\n",
       " '2017-08-15_07h56m31s.csv',\n",
       " '2021-12-06_17h33m29s.csv',\n",
       " '2017-09-26_23h01m57s.csv',\n",
       " '2022-09-09_00h37m18s.csv',\n",
       " '2017-06-14_09h23m23s.csv',\n",
       " '2022-08-05_22h30m25s.csv',\n",
       " '2020-02-06_22h12m21s.csv',\n",
       " '2018-02-16_12h02m57s.csv',\n",
       " '2019-01-25_20h27m23s.csv',\n",
       " '2016-09-30_15h19m10s.csv',\n",
       " '2021-03-24_09h46m54s.csv',\n",
       " '2016-10-01_12h12m43s.csv',\n",
       " '2021-11-08_21h02m08s.csv',\n",
       " '2017-05-02_17h04m13s.csv',\n",
       " '2017-04-09_16h35m33s.csv',\n",
       " '2021-04-21_01h16m56s.csv',\n",
       " '2016-12-13_13h53m24s.csv',\n",
       " '2017-02-24_15h47m37s.csv',\n",
       " '2016-12-16_22h07m18s.csv',\n",
       " '2020-08-17_20h59m54s.csv',\n",
       " '2017-08-03_13h51m53s.csv',\n",
       " '2016-09-22_11h16m26s.csv',\n",
       " '2018-09-04_00h50m59s.csv',\n",
       " '2021-09-27_18h57m26s.csv',\n",
       " '2020-08-11_15h11m00s.csv',\n",
       " '2021-12-15_23h36m19s.csv',\n",
       " '2017-10-26_14h29m34s.csv',\n",
       " '2016-12-15_14h44m22s.csv',\n",
       " '2019-01-25_20h09m54s.csv',\n",
       " '2019-05-07_21h25m51s.csv',\n",
       " '2017-03-10_22h43m25s.csv',\n",
       " '2016-12-13_13h54m45s.csv',\n",
       " '2017-11-13_18h03m32s.csv',\n",
       " '2018-09-24_16h08m49s.csv',\n",
       " '2019-02-15_16h39m28s.csv',\n",
       " '2022-09-23_20h15m22s.csv',\n",
       " '2022-06-25_19h48m26s.csv',\n",
       " '2022-09-24_00h32m40s.csv',\n",
       " '2017-03-06_09h24m43s.csv',\n",
       " '2019-01-25_20h11m33s.csv',\n",
       " '2022-01-17_22h44m46s.csv',\n",
       " '2016-09-30_15h23m53s.csv',\n",
       " '2022-05-13_17h54m05s.csv',\n",
       " '2022-09-24_02h02m34s.csv',\n",
       " '2021-10-11_21h07m40s.csv',\n",
       " '2021-06-14_19h18m24s.csv',\n",
       " '2019-07-16_17h42m22s.csv',\n",
       " '2022-06-09_20h35m35s.csv',\n",
       " '2021-06-29_03h43m04s.csv',\n",
       " '2022-05-23_14h47m55s.csv',\n",
       " '2017-10-26_14h26m40s.csv',\n",
       " '2018-08-15_13h03m38s.csv',\n",
       " '2017-02-27_08h13m06s.csv',\n",
       " '2018-08-01_10h39m53s.csv',\n",
       " '2018-01-18_14h26m27s.csv',\n",
       " '2017-09-25_10h05m04s.csv',\n",
       " '2022-06-11_22h33m32s.csv',\n",
       " '2017-03-24_11h03m28s.csv',\n",
       " '2021-05-19_20h02m18s.csv',\n",
       " '2022-06-11_22h44m09s.csv',\n",
       " '2019-10-29_16h28m34s.csv',\n",
       " '2019-01-25_20h42m01s.csv',\n",
       " '2018-08-01_14h19m26s.csv',\n",
       " '2017-11-16_16h36m22s.csv',\n",
       " '2022-07-23_22h47m12s.csv',\n",
       " '2021-03-31_00h28m24s.csv',\n",
       " '2020-05-15_02h34m52s.csv',\n",
       " '2019-09-27_19h36m57s.csv',\n",
       " '2017-03-14_05h54m15s.csv',\n",
       " '2016-12-16_22h10m58s.csv',\n",
       " '2021-05-19_20h01m23s.csv',\n",
       " '2018-12-13_01h18m32s.csv',\n",
       " '2021-08-05_19h41m17s.csv',\n",
       " '2017-03-14_06h02m25s.csv',\n",
       " '2021-11-30_18h15m46s.csv',\n",
       " '2018-05-07_06h25m11s.csv',\n",
       " '2018-06-22_12h15m42s.csv',\n",
       " '2018-02-09_04h21m14s.csv',\n",
       " '2016-09-30_15h21m20s.csv',\n",
       " '2021-06-25_22h04m35s.csv',\n",
       " '2018-08-26_18h03m15s.csv',\n",
       " '2021-05-11_19h40m24s.csv',\n",
       " '2020-07-28_20h39m14s.csv',\n",
       " '2020-08-11_14h47m17s.csv',\n",
       " '2017-07-27_13h16m28s.csv',\n",
       " '2017-06-23_07h23m06s.csv',\n",
       " '2017-10-26_17h06m24s.csv',\n",
       " '2022-09-07_19h24m08s.csv',\n",
       " '2018-07-21_11h24m16s.csv',\n",
       " '2017-10-26_14h30m14s.csv',\n",
       " '2017-05-03_17h55m34s.csv',\n",
       " '2022-01-18_00h25m47s.csv',\n",
       " '2021-06-23_23h19m07s.csv',\n",
       " '2022-06-03_20h08m52s.csv',\n",
       " '2016-10-01_12h10m37s.csv',\n",
       " '2022-09-24_00h09m42s.csv',\n",
       " '2017-08-03_15h09m06s.csv',\n",
       " '2018-06-30_00h17m52s.csv',\n",
       " '2017-03-11_19h49m12s.csv',\n",
       " '2017-03-01_11h00m22s.csv',\n",
       " '2021-05-27_22h15m13s.csv',\n",
       " '2021-05-07_19h54m20s.csv',\n",
       " '2017-09-11_22h47m32s.csv',\n",
       " '2021-06-16_17h59m41s.csv',\n",
       " '2019-04-29_17h12m19s.csv',\n",
       " '2017-07-21_09h19m20s.csv',\n",
       " '2022-08-24_19h47m17s.csv',\n",
       " '2021-05-03_11h38m22s.csv',\n",
       " '2021-06-16_18h28m05s.csv',\n",
       " '2018-05-30_12h35m54s.csv',\n",
       " '2017-03-10_23h15m51s.csv',\n",
       " '2021-05-26_16h04m00s.csv',\n",
       " '2021-11-04_12h13m03s.csv',\n",
       " '2019-01-22_16h50m14s.csv',\n",
       " '2021-01-07_20h54m53s.csv',\n",
       " '2022-02-03_20h15m22s.csv',\n",
       " '2021-11-29_13h12m36s.csv',\n",
       " '2020-06-15_21h46m07s.csv',\n",
       " '2016-09-30_15h19m50s.csv',\n",
       " '2020-08-25_00h04m30s.csv',\n",
       " '2022-07-13_21h28m34s.csv',\n",
       " '2018-05-30_13h28m54s.csv',\n",
       " '2018-01-04_10h51m07s.csv',\n",
       " '2021-09-11_20h39m45s.csv',\n",
       " '2018-05-22_16h09m58s.csv',\n",
       " '2021-06-09_13h24m36s.csv',\n",
       " '2016-11-30_03h08m24s.csv',\n",
       " '2020-12-23_10h14m19s.csv',\n",
       " '2021-04-26_20h42m54s.csv',\n",
       " '2018-04-11_00h14m34s.csv',\n",
       " '2019-12-12_19h29m08s.csv',\n",
       " '2022-01-19_03h09m11s.csv',\n",
       " '2016-12-16_22h06m04s.csv',\n",
       " '2021-12-21_20h41m15s.csv',\n",
       " '2017-03-03_16h51m00s.csv',\n",
       " '2019-07-17_18h19m39s.csv',\n",
       " '2022-05-21_20h06m35s.csv',\n",
       " '2017-05-03_17h53m50s.csv',\n",
       " '2016-09-30_15h21m02s.csv',\n",
       " '2019-07-11_00h58m31s.csv',\n",
       " '2017-06-27_05h09m11s.csv',\n",
       " '2020-02-25_21h02m28s.csv',\n",
       " '2022-04-23_02h41m27s.csv',\n",
       " '2021-10-11_19h38m30s.csv',\n",
       " '2021-06-21_19h47m17s.csv',\n",
       " '2018-08-21_21h56m34s.csv',\n",
       " '2022-05-23_15h09m11s.csv',\n",
       " '2022-03-13_16h32m25s.csv',\n",
       " '2021-06-25_22h06m29s.csv',\n",
       " '2017-05-07_09h43m22s.csv',\n",
       " '2018-06-12_13h38m16s.csv',\n",
       " '2018-06-17_17h58m53s.csv',\n",
       " '2017-05-22_14h46m06s.csv',\n",
       " '2016-12-16_22h07m04s.csv',\n",
       " '2019-11-20_09h56m21s.csv',\n",
       " '2021-11-04_17h07m22s.csv',\n",
       " '2017-03-10_22h54m56s.csv',\n",
       " '2020-05-29_20h35m53s.csv',\n",
       " '2022-06-09_20h32m28s.csv',\n",
       " '2017-07-12_09h22m56s.csv',\n",
       " '2019-08-19_11h28m42s.csv',\n",
       " '2018-06-17_15h28m20s.csv',\n",
       " ...]"
      ]
     },
     "execution_count": 8,
     "metadata": {},
     "output_type": "execute_result"
    }
   ],
   "source": [
    "os.listdir('/scratch/trose/')"
   ]
  },
  {
   "cell_type": "code",
   "execution_count": 24,
   "id": "8ee9574e-eefd-4e94-96ad-df3976e00d52",
   "metadata": {
    "tags": []
   },
   "outputs": [
    {
     "name": "stderr",
     "output_type": "stream",
     "text": [
      "100%|██████████| 7040/7040 [11:45<00:00,  9.98it/s]  \n"
     ]
    }
   ],
   "source": [
    "database = ('HMDB', 'v4')\n",
    "counter = 0\n",
    "for ds in tqdm(dss):\n",
    "    #print(counter, '/', len(dss))\n",
    "    # counter += 1\n",
    "    if ds.status == 'FINISHED':\n",
    "        if database in [(x.name, x.version) for x in dss[0].database_details]:\n",
    "            if ds.id + '.csv' not in os.listdir('/scratch/trose/'):\n",
    "                #counter +=1\n",
    "                #print(ds.id)\n",
    "                tmp_tab = ds.results(database=database)\n",
    "                if tmp_tab.size > 0:\n",
    "                    tmp_tab.to_csv('/scratch/trose/' + ds.id + \".csv\")\n",
    "                    counter += 1"
   ]
  },
  {
   "cell_type": "code",
   "execution_count": 25,
   "id": "0da70891-a0a9-41f6-868b-67af7f736383",
   "metadata": {},
   "outputs": [
    {
     "data": {
      "text/plain": [
       "True"
      ]
     },
     "execution_count": 25,
     "metadata": {},
     "output_type": "execute_result"
    }
   ],
   "source": [
    "dss[456].id + '.csv' in os.listdir('/scratch/trose/')"
   ]
  },
  {
   "cell_type": "code",
   "execution_count": 26,
   "id": "c4ac39ab-7577-4a0e-8102-310479c3ca02",
   "metadata": {},
   "outputs": [
    {
     "name": "stderr",
     "output_type": "stream",
     "text": [
      "  0%|          | 1/7040 [00:00<16:37,  7.06it/s]\n"
     ]
    }
   ],
   "source": [
    "database = ('HMDB', 'v4')\n",
    "counter = 0\n",
    "for ds in tqdm(dss):\n",
    "    #print(counter, '/', len(dss))\n",
    "    # counter += 1\n",
    "    if ds.status == 'FINISHED':\n",
    "        if database in [(x.name, x.version) for x in dss[0].database_details]:\n",
    "            if ds.id + '.csv' not in os.listdir('/scratch/trose/'):\n",
    "                break"
   ]
  },
  {
   "cell_type": "code",
   "execution_count": 29,
   "id": "a1bb2709-fe86-475e-b583-1557f861b474",
   "metadata": {},
   "outputs": [
    {
     "data": {
      "text/html": [
       "<div>\n",
       "<style scoped>\n",
       "    .dataframe tbody tr th:only-of-type {\n",
       "        vertical-align: middle;\n",
       "    }\n",
       "\n",
       "    .dataframe tbody tr th {\n",
       "        vertical-align: top;\n",
       "    }\n",
       "\n",
       "    .dataframe thead th {\n",
       "        text-align: right;\n",
       "    }\n",
       "</style>\n",
       "<table border=\"1\" class=\"dataframe\">\n",
       "  <thead>\n",
       "    <tr style=\"text-align: right;\">\n",
       "      <th></th>\n",
       "    </tr>\n",
       "  </thead>\n",
       "  <tbody>\n",
       "  </tbody>\n",
       "</table>\n",
       "</div>"
      ],
      "text/plain": [
       "Empty DataFrame\n",
       "Columns: []\n",
       "Index: []"
      ]
     },
     "execution_count": 29,
     "metadata": {},
     "output_type": "execute_result"
    }
   ],
   "source": [
    "ds.results(database=database)"
   ]
  },
  {
   "cell_type": "code",
   "execution_count": 31,
   "id": "e35270f0-8118-4768-b7f9-359f44319e8b",
   "metadata": {},
   "outputs": [
    {
     "data": {
      "text/plain": [
       "'testset'"
      ]
     },
     "execution_count": 31,
     "metadata": {},
     "output_type": "execute_result"
    }
   ],
   "source": [
    "ds.name"
   ]
  },
  {
   "cell_type": "markdown",
   "id": "429cd27b-37be-48eb-a25c-d9a1d9823b7d",
   "metadata": {},
   "source": [
    "## Getting important featured for visualization\n",
    "\n",
    "The following features should be collected:\n",
    "* Organism\n",
    "* Condition\n",
    "* Organism_Part\n",
    "* Polarity\n",
    "* Group"
   ]
  },
  {
   "cell_type": "code",
   "execution_count": 7,
   "id": "5d7abc4f-ec4c-4c5b-b103-35784c68d828",
   "metadata": {},
   "outputs": [
    {
     "data": {
      "text/plain": [
       "{'Data_Type': 'Imaging MS',\n",
       " 'Sample_Information': {'Condition': 'Control',\n",
       "  'Organism': 'Homo sapiens (human) ',\n",
       "  'Organism_Part': 'Brain',\n",
       "  'Sample_Growth_Conditions': ''},\n",
       " 'Sample_Preparation': {'MALDI_Matrix': 'n-(1-naphthyl)ethylenediamine dihydrochloride (NEDC)',\n",
       "  'Tissue_Modification': 'Frozen',\n",
       "  'Sample_Stabilisation': 'Fresh frozen',\n",
       "  'MALDI_Matrix_Application': 'Spray robot',\n",
       "  'Solvent': '70:30 methanol : water'},\n",
       " 'MS_Analysis': {'Polarity': 'Negative',\n",
       "  'Ionisation_Source': 'MALDI',\n",
       "  'Analyzer': 'Orbitrap',\n",
       "  'Detector_Resolving_Power': {'Resolving_Power': 120000, 'mz': 200},\n",
       "  'Pixel_Size': {'Xaxis': 10, 'Yaxis': 10}},\n",
       " 'Additional_Information': {'Supplementary': ''}}"
      ]
     },
     "execution_count": 7,
     "metadata": {},
     "output_type": "execute_result"
    }
   ],
   "source": [
    "dss[0].metadata"
   ]
  },
  {
   "cell_type": "code",
   "execution_count": 13,
   "id": "fa67403c-4783-4f28-98a2-711e267450b8",
   "metadata": {},
   "outputs": [
    {
     "data": {
      "text/plain": [
       "{'id': 'a4125fac-e32b-11eb-96db-3b0226b639b3',\n",
       " 'name': 'ISAS',\n",
       " 'shortName': 'ISAS'}"
      ]
     },
     "execution_count": 13,
     "metadata": {},
     "output_type": "execute_result"
    }
   ],
   "source": [
    "dss[735].group"
   ]
  },
  {
   "cell_type": "code",
   "execution_count": 24,
   "id": "d847efdc-e8ce-4a0d-8260-bd241a937f80",
   "metadata": {},
   "outputs": [],
   "source": [
    "metadata_dict = {'Organism': {}, 'Condition': {}, 'Organism_Part': {}, 'Polarity': {}, 'Group': {}}\n",
    "for d in dss:\n",
    "    metadata_dict['Organism'][d.id] = d.metadata['Sample_Information']['Organism'].strip().lower()\n",
    "    metadata_dict['Condition'][d.id] = d.metadata['Sample_Information']['Condition'].strip().lower()\n",
    "    metadata_dict['Organism_Part'][d.id] = d.metadata['Sample_Information']['Organism_Part'].strip().lower()\n",
    "    metadata_dict['Polarity'][d.id] = d.metadata['MS_Analysis']['Polarity'].strip().lower()\n",
    "    if d.group is None:\n",
    "        metadata_dict['Group'][d.id] = \"not available\"\n",
    "    else:\n",
    "        metadata_dict['Group'][d.id] = d.group['shortName'].strip()"
   ]
  },
  {
   "cell_type": "code",
   "execution_count": 26,
   "id": "4a0ab60e-70e1-4063-bbea-f638d35bfb92",
   "metadata": {},
   "outputs": [],
   "source": [
    "#pickle.dump(metadata_dict, open( \"/home/trose/metaspacedata_300922/metadata_dict_300922.pickle\", \"wb\" ))"
   ]
  },
  {
   "cell_type": "markdown",
   "id": "4e4f949a-8c24-4abb-a1e3-4e7fabb665f2",
   "metadata": {},
   "source": [
    "## Prune tables"
   ]
  },
  {
   "cell_type": "code",
   "execution_count": 3,
   "id": "6aae80f4-892f-4038-bbc2-9ffadedb96cd",
   "metadata": {},
   "outputs": [],
   "source": [
    "annotation_files = os.listdir(\"/scratch/trose/\")"
   ]
  },
  {
   "cell_type": "code",
   "execution_count": 6,
   "id": "613725c1-2dd1-4861-ab7e-ed4e94f07e48",
   "metadata": {},
   "outputs": [
    {
     "data": {
      "text/plain": [
       "'2017-03-24_11h29m56s.csv'"
      ]
     },
     "execution_count": 6,
     "metadata": {},
     "output_type": "execute_result"
    }
   ],
   "source": [
    "annotation_files[0]"
   ]
  },
  {
   "cell_type": "code",
   "execution_count": 15,
   "id": "ea85a087-8d95-44f7-81f7-bb9678941042",
   "metadata": {},
   "outputs": [
    {
     "data": {
      "text/html": [
       "<div>\n",
       "<style scoped>\n",
       "    .dataframe tbody tr th:only-of-type {\n",
       "        vertical-align: middle;\n",
       "    }\n",
       "\n",
       "    .dataframe tbody tr th {\n",
       "        vertical-align: top;\n",
       "    }\n",
       "\n",
       "    .dataframe thead th {\n",
       "        text-align: right;\n",
       "    }\n",
       "</style>\n",
       "<table border=\"1\" class=\"dataframe\">\n",
       "  <thead>\n",
       "    <tr style=\"text-align: right;\">\n",
       "      <th></th>\n",
       "      <th></th>\n",
       "      <th>fdr</th>\n",
       "      <th>intensity</th>\n",
       "    </tr>\n",
       "    <tr>\n",
       "      <th>formula</th>\n",
       "      <th>adduct</th>\n",
       "      <th></th>\n",
       "      <th></th>\n",
       "    </tr>\n",
       "  </thead>\n",
       "  <tbody>\n",
       "    <tr>\n",
       "      <th>C18H11NO4</th>\n",
       "      <th>+Na</th>\n",
       "      <td>0.05</td>\n",
       "      <td>6871.489746</td>\n",
       "    </tr>\n",
       "    <tr>\n",
       "      <th>C14H10O8</th>\n",
       "      <th>+Na</th>\n",
       "      <td>0.05</td>\n",
       "      <td>20683.343750</td>\n",
       "    </tr>\n",
       "    <tr>\n",
       "      <th>C18H11NO4</th>\n",
       "      <th>+H</th>\n",
       "      <td>0.05</td>\n",
       "      <td>8869.091797</td>\n",
       "    </tr>\n",
       "    <tr>\n",
       "      <th>C20H12O2</th>\n",
       "      <th>+Na</th>\n",
       "      <td>0.05</td>\n",
       "      <td>16204.722656</td>\n",
       "    </tr>\n",
       "    <tr>\n",
       "      <th>C7H5ClO4</th>\n",
       "      <th>+Na</th>\n",
       "      <td>0.05</td>\n",
       "      <td>6916.773438</td>\n",
       "    </tr>\n",
       "    <tr>\n",
       "      <th>...</th>\n",
       "      <th>...</th>\n",
       "      <td>...</td>\n",
       "      <td>...</td>\n",
       "    </tr>\n",
       "    <tr>\n",
       "      <th>C10H7NO2</th>\n",
       "      <th>+H</th>\n",
       "      <td>0.50</td>\n",
       "      <td>756.707397</td>\n",
       "    </tr>\n",
       "    <tr>\n",
       "      <th>C12H22O14S</th>\n",
       "      <th>+H</th>\n",
       "      <td>0.50</td>\n",
       "      <td>601.690979</td>\n",
       "    </tr>\n",
       "    <tr>\n",
       "      <th>C14H23NO11</th>\n",
       "      <th>+H</th>\n",
       "      <td>0.50</td>\n",
       "      <td>316.749847</td>\n",
       "    </tr>\n",
       "    <tr>\n",
       "      <th>C10H12N4O7</th>\n",
       "      <th>+H</th>\n",
       "      <td>0.50</td>\n",
       "      <td>995.640991</td>\n",
       "    </tr>\n",
       "    <tr>\n",
       "      <th>C47H83O13P</th>\n",
       "      <th>+H</th>\n",
       "      <td>0.50</td>\n",
       "      <td>254.432449</td>\n",
       "    </tr>\n",
       "  </tbody>\n",
       "</table>\n",
       "<p>219 rows × 2 columns</p>\n",
       "</div>"
      ],
      "text/plain": [
       "                    fdr     intensity\n",
       "formula    adduct                    \n",
       "C18H11NO4  +Na     0.05   6871.489746\n",
       "C14H10O8   +Na     0.05  20683.343750\n",
       "C18H11NO4  +H      0.05   8869.091797\n",
       "C20H12O2   +Na     0.05  16204.722656\n",
       "C7H5ClO4   +Na     0.05   6916.773438\n",
       "...                 ...           ...\n",
       "C10H7NO2   +H      0.50    756.707397\n",
       "C12H22O14S +H      0.50    601.690979\n",
       "C14H23NO11 +H      0.50    316.749847\n",
       "C10H12N4O7 +H      0.50    995.640991\n",
       "C47H83O13P +H      0.50    254.432449\n",
       "\n",
       "[219 rows x 2 columns]"
      ]
     },
     "execution_count": 15,
     "metadata": {},
     "output_type": "execute_result"
    }
   ],
   "source": [
    "# example\n",
    "pd.read_csv(\"/scratch/trose/\" + annotation_files[0])[['formula', 'adduct', 'fdr', 'intensity']].set_index(['formula', 'adduct'])"
   ]
  },
  {
   "cell_type": "code",
   "execution_count": 16,
   "id": "7cb5570d-dced-45f3-8c9f-a1311f80d7c2",
   "metadata": {},
   "outputs": [
    {
     "name": "stderr",
     "output_type": "stream",
     "text": [
      "100%|██████████| 6844/6844 [03:32<00:00, 32.19it/s]\n"
     ]
    }
   ],
   "source": [
    "all_tables = []\n",
    "for f in tqdm(annotation_files):\n",
    "    if '.csv' in f:\n",
    "        all_tables.append(pd.read_csv(\"/scratch/trose/\" + f)[['formula', 'adduct', 'fdr', 'intensity']].set_index(['formula', 'adduct']))"
   ]
  },
  {
   "cell_type": "code",
   "execution_count": 6,
   "id": "6808b6d5-1005-47d0-a0f5-019a61340719",
   "metadata": {},
   "outputs": [
    {
     "name": "stderr",
     "output_type": "stream",
     "text": [
      "100%|██████████| 6845/6845 [02:55<00:00, 38.91it/s]\n"
     ]
    }
   ],
   "source": [
    "all_table_dict = {}\n",
    "for f in tqdm(annotation_files):\n",
    "    if '.csv' in f:\n",
    "        all_table_dict[f.split('.')[0]] = pd.read_csv(\"/scratch/trose/\" + f)[['formula', 'adduct', 'fdr', 'intensity']].set_index(['formula', 'adduct'])"
   ]
  },
  {
   "cell_type": "code",
   "execution_count": null,
   "id": "4caadd73-2ac1-44cb-a7c8-77540ea5f58d",
   "metadata": {},
   "outputs": [],
   "source": []
  },
  {
   "cell_type": "code",
   "execution_count": 20,
   "id": "9cc86e6f-d25c-47df-88fd-d1095eb96722",
   "metadata": {},
   "outputs": [],
   "source": [
    "#pickle.dump(all_tables, open(\"/scratch/trose/pruned_annotations_300922.pickle\", \"wb\"))"
   ]
  },
  {
   "cell_type": "code",
   "execution_count": 9,
   "id": "365157cc-d6e3-4788-a3b1-62dd6d46798b",
   "metadata": {},
   "outputs": [],
   "source": [
    "#pickle.dump(all_table_dict, open(\"/scratch/trose/pruned_annotations_dict_300922.pickle\", \"wb\"))"
   ]
  },
  {
   "cell_type": "code",
   "execution_count": 12,
   "id": "662c75c3-9e01-41eb-b354-58b09321a344",
   "metadata": {},
   "outputs": [],
   "source": [
    "all_tables = pickle.load(open( \"/scratch/trose/pruned_annotations_300922.pickle\", \"rb\" ))"
   ]
  },
  {
   "cell_type": "code",
   "execution_count": 13,
   "id": "32da040d-48e6-41e4-95e9-5014eda54216",
   "metadata": {},
   "outputs": [
    {
     "data": {
      "text/plain": [
       "6844"
      ]
     },
     "execution_count": 13,
     "metadata": {},
     "output_type": "execute_result"
    }
   ],
   "source": [
    "len(all_tables)"
   ]
  },
  {
   "cell_type": "markdown",
   "id": "eeea09f3-2979-4c04-aa70-857756500294",
   "metadata": {},
   "source": [
    "Combined featureset"
   ]
  },
  {
   "cell_type": "code",
   "execution_count": 34,
   "id": "6e1f8c64-acb7-4295-87af-6c69d05b30d5",
   "metadata": {},
   "outputs": [
    {
     "ename": "NameError",
     "evalue": "name 'all_tables' is not defined",
     "output_type": "error",
     "traceback": [
      "\u001b[0;31m---------------------------------------------------------------------------\u001b[0m",
      "\u001b[0;31mNameError\u001b[0m                                 Traceback (most recent call last)",
      "\u001b[0;32m/tmp/ipykernel_96/4289811836.py\u001b[0m in \u001b[0;36m<module>\u001b[0;34m\u001b[0m\n\u001b[0;32m----> 1\u001b[0;31m \u001b[0mall_tables\u001b[0m\u001b[0;34m[\u001b[0m\u001b[0;36m0\u001b[0m\u001b[0;34m]\u001b[0m\u001b[0;34m\u001b[0m\u001b[0;34m\u001b[0m\u001b[0m\n\u001b[0m",
      "\u001b[0;31mNameError\u001b[0m: name 'all_tables' is not defined"
     ]
    }
   ],
   "source": []
  },
  {
   "cell_type": "code",
   "execution_count": 24,
   "id": "74fda847-2c5e-4b58-83e6-4bbff95c8fee",
   "metadata": {},
   "outputs": [
    {
     "name": "stderr",
     "output_type": "stream",
     "text": [
      "100%|██████████| 6844/6844 [00:04<00:00, 1499.58it/s]\n"
     ]
    }
   ],
   "source": [
    "features = []\n",
    "for tab in tqdm(all_tables):\n",
    "    for ix in tab.index:\n",
    "            features.append(ix)\n",
    "features = list(set(features))"
   ]
  },
  {
   "cell_type": "code",
   "execution_count": 28,
   "id": "9bd9eca6-1e88-4753-825e-5f1cd39154f8",
   "metadata": {},
   "outputs": [
    {
     "data": {
      "text/plain": [
       "75564"
      ]
     },
     "execution_count": 28,
     "metadata": {},
     "output_type": "execute_result"
    }
   ],
   "source": [
    "len(features)"
   ]
  },
  {
   "cell_type": "code",
   "execution_count": 29,
   "id": "29cf3980-b5fe-4e6c-8524-3c1b6ca71d37",
   "metadata": {},
   "outputs": [
    {
     "data": {
      "text/plain": [
       "[('C41H81O10P', '-H'),\n",
       " ('C21H26N2O2S2', '+Cl'),\n",
       " ('C19H34O15', '+H'),\n",
       " ('C22H32O8', '+Na'),\n",
       " ('C9H17N3O4', '-H'),\n",
       " ('C26H42O11', '+Cl'),\n",
       " ('C8H16N2O3S', '+NH4'),\n",
       " ('C28H33O14', '[M]+'),\n",
       " ('C25H32O11', '+Cl'),\n",
       " ('C58H92O6', '+H')]"
      ]
     },
     "execution_count": 29,
     "metadata": {},
     "output_type": "execute_result"
    }
   ],
   "source": [
    "features[:10]"
   ]
  },
  {
   "cell_type": "code",
   "execution_count": 30,
   "id": "5d698172-6c08-48ac-9c7d-afa6292215f2",
   "metadata": {},
   "outputs": [
    {
     "data": {
      "text/plain": [
       "6844"
      ]
     },
     "execution_count": 30,
     "metadata": {},
     "output_type": "execute_result"
    }
   ],
   "source": [
    "len(all_tables)"
   ]
  },
  {
   "cell_type": "markdown",
   "id": "ce294f45-3c3d-4da0-97a9-f1a6e3f3a8f2",
   "metadata": {},
   "source": [
    "#### FDR data"
   ]
  },
  {
   "cell_type": "code",
   "execution_count": 116,
   "id": "743d9102-0c0e-4cbb-ace9-63379fbae233",
   "metadata": {},
   "outputs": [],
   "source": [
    "fdr_data = pd.DataFrame(0, index=features, columns=annotation_files, dtype='float64')"
   ]
  },
  {
   "cell_type": "code",
   "execution_count": 117,
   "id": "40cfd4ba-11ae-4290-98e7-927543af0d49",
   "metadata": {
    "tags": []
   },
   "outputs": [],
   "source": [
    "# Fill dataframe\n",
    "for i in range(len(all_tables)):\n",
    "    fdr_data.loc[all_tables[i].index, annotation_files[i]] = all_tables[i]['fdr'].values"
   ]
  },
  {
   "cell_type": "code",
   "execution_count": null,
   "id": "26b73e5a-9c92-4a10-be72-2fe3fc4c585c",
   "metadata": {},
   "outputs": [],
   "source": [
    "fdr_sparse = fdr_data.astype(pd.SparseDtype(\"float\", 0.0))"
   ]
  },
  {
   "cell_type": "code",
   "execution_count": 119,
   "id": "5eda8c28-8fb4-4e36-91cb-92f0ed052922",
   "metadata": {},
   "outputs": [],
   "source": [
    "fdr_sparse.to_pickle('/home/trose/metaspacedata_300922/fdr_data_sparse_300922.pickle')"
   ]
  },
  {
   "cell_type": "code",
   "execution_count": 120,
   "id": "1829d6a6-4f22-4eaa-ac8c-d1933c79f766",
   "metadata": {},
   "outputs": [
    {
     "data": {
      "text/plain": [
       "4139998216"
      ]
     },
     "execution_count": 120,
     "metadata": {},
     "output_type": "execute_result"
    }
   ],
   "source": [
    "fdr_data.memory_usage().sum()"
   ]
  },
  {
   "cell_type": "code",
   "execution_count": 1,
   "id": "102aa97b-ce78-41b2-8975-db54999cd5d0",
   "metadata": {},
   "outputs": [
    {
     "ename": "NameError",
     "evalue": "name 'fdr_sparse' is not defined",
     "output_type": "error",
     "traceback": [
      "\u001b[0;31m---------------------------------------------------------------------------\u001b[0m",
      "\u001b[0;31mNameError\u001b[0m                                 Traceback (most recent call last)",
      "\u001b[0;32m/tmp/ipykernel_327/616253013.py\u001b[0m in \u001b[0;36m<module>\u001b[0;34m\u001b[0m\n\u001b[0;32m----> 1\u001b[0;31m \u001b[0mfdr_sparse\u001b[0m\u001b[0;34m.\u001b[0m\u001b[0mmemory_usage\u001b[0m\u001b[0;34m(\u001b[0m\u001b[0;34m)\u001b[0m\u001b[0;34m.\u001b[0m\u001b[0msum\u001b[0m\u001b[0;34m(\u001b[0m\u001b[0;34m)\u001b[0m\u001b[0;34m\u001b[0m\u001b[0;34m\u001b[0m\u001b[0m\n\u001b[0m",
      "\u001b[0;31mNameError\u001b[0m: name 'fdr_sparse' is not defined"
     ]
    }
   ],
   "source": [
    "fdr_sparse.memory_usage().sum()"
   ]
  },
  {
   "cell_type": "markdown",
   "id": "e9011a87-0e34-4c8e-8f38-e539ca7451e3",
   "metadata": {},
   "source": [
    "### Intensity data"
   ]
  },
  {
   "cell_type": "code",
   "execution_count": 122,
   "id": "40924cbc-2423-4114-9854-0de6e364ff61",
   "metadata": {},
   "outputs": [],
   "source": [
    "intensity_data = pd.DataFrame(0, index=features, columns=annotation_files, dtype='float64')"
   ]
  },
  {
   "cell_type": "code",
   "execution_count": 123,
   "id": "be54952f-57cf-47f3-866b-d731c023b825",
   "metadata": {
    "tags": []
   },
   "outputs": [],
   "source": [
    "# Fill dataframe\n",
    "for i in range(len(all_tables)):\n",
    "    intensity_data.loc[all_tables[i].index, annotation_files[i]] = all_tables[i]['intensity'].values"
   ]
  },
  {
   "cell_type": "code",
   "execution_count": 124,
   "id": "43fe421f-3f24-42bd-bece-cb76b1be5275",
   "metadata": {},
   "outputs": [],
   "source": [
    "intensity_sparse = intensity_data.astype(pd.SparseDtype(\"float\", 0.0))"
   ]
  },
  {
   "cell_type": "code",
   "execution_count": 125,
   "id": "e7fac1b5-7eb5-4636-ae13-62a237c9b074",
   "metadata": {},
   "outputs": [],
   "source": [
    "intensity_sparse.to_pickle('/home/trose/metaspacedata_300922/intensity_data_sparse_300922.pickle')"
   ]
  },
  {
   "cell_type": "code",
   "execution_count": 126,
   "id": "d3303ff6-5873-4b91-849b-421fb74a20cf",
   "metadata": {},
   "outputs": [
    {
     "data": {
      "text/plain": [
       "4139998216"
      ]
     },
     "execution_count": 126,
     "metadata": {},
     "output_type": "execute_result"
    }
   ],
   "source": [
    "intensity_data.memory_usage().sum()"
   ]
  },
  {
   "cell_type": "code",
   "execution_count": 127,
   "id": "dc0490fe-1231-41c9-879d-ba17a0800465",
   "metadata": {},
   "outputs": [
    {
     "data": {
      "text/plain": [
       "80586844"
      ]
     },
     "execution_count": 127,
     "metadata": {},
     "output_type": "execute_result"
    }
   ],
   "source": [
    "intensity_sparse.memory_usage().sum()"
   ]
  },
  {
   "cell_type": "code",
   "execution_count": 133,
   "id": "1a94aa45-70a8-4408-aeab-b3a5e21ff9ea",
   "metadata": {},
   "outputs": [
    {
     "data": {
      "text/plain": [
       "(C41H81O10P, -H)       0.0\n",
       "(C21H26N2O2S2, +Cl)    0.0\n",
       "(C19H34O15, +H)        0.0\n",
       "(C22H32O8, +Na)        0.0\n",
       "(C9H17N3O4, -H)        0.0\n",
       "                      ... \n",
       "(C18H34O3, +K)         0.0\n",
       "(C33H52O9, +H)         0.0\n",
       "(C16H16N6O, +K)        0.0\n",
       "(C8H8O8S, +K)          0.0\n",
       "(C4H8OS2, +H)          0.0\n",
       "Name: 2017-03-24_11h29m56s.csv, Length: 75564, dtype: Sparse[float64, 0.0]"
      ]
     },
     "execution_count": 133,
     "metadata": {},
     "output_type": "execute_result"
    }
   ],
   "source": [
    "intensity_sparse.loc[:, annotation_files[0]]"
   ]
  },
  {
   "cell_type": "code",
   "execution_count": 28,
   "id": "0c97c766-a9bd-4c19-a2af-206c1dc6c771",
   "metadata": {},
   "outputs": [],
   "source": [
    "intTIC = intensity_sparse.sparse.to_dense()"
   ]
  },
  {
   "cell_type": "code",
   "execution_count": 31,
   "id": "a696aba0-546d-4f13-b219-2242f3ba36fc",
   "metadata": {},
   "outputs": [],
   "source": [
    "tic = intTIC.sum(axis=0)"
   ]
  },
  {
   "cell_type": "code",
   "execution_count": 37,
   "id": "59d36ec1-eb8b-41be-a99e-28dfc5ac2b1e",
   "metadata": {},
   "outputs": [],
   "source": [
    "intTIC = intTIC /  tic"
   ]
  },
  {
   "cell_type": "code",
   "execution_count": 38,
   "id": "0e29c72e-67e3-4260-bef8-1d215114c735",
   "metadata": {},
   "outputs": [],
   "source": [
    "intTIC_sparse = intTIC.astype(pd.SparseDtype(\"float\", 0.0))\n",
    "intTIC_sparse.to_pickle('/home/trose/metaspacedata_300922/intensityTIC_data_sparse_300922.pickle')"
   ]
  },
  {
   "cell_type": "markdown",
   "id": "59d403c5-c94e-45aa-ab7c-fe5c36626bd8",
   "metadata": {},
   "source": [
    "## TF-IDF"
   ]
  },
  {
   "cell_type": "markdown",
   "id": "f1ddf55d-71c9-49b0-97ef-7a1dd29b903f",
   "metadata": {},
   "source": [
    "**From the preprint**"
   ]
  },
  {
   "cell_type": "code",
   "execution_count": 27,
   "id": "d2829de6-ec87-481b-8612-67aa2f108cf4",
   "metadata": {},
   "outputs": [],
   "source": [
    "fdr_sparse = pd.read_pickle('/home/trose/metaspacedata_300922/fdr_data_sparse_300922.pickle')\n",
    "intensity_sparse = pd.read_pickle('/home/trose/metaspacedata_300922/intensity_data_sparse_300922.pickle')"
   ]
  },
  {
   "cell_type": "code",
   "execution_count": 39,
   "id": "e8ae6248-a69b-460a-bbfb-5f0c5cd47a09",
   "metadata": {
    "tags": []
   },
   "outputs": [],
   "source": [
    "tmp = fdr_sparse.sparse.to_dense()\n",
    "tmp[tmp==0] = 1\n",
    "tf = (1 - tmp) * 100"
   ]
  },
  {
   "cell_type": "code",
   "execution_count": 40,
   "id": "e2ca3485-78fb-4a0f-a1df-9e33bf79dc45",
   "metadata": {},
   "outputs": [],
   "source": [
    "idf = np.log2(len(tmp.columns)/(tmp<=0.5).sum(axis=1))"
   ]
  },
  {
   "cell_type": "code",
   "execution_count": 41,
   "id": "db73cc36-4258-4887-8908-d73ac02dbd50",
   "metadata": {
    "tags": []
   },
   "outputs": [],
   "source": [
    "tfidf = tf.multiply(idf, axis=0)\n",
    "a = (tmp<=0.5).sum(axis=1)\n",
    "tfidf = tfidf.drop(a[a==0].index)"
   ]
  },
  {
   "cell_type": "code",
   "execution_count": 45,
   "id": "df64056c-935d-4c23-9411-f1dec93c10d4",
   "metadata": {},
   "outputs": [],
   "source": [
    "pickle.dump(tfidf.astype(pd.SparseDtype(\"float\", 0.0)), open( \"/home/trose/metaspacedata_300922/tfidf_sparse.pickle\", \"wb\" ) )"
   ]
  },
  {
   "cell_type": "code",
   "execution_count": 113,
   "id": "f5e65338-3562-4180-8cac-5191f0448e68",
   "metadata": {},
   "outputs": [
    {
     "data": {
      "text/plain": [
       "(75564, 6844)"
      ]
     },
     "execution_count": 113,
     "metadata": {},
     "output_type": "execute_result"
    }
   ],
   "source": [
    "tmp.shape"
   ]
  },
  {
   "cell_type": "code",
   "execution_count": 43,
   "id": "48e68241-7454-4ddc-9bce-9fb2bf4e23a9",
   "metadata": {},
   "outputs": [],
   "source": [
    "cosim = cosine_similarity(tfidf.transpose())"
   ]
  },
  {
   "cell_type": "code",
   "execution_count": 44,
   "id": "c04909fe-7746-4ca0-8ea6-df72e529087b",
   "metadata": {},
   "outputs": [],
   "source": [
    "pickle.dump(cosim, open( \"/home/trose/metaspacedata_300922/tfidf_cosim.pickle\", \"wb\" ) )"
   ]
  },
  {
   "cell_type": "code",
   "execution_count": 129,
   "id": "44a468cf-801d-4156-a782-4efea3e66906",
   "metadata": {},
   "outputs": [
    {
     "data": {
      "text/plain": [
       "(array([4.222079e+07, 3.430010e+06, 6.905940e+05, 2.842400e+05,\n",
       "        1.238460e+05, 4.939000e+04, 1.929200e+04, 8.572000e+03,\n",
       "        4.078000e+03, 9.524000e+03]),\n",
       " array([0. , 0.1, 0.2, 0.3, 0.4, 0.5, 0.6, 0.7, 0.8, 0.9, 1. ]),\n",
       " <BarContainer object of 10 artists>)"
      ]
     },
     "execution_count": 129,
     "metadata": {},
     "output_type": "execute_result"
    },
    {
     "data": {
      "image/png": "[encoded data removed]",
      "text/plain": [
       "<Figure size 432x288 with 1 Axes>"
      ]
     },
     "metadata": {
      "needs_background": "light"
     },
     "output_type": "display_data"
    }
   ],
   "source": [
    "plt.hist(cosim.flatten())"
   ]
  },
  {
   "cell_type": "code",
   "execution_count": 131,
   "id": "8b8a5707-5e1c-48ab-b480-478fcc9a3d6c",
   "metadata": {},
   "outputs": [],
   "source": [
    "cosim[cosim<0.35] = 0"
   ]
  },
  {
   "cell_type": "code",
   "execution_count": 136,
   "id": "77b2500e-91d6-439a-96b1-ce04c0d504d7",
   "metadata": {},
   "outputs": [],
   "source": [
    "pickle.dump(cosim, open( \"/home/trose/metaspacedata_300922/tfidf_cosim_cutoff035.pickle\", \"wb\" ) )"
   ]
  },
  {
   "cell_type": "markdown",
   "id": "063639f1-5497-4510-b789-a8417fae2b7a",
   "metadata": {},
   "source": [
    "## HMDB metabolite classes"
   ]
  },
  {
   "cell_type": "code",
   "execution_count": 6,
   "id": "829a4152-a99f-4d79-b6a2-d3bb82ea6507",
   "metadata": {},
   "outputs": [
    {
     "data": {
      "text/html": [
       "<div>\n",
       "<style scoped>\n",
       "    .dataframe tbody tr th:only-of-type {\n",
       "        vertical-align: middle;\n",
       "    }\n",
       "\n",
       "    .dataframe tbody tr th {\n",
       "        vertical-align: top;\n",
       "    }\n",
       "\n",
       "    .dataframe thead th {\n",
       "        text-align: right;\n",
       "    }\n",
       "</style>\n",
       "<table border=\"1\" class=\"dataframe\">\n",
       "  <thead>\n",
       "    <tr style=\"text-align: right;\">\n",
       "      <th></th>\n",
       "      <th>formula</th>\n",
       "      <th>adduct</th>\n",
       "      <th>ionFormula</th>\n",
       "      <th>ion</th>\n",
       "      <th>mz</th>\n",
       "      <th>msm</th>\n",
       "      <th>rhoSpatial</th>\n",
       "      <th>rhoSpectral</th>\n",
       "      <th>moc</th>\n",
       "      <th>fdr</th>\n",
       "      <th>offSample</th>\n",
       "      <th>isotopeImages</th>\n",
       "      <th>colocCoeff</th>\n",
       "      <th>moleculeNames</th>\n",
       "      <th>moleculeIds</th>\n",
       "      <th>intensity</th>\n",
       "    </tr>\n",
       "  </thead>\n",
       "  <tbody>\n",
       "    <tr>\n",
       "      <th>0</th>\n",
       "      <td>C15H25NO3</td>\n",
       "      <td>+H</td>\n",
       "      <td>C15H26NO3</td>\n",
       "      <td>C15H25NO3+H+</td>\n",
       "      <td>268.190701</td>\n",
       "      <td>0.674998</td>\n",
       "      <td>0.699698</td>\n",
       "      <td>0.968006</td>\n",
       "      <td>0.996584</td>\n",
       "      <td>0.05</td>\n",
       "      <td>True</td>\n",
       "      <td>[{'mz': 268.1907005008801, 'url': 'https://s3....</td>\n",
       "      <td>NaN</td>\n",
       "      <td>['Metoprolol']</td>\n",
       "      <td>['HMDB0001932']</td>\n",
       "      <td>1.459411e+07</td>\n",
       "    </tr>\n",
       "    <tr>\n",
       "      <th>1</th>\n",
       "      <td>C40H77NO10</td>\n",
       "      <td>+Na</td>\n",
       "      <td>C40H77NO10Na</td>\n",
       "      <td>C40H77NO10+Na+</td>\n",
       "      <td>754.543949</td>\n",
       "      <td>0.533364</td>\n",
       "      <td>0.577817</td>\n",
       "      <td>0.929956</td>\n",
       "      <td>0.992593</td>\n",
       "      <td>0.05</td>\n",
       "      <td>True</td>\n",
       "      <td>[{'mz': 754.5439491328744, 'url': 'https://s3....</td>\n",
       "      <td>NaN</td>\n",
       "      <td>['Araliacerebroside']</td>\n",
       "      <td>['HMDB0033621']</td>\n",
       "      <td>5.301832e+07</td>\n",
       "    </tr>\n",
       "    <tr>\n",
       "      <th>2</th>\n",
       "      <td>C40H77NO10</td>\n",
       "      <td>+H</td>\n",
       "      <td>C40H78NO10</td>\n",
       "      <td>C40H77NO10+H+</td>\n",
       "      <td>732.562005</td>\n",
       "      <td>0.532364</td>\n",
       "      <td>0.606672</td>\n",
       "      <td>0.881655</td>\n",
       "      <td>0.995305</td>\n",
       "      <td>0.50</td>\n",
       "      <td>True</td>\n",
       "      <td>[{'mz': 732.5620045048745, 'url': 'https://s3....</td>\n",
       "      <td>NaN</td>\n",
       "      <td>['Araliacerebroside']</td>\n",
       "      <td>['HMDB0033621']</td>\n",
       "      <td>1.660798e+07</td>\n",
       "    </tr>\n",
       "    <tr>\n",
       "      <th>3</th>\n",
       "      <td>C38H70NO8P</td>\n",
       "      <td>+K</td>\n",
       "      <td>C38H70NO8PK</td>\n",
       "      <td>C38H70NO8P+K+</td>\n",
       "      <td>738.447043</td>\n",
       "      <td>0.473793</td>\n",
       "      <td>0.509443</td>\n",
       "      <td>0.944649</td>\n",
       "      <td>0.984516</td>\n",
       "      <td>0.50</td>\n",
       "      <td>True</td>\n",
       "      <td>[{'mz': 738.4470433988745, 'url': 'https://s3....</td>\n",
       "      <td>NaN</td>\n",
       "      <td>['PE-NMe(14:1(9Z)/18:2(9Z,12Z))', 'PE-NMe(14:0...</td>\n",
       "      <td>['HMDB0113000', 'HMDB0112981', 'HMDB0112980', ...</td>\n",
       "      <td>8.665095e+06</td>\n",
       "    </tr>\n",
       "    <tr>\n",
       "      <th>4</th>\n",
       "      <td>C25H38O9</td>\n",
       "      <td>+Na</td>\n",
       "      <td>C25H38O9Na</td>\n",
       "      <td>C25H38O9+Na+</td>\n",
       "      <td>505.240784</td>\n",
       "      <td>0.454067</td>\n",
       "      <td>0.473927</td>\n",
       "      <td>0.961709</td>\n",
       "      <td>0.996240</td>\n",
       "      <td>0.50</td>\n",
       "      <td>True</td>\n",
       "      <td>[{'mz': 505.24078425488, 'url': 'https://s3.eu...</td>\n",
       "      <td>NaN</td>\n",
       "      <td>['11-beta-Hydroxyandrosterone-3-glucuronide']</td>\n",
       "      <td>['HMDB0010351']</td>\n",
       "      <td>5.228644e+06</td>\n",
       "    </tr>\n",
       "    <tr>\n",
       "      <th>...</th>\n",
       "      <td>...</td>\n",
       "      <td>...</td>\n",
       "      <td>...</td>\n",
       "      <td>...</td>\n",
       "      <td>...</td>\n",
       "      <td>...</td>\n",
       "      <td>...</td>\n",
       "      <td>...</td>\n",
       "      <td>...</td>\n",
       "      <td>...</td>\n",
       "      <td>...</td>\n",
       "      <td>...</td>\n",
       "      <td>...</td>\n",
       "      <td>...</td>\n",
       "      <td>...</td>\n",
       "      <td>...</td>\n",
       "    </tr>\n",
       "    <tr>\n",
       "      <th>208</th>\n",
       "      <td>C42H68NO8P</td>\n",
       "      <td>+K</td>\n",
       "      <td>C42H68NO8PK</td>\n",
       "      <td>C42H68NO8P+K+</td>\n",
       "      <td>784.431393</td>\n",
       "      <td>0.011450</td>\n",
       "      <td>0.013700</td>\n",
       "      <td>0.841369</td>\n",
       "      <td>0.993333</td>\n",
       "      <td>0.50</td>\n",
       "      <td>True</td>\n",
       "      <td>[{'mz': 784.4313933348743, 'url': 'https://s3....</td>\n",
       "      <td>NaN</td>\n",
       "      <td>['PE-NMe(18:4(6Z,9Z,12Z,15Z)/18:4(6Z,9Z,12Z,15...</td>\n",
       "      <td>['HMDB0113261']</td>\n",
       "      <td>6.356832e+06</td>\n",
       "    </tr>\n",
       "    <tr>\n",
       "      <th>209</th>\n",
       "      <td>C29H48O5</td>\n",
       "      <td>+K</td>\n",
       "      <td>C29H48O5K</td>\n",
       "      <td>C29H48O5+K+</td>\n",
       "      <td>515.313313</td>\n",
       "      <td>0.011413</td>\n",
       "      <td>0.013343</td>\n",
       "      <td>0.887047</td>\n",
       "      <td>0.964257</td>\n",
       "      <td>0.50</td>\n",
       "      <td>True</td>\n",
       "      <td>[{'mz': 515.3133133348744, 'url': 'https://s3....</td>\n",
       "      <td>NaN</td>\n",
       "      <td>['(2alpha,3alpha,5alpha,22R,23R)-2,3,22,23-Tet...</td>\n",
       "      <td>['HMDB0039443', 'HMDB0034079']</td>\n",
       "      <td>4.671582e+05</td>\n",
       "    </tr>\n",
       "    <tr>\n",
       "      <th>210</th>\n",
       "      <td>C47H83O8P</td>\n",
       "      <td>+K</td>\n",
       "      <td>C47H83O8PK</td>\n",
       "      <td>C47H83O8P+K+</td>\n",
       "      <td>845.545695</td>\n",
       "      <td>0.010764</td>\n",
       "      <td>0.016155</td>\n",
       "      <td>0.728611</td>\n",
       "      <td>0.914414</td>\n",
       "      <td>0.50</td>\n",
       "      <td>False</td>\n",
       "      <td>[{'mz': 845.5456948048744, 'url': 'https://s3....</td>\n",
       "      <td>NaN</td>\n",
       "      <td>['PA(22:5(7Z,10Z,13Z,16Z,19Z)/22:0)', 'PA(22:5...</td>\n",
       "      <td>['HMDB0115392', 'HMDB0115367', 'HMDB0115341', ...</td>\n",
       "      <td>1.215229e+06</td>\n",
       "    </tr>\n",
       "    <tr>\n",
       "      <th>211</th>\n",
       "      <td>C59H110N2O21</td>\n",
       "      <td>+K</td>\n",
       "      <td>C59H110N2O21K</td>\n",
       "      <td>C59H110N2O21+K+</td>\n",
       "      <td>1221.723247</td>\n",
       "      <td>0.008419</td>\n",
       "      <td>0.011900</td>\n",
       "      <td>0.803088</td>\n",
       "      <td>0.880952</td>\n",
       "      <td>0.50</td>\n",
       "      <td>False</td>\n",
       "      <td>[{'mz': 1221.7232472588742, 'url': 'https://s3...</td>\n",
       "      <td>NaN</td>\n",
       "      <td>['Ganglioside GM3 (d18:0/18:0)']</td>\n",
       "      <td>['HMDB0011916']</td>\n",
       "      <td>2.926060e+05</td>\n",
       "    </tr>\n",
       "    <tr>\n",
       "      <th>212</th>\n",
       "      <td>C38H48N2</td>\n",
       "      <td>+K</td>\n",
       "      <td>C38H48N2K</td>\n",
       "      <td>C38H48N2+K+</td>\n",
       "      <td>571.344888</td>\n",
       "      <td>0.007269</td>\n",
       "      <td>0.009235</td>\n",
       "      <td>0.854378</td>\n",
       "      <td>0.921333</td>\n",
       "      <td>0.50</td>\n",
       "      <td>True</td>\n",
       "      <td>[{'mz': 571.3448882548743, 'url': 'https://s3....</td>\n",
       "      <td>NaN</td>\n",
       "      <td>['Hexafluronium']</td>\n",
       "      <td>['HMDB0015076']</td>\n",
       "      <td>8.096814e+05</td>\n",
       "    </tr>\n",
       "  </tbody>\n",
       "</table>\n",
       "<p>213 rows × 16 columns</p>\n",
       "</div>"
      ],
      "text/plain": [
       "          formula adduct     ionFormula              ion           mz  \\\n",
       "0       C15H25NO3     +H      C15H26NO3     C15H25NO3+H+   268.190701   \n",
       "1      C40H77NO10    +Na   C40H77NO10Na   C40H77NO10+Na+   754.543949   \n",
       "2      C40H77NO10     +H     C40H78NO10    C40H77NO10+H+   732.562005   \n",
       "3      C38H70NO8P     +K    C38H70NO8PK    C38H70NO8P+K+   738.447043   \n",
       "4        C25H38O9    +Na     C25H38O9Na     C25H38O9+Na+   505.240784   \n",
       "..            ...    ...            ...              ...          ...   \n",
       "208    C42H68NO8P     +K    C42H68NO8PK    C42H68NO8P+K+   784.431393   \n",
       "209      C29H48O5     +K      C29H48O5K      C29H48O5+K+   515.313313   \n",
       "210     C47H83O8P     +K     C47H83O8PK     C47H83O8P+K+   845.545695   \n",
       "211  C59H110N2O21     +K  C59H110N2O21K  C59H110N2O21+K+  1221.723247   \n",
       "212      C38H48N2     +K      C38H48N2K      C38H48N2+K+   571.344888   \n",
       "\n",
       "          msm  rhoSpatial  rhoSpectral       moc   fdr  offSample  \\\n",
       "0    0.674998    0.699698     0.968006  0.996584  0.05       True   \n",
       "1    0.533364    0.577817     0.929956  0.992593  0.05       True   \n",
       "2    0.532364    0.606672     0.881655  0.995305  0.50       True   \n",
       "3    0.473793    0.509443     0.944649  0.984516  0.50       True   \n",
       "4    0.454067    0.473927     0.961709  0.996240  0.50       True   \n",
       "..        ...         ...          ...       ...   ...        ...   \n",
       "208  0.011450    0.013700     0.841369  0.993333  0.50       True   \n",
       "209  0.011413    0.013343     0.887047  0.964257  0.50       True   \n",
       "210  0.010764    0.016155     0.728611  0.914414  0.50      False   \n",
       "211  0.008419    0.011900     0.803088  0.880952  0.50      False   \n",
       "212  0.007269    0.009235     0.854378  0.921333  0.50       True   \n",
       "\n",
       "                                         isotopeImages  colocCoeff  \\\n",
       "0    [{'mz': 268.1907005008801, 'url': 'https://s3....         NaN   \n",
       "1    [{'mz': 754.5439491328744, 'url': 'https://s3....         NaN   \n",
       "2    [{'mz': 732.5620045048745, 'url': 'https://s3....         NaN   \n",
       "3    [{'mz': 738.4470433988745, 'url': 'https://s3....         NaN   \n",
       "4    [{'mz': 505.24078425488, 'url': 'https://s3.eu...         NaN   \n",
       "..                                                 ...         ...   \n",
       "208  [{'mz': 784.4313933348743, 'url': 'https://s3....         NaN   \n",
       "209  [{'mz': 515.3133133348744, 'url': 'https://s3....         NaN   \n",
       "210  [{'mz': 845.5456948048744, 'url': 'https://s3....         NaN   \n",
       "211  [{'mz': 1221.7232472588742, 'url': 'https://s3...         NaN   \n",
       "212  [{'mz': 571.3448882548743, 'url': 'https://s3....         NaN   \n",
       "\n",
       "                                         moleculeNames  \\\n",
       "0                                       ['Metoprolol']   \n",
       "1                                ['Araliacerebroside']   \n",
       "2                                ['Araliacerebroside']   \n",
       "3    ['PE-NMe(14:1(9Z)/18:2(9Z,12Z))', 'PE-NMe(14:0...   \n",
       "4        ['11-beta-Hydroxyandrosterone-3-glucuronide']   \n",
       "..                                                 ...   \n",
       "208  ['PE-NMe(18:4(6Z,9Z,12Z,15Z)/18:4(6Z,9Z,12Z,15...   \n",
       "209  ['(2alpha,3alpha,5alpha,22R,23R)-2,3,22,23-Tet...   \n",
       "210  ['PA(22:5(7Z,10Z,13Z,16Z,19Z)/22:0)', 'PA(22:5...   \n",
       "211                   ['Ganglioside GM3 (d18:0/18:0)']   \n",
       "212                                  ['Hexafluronium']   \n",
       "\n",
       "                                           moleculeIds     intensity  \n",
       "0                                      ['HMDB0001932']  1.459411e+07  \n",
       "1                                      ['HMDB0033621']  5.301832e+07  \n",
       "2                                      ['HMDB0033621']  1.660798e+07  \n",
       "3    ['HMDB0113000', 'HMDB0112981', 'HMDB0112980', ...  8.665095e+06  \n",
       "4                                      ['HMDB0010351']  5.228644e+06  \n",
       "..                                                 ...           ...  \n",
       "208                                    ['HMDB0113261']  6.356832e+06  \n",
       "209                     ['HMDB0039443', 'HMDB0034079']  4.671582e+05  \n",
       "210  ['HMDB0115392', 'HMDB0115367', 'HMDB0115341', ...  1.215229e+06  \n",
       "211                                    ['HMDB0011916']  2.926060e+05  \n",
       "212                                    ['HMDB0015076']  8.096814e+05  \n",
       "\n",
       "[213 rows x 16 columns]"
      ]
     },
     "execution_count": 6,
     "metadata": {},
     "output_type": "execute_result"
    }
   ],
   "source": [
    "pd.read_csv( '/scratch/trose/' + os.listdir('/scratch/trose')[1])"
   ]
  },
  {
   "cell_type": "code",
   "execution_count": 7,
   "id": "a4a5191d-38fc-40ce-9e09-647d286ac8e0",
   "metadata": {},
   "outputs": [
    {
     "name": "stderr",
     "output_type": "stream",
     "text": [
      "100%|██████████| 6845/6845 [03:44<00:00, 30.43it/s]\n"
     ]
    }
   ],
   "source": [
    "hmdb_tables = []\n",
    "annotation_files = os.listdir(\"/scratch/trose/\")\n",
    "for f in tqdm(annotation_files):\n",
    "    if '.csv' in f:\n",
    "        hmdb_tables.append(pd.read_csv(\"/scratch/trose/\" + f)[['formula', 'adduct', 'fdr', 'intensity', 'moleculeIds']].set_index(['formula', 'adduct']))"
   ]
  },
  {
   "cell_type": "code",
   "execution_count": 8,
   "id": "b922678d-52e6-4fb8-b930-53f12f6c0ac2",
   "metadata": {},
   "outputs": [],
   "source": [
    "hmdb_taxonomy = pd.read_csv('/home/trose/databases/HMDB_v4.csv')"
   ]
  },
  {
   "cell_type": "code",
   "execution_count": 9,
   "id": "67332b28-38c4-4923-aa51-19d1c20d2250",
   "metadata": {},
   "outputs": [],
   "source": [
    "super_class_dict = dict(zip(hmdb_taxonomy.accession, hmdb_taxonomy.super_class))\n",
    "class_dict = dict(zip(hmdb_taxonomy.accession, hmdb_taxonomy['class']))\n",
    "sub_class_dict = dict(zip(hmdb_taxonomy.accession, hmdb_taxonomy.sub_class))\n",
    "status_dict = dict(zip(hmdb_taxonomy.accession, hmdb_taxonomy.status))"
   ]
  },
  {
   "cell_type": "code",
   "execution_count": 10,
   "id": "869bf37b-02e9-41fc-a2cb-c29978ac0c1d",
   "metadata": {},
   "outputs": [
    {
     "data": {
      "text/html": [
       "<div>\n",
       "<style scoped>\n",
       "    .dataframe tbody tr th:only-of-type {\n",
       "        vertical-align: middle;\n",
       "    }\n",
       "\n",
       "    .dataframe tbody tr th {\n",
       "        vertical-align: top;\n",
       "    }\n",
       "\n",
       "    .dataframe thead th {\n",
       "        text-align: right;\n",
       "    }\n",
       "</style>\n",
       "<table border=\"1\" class=\"dataframe\">\n",
       "  <thead>\n",
       "    <tr style=\"text-align: right;\">\n",
       "      <th></th>\n",
       "      <th>version</th>\n",
       "      <th>creation_date</th>\n",
       "      <th>update_date</th>\n",
       "      <th>accession</th>\n",
       "      <th>status</th>\n",
       "      <th>name</th>\n",
       "      <th>chemical_formula</th>\n",
       "      <th>smiles</th>\n",
       "      <th>direct_parent</th>\n",
       "      <th>kingdom</th>\n",
       "      <th>super_class</th>\n",
       "      <th>class</th>\n",
       "      <th>sub_class</th>\n",
       "    </tr>\n",
       "  </thead>\n",
       "  <tbody>\n",
       "    <tr>\n",
       "      <th>0</th>\n",
       "      <td>4</td>\n",
       "      <td>2005-11-16 15:48:42 UTC</td>\n",
       "      <td>2020-04-23 20:53:36 UTC</td>\n",
       "      <td>HMDB0000001</td>\n",
       "      <td>quantified</td>\n",
       "      <td>1-Methylhistidine</td>\n",
       "      <td>C7H11N3O2</td>\n",
       "      <td>CN1C=NC(C[C@H](N)C(O)=O)=C1</td>\n",
       "      <td>Histidine and derivatives</td>\n",
       "      <td>Organic compounds</td>\n",
       "      <td>Organic acids and derivatives</td>\n",
       "      <td>Carboxylic acids and derivatives</td>\n",
       "      <td>Amino acids, peptides, and analogues</td>\n",
       "    </tr>\n",
       "    <tr>\n",
       "      <th>1</th>\n",
       "      <td>4</td>\n",
       "      <td>2005-11-16 15:48:42 UTC</td>\n",
       "      <td>2020-02-26 21:21:47 UTC</td>\n",
       "      <td>HMDB0000002</td>\n",
       "      <td>quantified</td>\n",
       "      <td>1,3-Diaminopropane</td>\n",
       "      <td>C3H10N2</td>\n",
       "      <td>NCCCN</td>\n",
       "      <td>Monoalkylamines</td>\n",
       "      <td>Organic compounds</td>\n",
       "      <td>Organic nitrogen compounds</td>\n",
       "      <td>Organonitrogen compounds</td>\n",
       "      <td>Amines</td>\n",
       "    </tr>\n",
       "    <tr>\n",
       "      <th>2</th>\n",
       "      <td>4</td>\n",
       "      <td>2005-11-16 15:48:42 UTC</td>\n",
       "      <td>2020-02-27 20:29:42 UTC</td>\n",
       "      <td>HMDB0000005</td>\n",
       "      <td>quantified</td>\n",
       "      <td>2-Ketobutyric acid</td>\n",
       "      <td>C4H6O3</td>\n",
       "      <td>CCC(=O)C(O)=O</td>\n",
       "      <td>Short-chain keto acids and derivatives</td>\n",
       "      <td>Organic compounds</td>\n",
       "      <td>Organic acids and derivatives</td>\n",
       "      <td>Keto acids and derivatives</td>\n",
       "      <td>Short-chain keto acids and derivatives</td>\n",
       "    </tr>\n",
       "    <tr>\n",
       "      <th>3</th>\n",
       "      <td>4</td>\n",
       "      <td>2005-11-16 15:48:42 UTC</td>\n",
       "      <td>2020-06-15 17:04:51 UTC</td>\n",
       "      <td>HMDB0000008</td>\n",
       "      <td>quantified</td>\n",
       "      <td>2-Hydroxybutyric acid</td>\n",
       "      <td>C4H8O3</td>\n",
       "      <td>CC[C@H](O)C(O)=O</td>\n",
       "      <td>Alpha hydroxy acids and derivatives</td>\n",
       "      <td>Organic compounds</td>\n",
       "      <td>Organic acids and derivatives</td>\n",
       "      <td>Hydroxy acids and derivatives</td>\n",
       "      <td>Alpha hydroxy acids and derivatives</td>\n",
       "    </tr>\n",
       "    <tr>\n",
       "      <th>4</th>\n",
       "      <td>4</td>\n",
       "      <td>2005-11-16 15:48:42 UTC</td>\n",
       "      <td>2020-02-26 21:21:47 UTC</td>\n",
       "      <td>HMDB0000010</td>\n",
       "      <td>quantified</td>\n",
       "      <td>2-Methoxyestrone</td>\n",
       "      <td>C19H24O3</td>\n",
       "      <td>[H][C@@]12CCC(=O)[C@@]1(C)CC[C@]1([H])C3=C(CC[...</td>\n",
       "      <td>Estrogens and derivatives</td>\n",
       "      <td>Organic compounds</td>\n",
       "      <td>Lipids and lipid-like molecules</td>\n",
       "      <td>Steroids and steroid derivatives</td>\n",
       "      <td>Estrane steroids</td>\n",
       "    </tr>\n",
       "    <tr>\n",
       "      <th>...</th>\n",
       "      <td>...</td>\n",
       "      <td>...</td>\n",
       "      <td>...</td>\n",
       "      <td>...</td>\n",
       "      <td>...</td>\n",
       "      <td>...</td>\n",
       "      <td>...</td>\n",
       "      <td>...</td>\n",
       "      <td>...</td>\n",
       "      <td>...</td>\n",
       "      <td>...</td>\n",
       "      <td>...</td>\n",
       "      <td>...</td>\n",
       "    </tr>\n",
       "    <tr>\n",
       "      <th>114217</th>\n",
       "      <td>4</td>\n",
       "      <td>2020-06-11 22:26:29 UTC</td>\n",
       "      <td>2020-06-11 22:29:35 UTC</td>\n",
       "      <td>HMDB0240683</td>\n",
       "      <td>expected</td>\n",
       "      <td>Cer(d17:1/18:0)</td>\n",
       "      <td>C35H69NO3</td>\n",
       "      <td>[H][C@@](CO)(NC(=O)CCCCCCCCCCCCCCCCC)[C@H](O)\\...</td>\n",
       "      <td>Long-chain ceramides</td>\n",
       "      <td>Organic compounds</td>\n",
       "      <td>Lipids and lipid-like molecules</td>\n",
       "      <td>Sphingolipids</td>\n",
       "      <td>Ceramides</td>\n",
       "    </tr>\n",
       "    <tr>\n",
       "      <th>114218</th>\n",
       "      <td>4</td>\n",
       "      <td>2020-06-11 22:31:44 UTC</td>\n",
       "      <td>2020-06-11 22:35:23 UTC</td>\n",
       "      <td>HMDB0240684</td>\n",
       "      <td>expected</td>\n",
       "      <td>Cer(d20:1/18:0)</td>\n",
       "      <td>C38H75NO3</td>\n",
       "      <td>[H][C@@](CO)(NC(=O)CCCCCCCCCCCCCCCCC)[C@H](O)\\...</td>\n",
       "      <td>Long-chain ceramides</td>\n",
       "      <td>Organic compounds</td>\n",
       "      <td>Lipids and lipid-like molecules</td>\n",
       "      <td>Sphingolipids</td>\n",
       "      <td>Ceramides</td>\n",
       "    </tr>\n",
       "    <tr>\n",
       "      <th>114219</th>\n",
       "      <td>4</td>\n",
       "      <td>2020-06-12 20:03:08 UTC</td>\n",
       "      <td>2020-06-12 21:29:05 UTC</td>\n",
       "      <td>HMDB0240685</td>\n",
       "      <td>expected</td>\n",
       "      <td>Cer(d17:1/16:0)</td>\n",
       "      <td>C33H65NO3</td>\n",
       "      <td>[H][C@@](CO)(NC(=O)CCCCCCCCCCCCCCC)[C@H](O)\\C=...</td>\n",
       "      <td>Long-chain ceramides</td>\n",
       "      <td>Organic compounds</td>\n",
       "      <td>Lipids and lipid-like molecules</td>\n",
       "      <td>Sphingolipids</td>\n",
       "      <td>Ceramides</td>\n",
       "    </tr>\n",
       "    <tr>\n",
       "      <th>114220</th>\n",
       "      <td>4</td>\n",
       "      <td>2020-06-12 20:07:44 UTC</td>\n",
       "      <td>2020-06-12 21:33:57 UTC</td>\n",
       "      <td>HMDB0240686</td>\n",
       "      <td>expected</td>\n",
       "      <td>Cer(d18:2(4E,14Z)/16:0)</td>\n",
       "      <td>C34H65NO3</td>\n",
       "      <td>[H][C@@](CO)(NC(=O)CCCCCCCCCCCCCCC)[C@H](O)\\C=...</td>\n",
       "      <td>Long-chain ceramides</td>\n",
       "      <td>Organic compounds</td>\n",
       "      <td>Lipids and lipid-like molecules</td>\n",
       "      <td>Sphingolipids</td>\n",
       "      <td>Ceramides</td>\n",
       "    </tr>\n",
       "    <tr>\n",
       "      <th>114221</th>\n",
       "      <td>4</td>\n",
       "      <td>2020-07-09 21:28:21 UTC</td>\n",
       "      <td>2020-07-09 22:12:52 UTC</td>\n",
       "      <td>HMDB0240687</td>\n",
       "      <td>detected</td>\n",
       "      <td>8-Amino-7-oxononanoic acid</td>\n",
       "      <td>C9H17NO3</td>\n",
       "      <td>C[C@H](N)C(=O)CCCCCC(O)=O</td>\n",
       "      <td>Medium-chain fatty acids</td>\n",
       "      <td>Organic compounds</td>\n",
       "      <td>Lipids and lipid-like molecules</td>\n",
       "      <td>Fatty Acyls</td>\n",
       "      <td>Fatty acids and conjugates</td>\n",
       "    </tr>\n",
       "  </tbody>\n",
       "</table>\n",
       "<p>114222 rows × 13 columns</p>\n",
       "</div>"
      ],
      "text/plain": [
       "        version            creation_date              update_date  \\\n",
       "0             4  2005-11-16 15:48:42 UTC  2020-04-23 20:53:36 UTC   \n",
       "1             4  2005-11-16 15:48:42 UTC  2020-02-26 21:21:47 UTC   \n",
       "2             4  2005-11-16 15:48:42 UTC  2020-02-27 20:29:42 UTC   \n",
       "3             4  2005-11-16 15:48:42 UTC  2020-06-15 17:04:51 UTC   \n",
       "4             4  2005-11-16 15:48:42 UTC  2020-02-26 21:21:47 UTC   \n",
       "...         ...                      ...                      ...   \n",
       "114217        4  2020-06-11 22:26:29 UTC  2020-06-11 22:29:35 UTC   \n",
       "114218        4  2020-06-11 22:31:44 UTC  2020-06-11 22:35:23 UTC   \n",
       "114219        4  2020-06-12 20:03:08 UTC  2020-06-12 21:29:05 UTC   \n",
       "114220        4  2020-06-12 20:07:44 UTC  2020-06-12 21:33:57 UTC   \n",
       "114221        4  2020-07-09 21:28:21 UTC  2020-07-09 22:12:52 UTC   \n",
       "\n",
       "          accession      status                        name chemical_formula  \\\n",
       "0       HMDB0000001  quantified           1-Methylhistidine        C7H11N3O2   \n",
       "1       HMDB0000002  quantified          1,3-Diaminopropane          C3H10N2   \n",
       "2       HMDB0000005  quantified          2-Ketobutyric acid           C4H6O3   \n",
       "3       HMDB0000008  quantified       2-Hydroxybutyric acid           C4H8O3   \n",
       "4       HMDB0000010  quantified            2-Methoxyestrone         C19H24O3   \n",
       "...             ...         ...                         ...              ...   \n",
       "114217  HMDB0240683    expected             Cer(d17:1/18:0)        C35H69NO3   \n",
       "114218  HMDB0240684    expected             Cer(d20:1/18:0)        C38H75NO3   \n",
       "114219  HMDB0240685    expected             Cer(d17:1/16:0)        C33H65NO3   \n",
       "114220  HMDB0240686    expected     Cer(d18:2(4E,14Z)/16:0)        C34H65NO3   \n",
       "114221  HMDB0240687    detected  8-Amino-7-oxononanoic acid         C9H17NO3   \n",
       "\n",
       "                                                   smiles  \\\n",
       "0                             CN1C=NC(C[C@H](N)C(O)=O)=C1   \n",
       "1                                                   NCCCN   \n",
       "2                                           CCC(=O)C(O)=O   \n",
       "3                                        CC[C@H](O)C(O)=O   \n",
       "4       [H][C@@]12CCC(=O)[C@@]1(C)CC[C@]1([H])C3=C(CC[...   \n",
       "...                                                   ...   \n",
       "114217  [H][C@@](CO)(NC(=O)CCCCCCCCCCCCCCCCC)[C@H](O)\\...   \n",
       "114218  [H][C@@](CO)(NC(=O)CCCCCCCCCCCCCCCCC)[C@H](O)\\...   \n",
       "114219  [H][C@@](CO)(NC(=O)CCCCCCCCCCCCCCC)[C@H](O)\\C=...   \n",
       "114220  [H][C@@](CO)(NC(=O)CCCCCCCCCCCCCCC)[C@H](O)\\C=...   \n",
       "114221                          C[C@H](N)C(=O)CCCCCC(O)=O   \n",
       "\n",
       "                                 direct_parent            kingdom  \\\n",
       "0                    Histidine and derivatives  Organic compounds   \n",
       "1                              Monoalkylamines  Organic compounds   \n",
       "2       Short-chain keto acids and derivatives  Organic compounds   \n",
       "3          Alpha hydroxy acids and derivatives  Organic compounds   \n",
       "4                    Estrogens and derivatives  Organic compounds   \n",
       "...                                        ...                ...   \n",
       "114217                    Long-chain ceramides  Organic compounds   \n",
       "114218                    Long-chain ceramides  Organic compounds   \n",
       "114219                    Long-chain ceramides  Organic compounds   \n",
       "114220                    Long-chain ceramides  Organic compounds   \n",
       "114221                Medium-chain fatty acids  Organic compounds   \n",
       "\n",
       "                            super_class                             class  \\\n",
       "0         Organic acids and derivatives  Carboxylic acids and derivatives   \n",
       "1            Organic nitrogen compounds          Organonitrogen compounds   \n",
       "2         Organic acids and derivatives        Keto acids and derivatives   \n",
       "3         Organic acids and derivatives     Hydroxy acids and derivatives   \n",
       "4       Lipids and lipid-like molecules  Steroids and steroid derivatives   \n",
       "...                                 ...                               ...   \n",
       "114217  Lipids and lipid-like molecules                     Sphingolipids   \n",
       "114218  Lipids and lipid-like molecules                     Sphingolipids   \n",
       "114219  Lipids and lipid-like molecules                     Sphingolipids   \n",
       "114220  Lipids and lipid-like molecules                     Sphingolipids   \n",
       "114221  Lipids and lipid-like molecules                       Fatty Acyls   \n",
       "\n",
       "                                     sub_class  \n",
       "0         Amino acids, peptides, and analogues  \n",
       "1                                       Amines  \n",
       "2       Short-chain keto acids and derivatives  \n",
       "3          Alpha hydroxy acids and derivatives  \n",
       "4                             Estrane steroids  \n",
       "...                                        ...  \n",
       "114217                               Ceramides  \n",
       "114218                               Ceramides  \n",
       "114219                               Ceramides  \n",
       "114220                               Ceramides  \n",
       "114221              Fatty acids and conjugates  \n",
       "\n",
       "[114222 rows x 13 columns]"
      ]
     },
     "execution_count": 10,
     "metadata": {},
     "output_type": "execute_result"
    }
   ],
   "source": [
    "hmdb_taxonomy"
   ]
  },
  {
   "cell_type": "code",
   "execution_count": 11,
   "id": "60b27557-a31f-4bee-8203-b6efdd571dce",
   "metadata": {},
   "outputs": [
    {
     "data": {
      "text/plain": [
       "['HMDB0034364']"
      ]
     },
     "execution_count": 11,
     "metadata": {},
     "output_type": "execute_result"
    }
   ],
   "source": [
    "ast.literal_eval(hmdb_tables[0].moleculeIds[0])"
   ]
  },
  {
   "cell_type": "code",
   "execution_count": 12,
   "id": "5415743b-44df-4426-8e61-6b8b5dc10a58",
   "metadata": {
    "tags": []
   },
   "outputs": [
    {
     "name": "stderr",
     "output_type": "stream",
     "text": [
      "100%|██████████| 6844/6844 [00:21<00:00, 321.48it/s]\n"
     ]
    }
   ],
   "source": [
    "# For each dataset, make a list of lists with HMDB accessions\n",
    "fdr_cutoff = 0.1\n",
    "metaspace_annotation_super_class = {}\n",
    "metaspace_annotation_class = {}\n",
    "metaspace_annotation_sub_class = {}\n",
    "for i in tqdm(range(len(hmdb_tables))):\n",
    "    # Get all moleculeids:\n",
    "    tmp_ids = list(hmdb_tables[i][hmdb_tables[i]['fdr'] <= fdr_cutoff]['moleculeIds'])\n",
    "    metaspace_annotation_super_class[annotation_files[i]] = []\n",
    "    metaspace_annotation_class[annotation_files[i]] = []\n",
    "    metaspace_annotation_sub_class[annotation_files[i]] = []\n",
    "    for io in tmp_ids:\n",
    "        ion = ast.literal_eval(io)\n",
    "        if (len(ion)) == 1:\n",
    "            if ion[0] in super_class_dict.keys():\n",
    "                metaspace_annotation_super_class[annotation_files[i]].append([super_class_dict[ion[0]]])\n",
    "                metaspace_annotation_class[annotation_files[i]].append([class_dict[ion[0]]])\n",
    "                metaspace_annotation_sub_class[annotation_files[i]].append([sub_class_dict[ion[0]]])\n",
    "        else:\n",
    "            tmp_super_class = []\n",
    "            tmp_class = []\n",
    "            tmp_sub_class = []\n",
    "            for ann in ion:\n",
    "                if status_dict.get(ann, 'not found') == 'quantified' or status_dict.get(ann, 'not found') == 'detected':\n",
    "                    tmp_super_class.append(super_class_dict[ann])\n",
    "                    tmp_class.append(class_dict[ann])\n",
    "                    tmp_sub_class.append(sub_class_dict[ann])\n",
    "            if len(tmp_super_class)>0: metaspace_annotation_super_class[annotation_files[i]].append(tmp_super_class)\n",
    "            if len(tmp_class)>0: metaspace_annotation_class[annotation_files[i]].append(tmp_class)\n",
    "            if len(tmp_sub_class)>0: metaspace_annotation_sub_class[annotation_files[i]].append(tmp_sub_class)"
   ]
  },
  {
   "cell_type": "code",
   "execution_count": 80,
   "id": "dea8855d-3443-4ccb-bf5f-fd800a540f3c",
   "metadata": {},
   "outputs": [
    {
     "data": {
      "text/html": [
       "<div>\n",
       "<style scoped>\n",
       "    .dataframe tbody tr th:only-of-type {\n",
       "        vertical-align: middle;\n",
       "    }\n",
       "\n",
       "    .dataframe tbody tr th {\n",
       "        vertical-align: top;\n",
       "    }\n",
       "\n",
       "    .dataframe thead th {\n",
       "        text-align: right;\n",
       "    }\n",
       "</style>\n",
       "<table border=\"1\" class=\"dataframe\">\n",
       "  <thead>\n",
       "    <tr style=\"text-align: right;\">\n",
       "      <th></th>\n",
       "      <th>formula</th>\n",
       "      <th>adduct</th>\n",
       "      <th>ionFormula</th>\n",
       "      <th>ion</th>\n",
       "      <th>mz</th>\n",
       "      <th>msm</th>\n",
       "      <th>rhoSpatial</th>\n",
       "      <th>rhoSpectral</th>\n",
       "      <th>moc</th>\n",
       "      <th>fdr</th>\n",
       "      <th>offSample</th>\n",
       "      <th>isotopeImages</th>\n",
       "      <th>colocCoeff</th>\n",
       "      <th>moleculeNames</th>\n",
       "      <th>moleculeIds</th>\n",
       "      <th>intensity</th>\n",
       "    </tr>\n",
       "  </thead>\n",
       "  <tbody>\n",
       "    <tr>\n",
       "      <th>0</th>\n",
       "      <td>C5H4N4O</td>\n",
       "      <td>-H</td>\n",
       "      <td>C5H3N4O</td>\n",
       "      <td>C5H4N4O-H-</td>\n",
       "      <td>135.031195</td>\n",
       "      <td>0.963995</td>\n",
       "      <td>0.967231</td>\n",
       "      <td>0.996668</td>\n",
       "      <td>0.999986</td>\n",
       "      <td>0.05</td>\n",
       "      <td>False</td>\n",
       "      <td>[{'mz': 135.0311950934823, 'url': 'https://s3....</td>\n",
       "      <td>NaN</td>\n",
       "      <td>['Allopurinol', 'Hypoxanthine']</td>\n",
       "      <td>['HMDB0014581', 'HMDB0000157']</td>\n",
       "      <td>1.757799e+07</td>\n",
       "    </tr>\n",
       "    <tr>\n",
       "      <th>1</th>\n",
       "      <td>C16H32O2</td>\n",
       "      <td>+Cl</td>\n",
       "      <td>C16H32O2Cl</td>\n",
       "      <td>C16H32O2+Cl-</td>\n",
       "      <td>291.209592</td>\n",
       "      <td>0.956526</td>\n",
       "      <td>0.990624</td>\n",
       "      <td>0.994260</td>\n",
       "      <td>0.971154</td>\n",
       "      <td>0.05</td>\n",
       "      <td>True</td>\n",
       "      <td>[{'mz': 291.2095923114823, 'url': 'https://s3....</td>\n",
       "      <td>NaN</td>\n",
       "      <td>['Dodecyl 2-methylpropanoate', 'Ethyl tetradec...</td>\n",
       "      <td>['HMDB0036210', 'HMDB0034153', 'HMDB0033166', ...</td>\n",
       "      <td>8.830016e+04</td>\n",
       "    </tr>\n",
       "    <tr>\n",
       "      <th>2</th>\n",
       "      <td>C18H34O2</td>\n",
       "      <td>+Cl</td>\n",
       "      <td>C18H34O2Cl</td>\n",
       "      <td>C18H34O2+Cl-</td>\n",
       "      <td>317.225242</td>\n",
       "      <td>0.954223</td>\n",
       "      <td>0.985659</td>\n",
       "      <td>0.994892</td>\n",
       "      <td>0.973077</td>\n",
       "      <td>0.05</td>\n",
       "      <td>True</td>\n",
       "      <td>[{'mz': 317.2252423754823, 'url': 'https://s3....</td>\n",
       "      <td>NaN</td>\n",
       "      <td>['cis-Vaccenic acid', 'Octadec-9-enoic Acid', ...</td>\n",
       "      <td>['HMDB0240219', 'HMDB0062703', 'HMDB0062242', ...</td>\n",
       "      <td>6.084659e+04</td>\n",
       "    </tr>\n",
       "    <tr>\n",
       "      <th>3</th>\n",
       "      <td>C5H4N4O2</td>\n",
       "      <td>-H</td>\n",
       "      <td>C5H3N4O2</td>\n",
       "      <td>C5H4N4O2-H-</td>\n",
       "      <td>151.026110</td>\n",
       "      <td>0.948074</td>\n",
       "      <td>0.953442</td>\n",
       "      <td>0.994386</td>\n",
       "      <td>0.999984</td>\n",
       "      <td>0.05</td>\n",
       "      <td>False</td>\n",
       "      <td>[{'mz': 151.02610971348227, 'url': 'https://s3...</td>\n",
       "      <td>NaN</td>\n",
       "      <td>['Oxypurinol', '6,8-Dihydroxypurine', 'Xanthine']</td>\n",
       "      <td>['HMDB0000786', 'HMDB0001182', 'HMDB0000292']</td>\n",
       "      <td>8.128935e+06</td>\n",
       "    </tr>\n",
       "    <tr>\n",
       "      <th>4</th>\n",
       "      <td>C18H36O2</td>\n",
       "      <td>+Cl</td>\n",
       "      <td>C18H36O2Cl</td>\n",
       "      <td>C18H36O2+Cl-</td>\n",
       "      <td>319.240892</td>\n",
       "      <td>0.934857</td>\n",
       "      <td>0.969788</td>\n",
       "      <td>0.989349</td>\n",
       "      <td>0.974359</td>\n",
       "      <td>0.05</td>\n",
       "      <td>True</td>\n",
       "      <td>[{'mz': 319.24089243948237, 'url': 'https://s3...</td>\n",
       "      <td>NaN</td>\n",
       "      <td>['Hexyl dodecanoate', '16-Methylheptadecanoic ...</td>\n",
       "      <td>['HMDB0061946', 'HMDB0031066', 'HMDB0029811', ...</td>\n",
       "      <td>4.376277e+04</td>\n",
       "    </tr>\n",
       "    <tr>\n",
       "      <th>...</th>\n",
       "      <td>...</td>\n",
       "      <td>...</td>\n",
       "      <td>...</td>\n",
       "      <td>...</td>\n",
       "      <td>...</td>\n",
       "      <td>...</td>\n",
       "      <td>...</td>\n",
       "      <td>...</td>\n",
       "      <td>...</td>\n",
       "      <td>...</td>\n",
       "      <td>...</td>\n",
       "      <td>...</td>\n",
       "      <td>...</td>\n",
       "      <td>...</td>\n",
       "      <td>...</td>\n",
       "      <td>...</td>\n",
       "    </tr>\n",
       "    <tr>\n",
       "      <th>3349</th>\n",
       "      <td>C17H17NO4</td>\n",
       "      <td>-H</td>\n",
       "      <td>C17H16NO4</td>\n",
       "      <td>C17H17NO4-H-</td>\n",
       "      <td>298.108442</td>\n",
       "      <td>0.004854</td>\n",
       "      <td>0.005619</td>\n",
       "      <td>0.869018</td>\n",
       "      <td>0.993933</td>\n",
       "      <td>0.50</td>\n",
       "      <td>True</td>\n",
       "      <td>[{'mz': 298.1084423394823, 'url': 'https://s3....</td>\n",
       "      <td>NaN</td>\n",
       "      <td>['N-Acetoxymethylflindersine', 'N-cis-Caffeoyl...</td>\n",
       "      <td>['HMDB0039879', 'HMDB0033026', 'HMDB0032804']</td>\n",
       "      <td>1.025636e+04</td>\n",
       "    </tr>\n",
       "    <tr>\n",
       "      <th>3350</th>\n",
       "      <td>C12H10O2</td>\n",
       "      <td>-H</td>\n",
       "      <td>C12H9O2</td>\n",
       "      <td>C12H10O2-H-</td>\n",
       "      <td>185.060764</td>\n",
       "      <td>0.004842</td>\n",
       "      <td>0.005113</td>\n",
       "      <td>0.954104</td>\n",
       "      <td>0.992615</td>\n",
       "      <td>0.50</td>\n",
       "      <td>True</td>\n",
       "      <td>[{'mz': 185.06076386548227, 'url': 'https://s3...</td>\n",
       "      <td>NaN</td>\n",
       "      <td>['1-Naphthaleneacetic acid']</td>\n",
       "      <td>['HMDB0032708']</td>\n",
       "      <td>7.800263e+03</td>\n",
       "    </tr>\n",
       "    <tr>\n",
       "      <th>3351</th>\n",
       "      <td>C8H16N2O3</td>\n",
       "      <td>-H</td>\n",
       "      <td>C8H15N2O3</td>\n",
       "      <td>C8H16N2O3-H-</td>\n",
       "      <td>187.108777</td>\n",
       "      <td>0.004794</td>\n",
       "      <td>0.005265</td>\n",
       "      <td>0.919039</td>\n",
       "      <td>0.990673</td>\n",
       "      <td>0.50</td>\n",
       "      <td>False</td>\n",
       "      <td>[{'mz': 187.10877669748228, 'url': 'https://s3...</td>\n",
       "      <td>NaN</td>\n",
       "      <td>['Leucyl-Glycine', 'Isoleucyl-Glycine', 'Glycy...</td>\n",
       "      <td>['HMDB0028929', 'HMDB0028907', 'HMDB0028844', ...</td>\n",
       "      <td>6.536886e+03</td>\n",
       "    </tr>\n",
       "    <tr>\n",
       "      <th>3352</th>\n",
       "      <td>C8H10O4</td>\n",
       "      <td>-H</td>\n",
       "      <td>C8H9O4</td>\n",
       "      <td>C8H10O4-H-</td>\n",
       "      <td>169.050593</td>\n",
       "      <td>0.004785</td>\n",
       "      <td>0.004921</td>\n",
       "      <td>0.975391</td>\n",
       "      <td>0.997030</td>\n",
       "      <td>0.50</td>\n",
       "      <td>True</td>\n",
       "      <td>[{'mz': 169.05059310548228, 'url': 'https://s3...</td>\n",
       "      <td>NaN</td>\n",
       "      <td>['4,5-dimethoxybenzene-1,3-diol', '2,3-dimetho...</td>\n",
       "      <td>['HMDB0133982', 'HMDB0133972', 'HMDB0133971', ...</td>\n",
       "      <td>5.798247e+03</td>\n",
       "    </tr>\n",
       "    <tr>\n",
       "      <th>3353</th>\n",
       "      <td>C4H7NOS</td>\n",
       "      <td>-H</td>\n",
       "      <td>C4H6NOS</td>\n",
       "      <td>C4H7NOS-H-</td>\n",
       "      <td>116.017519</td>\n",
       "      <td>0.004770</td>\n",
       "      <td>0.004937</td>\n",
       "      <td>0.975613</td>\n",
       "      <td>0.990444</td>\n",
       "      <td>0.50</td>\n",
       "      <td>False</td>\n",
       "      <td>[{'mz': 116.01751888948375, 'url': 'https://s3...</td>\n",
       "      <td>NaN</td>\n",
       "      <td>['Homocysteine thiolactone']</td>\n",
       "      <td>['HMDB0002287']</td>\n",
       "      <td>1.746618e+03</td>\n",
       "    </tr>\n",
       "  </tbody>\n",
       "</table>\n",
       "<p>3354 rows × 16 columns</p>\n",
       "</div>"
      ],
      "text/plain": [
       "        formula adduct  ionFormula           ion          mz       msm  \\\n",
       "0       C5H4N4O     -H     C5H3N4O    C5H4N4O-H-  135.031195  0.963995   \n",
       "1      C16H32O2    +Cl  C16H32O2Cl  C16H32O2+Cl-  291.209592  0.956526   \n",
       "2      C18H34O2    +Cl  C18H34O2Cl  C18H34O2+Cl-  317.225242  0.954223   \n",
       "3      C5H4N4O2     -H    C5H3N4O2   C5H4N4O2-H-  151.026110  0.948074   \n",
       "4      C18H36O2    +Cl  C18H36O2Cl  C18H36O2+Cl-  319.240892  0.934857   \n",
       "...         ...    ...         ...           ...         ...       ...   \n",
       "3349  C17H17NO4     -H   C17H16NO4  C17H17NO4-H-  298.108442  0.004854   \n",
       "3350   C12H10O2     -H     C12H9O2   C12H10O2-H-  185.060764  0.004842   \n",
       "3351  C8H16N2O3     -H   C8H15N2O3  C8H16N2O3-H-  187.108777  0.004794   \n",
       "3352    C8H10O4     -H      C8H9O4    C8H10O4-H-  169.050593  0.004785   \n",
       "3353    C4H7NOS     -H     C4H6NOS    C4H7NOS-H-  116.017519  0.004770   \n",
       "\n",
       "      rhoSpatial  rhoSpectral       moc   fdr  offSample  \\\n",
       "0       0.967231     0.996668  0.999986  0.05      False   \n",
       "1       0.990624     0.994260  0.971154  0.05       True   \n",
       "2       0.985659     0.994892  0.973077  0.05       True   \n",
       "3       0.953442     0.994386  0.999984  0.05      False   \n",
       "4       0.969788     0.989349  0.974359  0.05       True   \n",
       "...          ...          ...       ...   ...        ...   \n",
       "3349    0.005619     0.869018  0.993933  0.50       True   \n",
       "3350    0.005113     0.954104  0.992615  0.50       True   \n",
       "3351    0.005265     0.919039  0.990673  0.50      False   \n",
       "3352    0.004921     0.975391  0.997030  0.50       True   \n",
       "3353    0.004937     0.975613  0.990444  0.50      False   \n",
       "\n",
       "                                          isotopeImages  colocCoeff  \\\n",
       "0     [{'mz': 135.0311950934823, 'url': 'https://s3....         NaN   \n",
       "1     [{'mz': 291.2095923114823, 'url': 'https://s3....         NaN   \n",
       "2     [{'mz': 317.2252423754823, 'url': 'https://s3....         NaN   \n",
       "3     [{'mz': 151.02610971348227, 'url': 'https://s3...         NaN   \n",
       "4     [{'mz': 319.24089243948237, 'url': 'https://s3...         NaN   \n",
       "...                                                 ...         ...   \n",
       "3349  [{'mz': 298.1084423394823, 'url': 'https://s3....         NaN   \n",
       "3350  [{'mz': 185.06076386548227, 'url': 'https://s3...         NaN   \n",
       "3351  [{'mz': 187.10877669748228, 'url': 'https://s3...         NaN   \n",
       "3352  [{'mz': 169.05059310548228, 'url': 'https://s3...         NaN   \n",
       "3353  [{'mz': 116.01751888948375, 'url': 'https://s3...         NaN   \n",
       "\n",
       "                                          moleculeNames  \\\n",
       "0                       ['Allopurinol', 'Hypoxanthine']   \n",
       "1     ['Dodecyl 2-methylpropanoate', 'Ethyl tetradec...   \n",
       "2     ['cis-Vaccenic acid', 'Octadec-9-enoic Acid', ...   \n",
       "3     ['Oxypurinol', '6,8-Dihydroxypurine', 'Xanthine']   \n",
       "4     ['Hexyl dodecanoate', '16-Methylheptadecanoic ...   \n",
       "...                                                 ...   \n",
       "3349  ['N-Acetoxymethylflindersine', 'N-cis-Caffeoyl...   \n",
       "3350                       ['1-Naphthaleneacetic acid']   \n",
       "3351  ['Leucyl-Glycine', 'Isoleucyl-Glycine', 'Glycy...   \n",
       "3352  ['4,5-dimethoxybenzene-1,3-diol', '2,3-dimetho...   \n",
       "3353                       ['Homocysteine thiolactone']   \n",
       "\n",
       "                                            moleculeIds     intensity  \n",
       "0                        ['HMDB0014581', 'HMDB0000157']  1.757799e+07  \n",
       "1     ['HMDB0036210', 'HMDB0034153', 'HMDB0033166', ...  8.830016e+04  \n",
       "2     ['HMDB0240219', 'HMDB0062703', 'HMDB0062242', ...  6.084659e+04  \n",
       "3         ['HMDB0000786', 'HMDB0001182', 'HMDB0000292']  8.128935e+06  \n",
       "4     ['HMDB0061946', 'HMDB0031066', 'HMDB0029811', ...  4.376277e+04  \n",
       "...                                                 ...           ...  \n",
       "3349      ['HMDB0039879', 'HMDB0033026', 'HMDB0032804']  1.025636e+04  \n",
       "3350                                    ['HMDB0032708']  7.800263e+03  \n",
       "3351  ['HMDB0028929', 'HMDB0028907', 'HMDB0028844', ...  6.536886e+03  \n",
       "3352  ['HMDB0133982', 'HMDB0133972', 'HMDB0133971', ...  5.798247e+03  \n",
       "3353                                    ['HMDB0002287']  1.746618e+03  \n",
       "\n",
       "[3354 rows x 16 columns]"
      ]
     },
     "execution_count": 80,
     "metadata": {},
     "output_type": "execute_result"
    }
   ],
   "source": [
    "pd.read_csv(\"/scratch/trose/\" + annotation_files[10])"
   ]
  },
  {
   "cell_type": "markdown",
   "id": "73b5e6d7-c7d5-461a-aba8-299c035e9ea5",
   "metadata": {},
   "source": []
  },
  {
   "cell_type": "markdown",
   "id": "1fd4728f-c644-49e3-99dc-dc8aff39fa52",
   "metadata": {},
   "source": [
    "### Classes most often occuring in at least once"
   ]
  },
  {
   "cell_type": "code",
   "execution_count": 34,
   "id": "452f14ca-642f-468f-8f6b-f71d10a7c09c",
   "metadata": {},
   "outputs": [],
   "source": [
    "def flatten(l):\n",
    "    return [item for sublist in l for item in sublist]"
   ]
  },
  {
   "cell_type": "code",
   "execution_count": 158,
   "id": "c0464f60-5fbb-43c6-b8f4-38337d3fdc73",
   "metadata": {},
   "outputs": [
    {
     "data": {
      "image/png": "[encoded data removed]",
      "text/plain": [
       "<Figure size 640x480 with 1 Axes>"
      ]
     },
     "metadata": {
      "needs_background": "light"
     },
     "output_type": "display_data"
    }
   ],
   "source": [
    "tmp_dict = metaspace_annotation_super_class\n",
    "cd = defaultdict(int)\n",
    "for key, val in tmp_dict.items():\n",
    "    tmp_classes = list(set(flatten(val)))\n",
    "    for it in tmp_classes:\n",
    "        cd[it] += 1\n",
    "cd=dict(sorted(cd.items(), key=lambda item: item[1], reverse=True))\n",
    "plt.figure(figsize=(8, 6), dpi=80)\n",
    "plt.bar(range(len(cd)), list(cd.values()), align='center', color='#18974C')\n",
    "plt.xticks(range(len(cd)), list(cd.keys()), rotation = 45, ha='right')\n",
    "plt.title('HMCB class at least once per dataset')\n",
    "plt.show()"
   ]
  },
  {
   "cell_type": "code",
   "execution_count": 157,
   "id": "6616b200-cf5a-406d-9edb-b0f02a836c47",
   "metadata": {},
   "outputs": [
    {
     "data": {
      "image/png": "[encoded data removed]",
      "text/plain": [
       "<Figure size 640x480 with 1 Axes>"
      ]
     },
     "metadata": {
      "needs_background": "light"
     },
     "output_type": "display_data"
    }
   ],
   "source": [
    "tmp_dict = metaspace_annotation_class\n",
    "cd = defaultdict(int)\n",
    "for key, val in tmp_dict.items():\n",
    "    tmp_classes = list(set(flatten(val)))\n",
    "    for it in tmp_classes:\n",
    "        cd[it] += 1\n",
    "cd=dict(sorted(cd.items(), key=lambda item: item[1], reverse=True))\n",
    "cd= {list(cd.keys())[i]: list(cd.values())[i] for i in range(20)}\n",
    "plt.figure(figsize=(8, 6), dpi=80)\n",
    "plt.bar(range(len(cd)), list(cd.values()), align='center', color='#18974C')\n",
    "plt.xticks(range(len(cd)), list(cd.keys()), rotation = 45, ha='right')\n",
    "plt.title('HMCB class at least once per dataset')\n",
    "plt.show()"
   ]
  },
  {
   "cell_type": "code",
   "execution_count": 138,
   "id": "c79fc3a7-4e23-4e72-ad61-ca784797aa75",
   "metadata": {},
   "outputs": [
    {
     "data": {
      "image/png": "[encoded data removed]",
      "text/plain": [
       "<Figure size 640x480 with 1 Axes>"
      ]
     },
     "metadata": {
      "needs_background": "light"
     },
     "output_type": "display_data"
    }
   ],
   "source": [
    "tmp_dict = metaspace_annotation_sub_class\n",
    "cd = defaultdict(int)\n",
    "for key, val in tmp_dict.items():\n",
    "    tmp_classes = list(set(flatten(val)))\n",
    "    for it in tmp_classes:\n",
    "        cd[it] += 1\n",
    "cd=dict(sorted(cd.items(), key=lambda item: item[1], reverse=True))\n",
    "cd= {list(cd.keys())[i]: list(cd.values())[i] for i in range(20)}\n",
    "plt.figure(figsize=(8, 6), dpi=80)\n",
    "plt.bar(range(len(cd)), list(cd.values()), align='center', color='#18974C')\n",
    "plt.xticks(range(len(cd)), list(cd.keys()), rotation = 45, ha='right')\n",
    "plt.title('HMDB sub-class at least once per dataset')\n",
    "plt.show()"
   ]
  },
  {
   "cell_type": "markdown",
   "id": "0af84d04-a6de-491e-be5a-b539144846e5",
   "metadata": {},
   "source": [
    "## Frequency of terms in datasets"
   ]
  },
  {
   "cell_type": "code",
   "execution_count": 139,
   "id": "c248aef1-ce7d-40f0-a8ec-3cfc99a36ae2",
   "metadata": {},
   "outputs": [
    {
     "data": {
      "image/png": "[encoded data removed]",
      "text/plain": [
       "<Figure size 640x480 with 1 Axes>"
      ]
     },
     "metadata": {
      "needs_background": "light"
     },
     "output_type": "display_data"
    }
   ],
   "source": [
    "tmp_dict = metaspace_annotation_super_class\n",
    "cd = defaultdict(float)\n",
    "tmp_l = []\n",
    "for key, val in tmp_dict.items():\n",
    "    tmp_classes = [random.choice(x) for x in val]\n",
    "    tmp_dict = defaultdict(int)\n",
    "    for it in tmp_classes:\n",
    "        tmp_dict[it] += 1\n",
    "    tmp_dict = {key: val/sum(tmp_dict.values()) for key, val in tmp_dict.items()}\n",
    "    for k2, v2 in tmp_dict.items():\n",
    "        cd[k2] += v2\n",
    "cd = {key: val/sum(cd.values()) for key, val in cd.items()}\n",
    "cd = dict(sorted(cd.items(), key=lambda item: item[1], reverse=True))\n",
    "cd = {list(cd.keys())[i]: list(cd.values())[i] for i in range(20)}\n",
    "plt.figure(figsize=(8, 6), dpi=80)\n",
    "plt.bar(range(len(cd)), list(cd.values()), align='center', color='#18974C')\n",
    "plt.xticks(range(len(cd)), list(cd.keys()), rotation = 45, ha='right')\n",
    "plt.title('HMDB sub-class frequency per dataset (if present)')\n",
    "plt.show()"
   ]
  },
  {
   "cell_type": "code",
   "execution_count": 140,
   "id": "d49b0b9c-7288-4405-89e9-c7bd8572e290",
   "metadata": {},
   "outputs": [
    {
     "data": {
      "image/png": "[encoded data removed]",
      "text/plain": [
       "<Figure size 640x480 with 1 Axes>"
      ]
     },
     "metadata": {
      "needs_background": "light"
     },
     "output_type": "display_data"
    }
   ],
   "source": [
    "tmp_dict = metaspace_annotation_class\n",
    "cd = defaultdict(float)\n",
    "tmp_l = []\n",
    "for key, val in tmp_dict.items():\n",
    "    tmp_classes = [random.choice(x) for x in val]\n",
    "    tmp_dict = defaultdict(int)\n",
    "    for it in tmp_classes:\n",
    "        tmp_dict[it] += 1\n",
    "    tmp_dict = {key: val/sum(tmp_dict.values()) for key, val in tmp_dict.items()}\n",
    "    for k2, v2 in tmp_dict.items():\n",
    "        cd[k2] += v2\n",
    "cd = {key: val/sum(cd.values()) for key, val in cd.items()}\n",
    "cd = dict(sorted(cd.items(), key=lambda item: item[1], reverse=True))\n",
    "cd = {list(cd.keys())[i]: list(cd.values())[i] for i in range(20)}\n",
    "plt.figure(figsize=(8, 6), dpi=80)\n",
    "plt.bar(range(len(cd)), list(cd.values()), align='center', color='#18974C')\n",
    "plt.xticks(range(len(cd)), list(cd.keys()), rotation = 45, ha='right')\n",
    "plt.title('HMDB class frequency per dataset (if present)')\n",
    "plt.show()"
   ]
  },
  {
   "cell_type": "code",
   "execution_count": 141,
   "id": "26b3cd1a-18aa-4621-b54a-ab5f640b0acd",
   "metadata": {},
   "outputs": [
    {
     "data": {
      "image/png": "[encoded data removed]",
      "text/plain": [
       "<Figure size 640x480 with 1 Axes>"
      ]
     },
     "metadata": {
      "needs_background": "light"
     },
     "output_type": "display_data"
    }
   ],
   "source": [
    "tmp_dict = metaspace_annotation_sub_class\n",
    "cd = defaultdict(float)\n",
    "tmp_l = []\n",
    "for key, val in tmp_dict.items():\n",
    "    tmp_classes = [random.choice(x) for x in val]\n",
    "    tmp_dict = defaultdict(int)\n",
    "    for it in tmp_classes:\n",
    "        tmp_dict[it] += 1\n",
    "    tmp_dict = {key: val/sum(tmp_dict.values()) for key, val in tmp_dict.items()}\n",
    "    for k2, v2 in tmp_dict.items():\n",
    "        cd[k2] += v2\n",
    "cd = {key: val/sum(cd.values()) for key, val in cd.items()}\n",
    "cd = dict(sorted(cd.items(), key=lambda item: item[1], reverse=True))\n",
    "cd = {list(cd.keys())[i]: list(cd.values())[i] for i in range(20)}\n",
    "plt.figure(figsize=(8, 6), dpi=80)\n",
    "plt.bar(range(len(cd)), list(cd.values()), align='center', color='#18974C')\n",
    "plt.xticks(range(len(cd)), list(cd.keys()), rotation = 45, ha='right')\n",
    "plt.title('HMDB sub-class frequency per dataset (if present)')\n",
    "plt.show()"
   ]
  },
  {
   "cell_type": "markdown",
   "id": "2dae2a82-4169-45fa-9160-6906292208dd",
   "metadata": {},
   "source": [
    "### Annotations per dataset"
   ]
  },
  {
   "cell_type": "code",
   "execution_count": 154,
   "id": "f6f9fdc8-ba80-4278-b15c-7aac6a305ed2",
   "metadata": {},
   "outputs": [
    {
     "data": {
      "text/plain": [
       "Text(0.5, 0, '$log_{10}$ Annotations per dataset')"
      ]
     },
     "execution_count": 154,
     "metadata": {},
     "output_type": "execute_result"
    },
    {
     "data": {
      "image/png": "[encoded data removed]",
      "text/plain": [
       "<Figure size 640x480 with 1 Axes>"
      ]
     },
     "metadata": {
      "needs_background": "light"
     },
     "output_type": "display_data"
    }
   ],
   "source": [
    "n_anno = []\n",
    "fdr_cutoff = .05\n",
    "for tab in hmdb_tables:\n",
    "    if tab[tab['fdr'] <= fdr_cutoff].shape[0] >0:\n",
    "        n_anno.append(tab[tab['fdr'] <= fdr_cutoff].shape[0])\n",
    "plt.figure(figsize=(8, 6), dpi=80)\n",
    "plt.hist(np.log10(n_anno), bins=30, color='#18974C')\n",
    "plt.title(f\"#Annotations per dataset (FDR <= {fdr_cutoff})\")\n",
    "plt.xlabel(r'$log_{10}$ Annotations per dataset')"
   ]
  },
  {
   "cell_type": "code",
   "execution_count": 143,
   "id": "48d446d9-efe6-4490-8bd2-f0b8669fef30",
   "metadata": {},
   "outputs": [
    {
     "data": {
      "text/plain": [
       "Text(0.5, 0, '$log_{10}$ Annotations per dataset')"
      ]
     },
     "execution_count": 143,
     "metadata": {},
     "output_type": "execute_result"
    },
    {
     "data": {
      "image/png": "[encoded data removed]",
      "text/plain": [
       "<Figure size 640x480 with 1 Axes>"
      ]
     },
     "metadata": {
      "needs_background": "light"
     },
     "output_type": "display_data"
    }
   ],
   "source": [
    "n_anno = []\n",
    "fdr_cutoff = .1\n",
    "for tab in hmdb_tables:\n",
    "    if tab[tab['fdr'] <= fdr_cutoff].shape[0] >0:\n",
    "        n_anno.append(tab[tab['fdr'] <= fdr_cutoff].shape[0])\n",
    "plt.figure(figsize=(8, 6), dpi=80)\n",
    "plt.hist(np.log10(n_anno), bins=30, color='#18974C')\n",
    "plt.title(f\"#Annotations per dataset (FDR <= {fdr_cutoff})\")\n",
    "plt.xlabel(r'$log_{10}$ Annotations per dataset')"
   ]
  },
  {
   "cell_type": "code",
   "execution_count": 144,
   "id": "db62e765-09fb-49f1-ae29-cb8a079ffc3c",
   "metadata": {},
   "outputs": [
    {
     "data": {
      "text/plain": [
       "Text(0.5, 0, '$log_{10}$ Annotations per dataset')"
      ]
     },
     "execution_count": 144,
     "metadata": {},
     "output_type": "execute_result"
    },
    {
     "data": {
      "image/png": "[encoded data removed]",
      "text/plain": [
       "<Figure size 640x480 with 1 Axes>"
      ]
     },
     "metadata": {
      "needs_background": "light"
     },
     "output_type": "display_data"
    }
   ],
   "source": [
    "n_anno = []\n",
    "fdr_cutoff = .2\n",
    "for tab in hmdb_tables:\n",
    "    if tab[tab['fdr'] <= fdr_cutoff].shape[0] >0:\n",
    "        n_anno.append(tab[tab['fdr'] <= fdr_cutoff].shape[0])\n",
    "plt.figure(figsize=(8, 6), dpi=80)\n",
    "plt.hist(np.log10(n_anno), bins=30, color='#18974C')\n",
    "plt.title(f\"#Annotations per dataset (FDR <= {fdr_cutoff})\")\n",
    "plt.xlabel(r'$log_{10}$ Annotations per dataset')"
   ]
  },
  {
   "cell_type": "code",
   "execution_count": 145,
   "id": "e6a1bc21-7ee1-49ab-8737-0b3d74a52e5b",
   "metadata": {},
   "outputs": [
    {
     "data": {
      "text/plain": [
       "Text(0.5, 0, '$log_{10}$ Annotations per dataset')"
      ]
     },
     "execution_count": 145,
     "metadata": {},
     "output_type": "execute_result"
    },
    {
     "data": {
      "image/png": "[encoded data removed]",
      "text/plain": [
       "<Figure size 640x480 with 1 Axes>"
      ]
     },
     "metadata": {
      "needs_background": "light"
     },
     "output_type": "display_data"
    }
   ],
   "source": [
    "n_anno = []\n",
    "fdr_cutoff = .5\n",
    "for tab in hmdb_tables:\n",
    "    if tab[tab['fdr'] <= fdr_cutoff].shape[0] >0:\n",
    "        n_anno.append(tab[tab['fdr'] <= fdr_cutoff].shape[0])\n",
    "plt.figure(figsize=(8, 6), dpi=80)\n",
    "plt.hist(np.log10(n_anno), bins=30, color='#18974C')\n",
    "plt.title(f\"#Annotations per dataset (FDR <= {fdr_cutoff})\")\n",
    "plt.xlabel(r'$log_{10}$ Annotations per dataset')"
   ]
  },
  {
   "cell_type": "code",
   "execution_count": 146,
   "id": "33ba885a-ab1d-4b11-acad-85d1abb2f68b",
   "metadata": {},
   "outputs": [
    {
     "data": {
      "text/plain": [
       "2.6989700043360187"
      ]
     },
     "execution_count": 146,
     "metadata": {},
     "output_type": "execute_result"
    }
   ],
   "source": [
    "np.log10(500)"
   ]
  },
  {
   "cell_type": "markdown",
   "id": "35eee7d9-27d8-47bc-ac25-0c2fbc46c559",
   "metadata": {},
   "source": [
    "### Datasets per annotation"
   ]
  },
  {
   "cell_type": "code",
   "execution_count": 148,
   "id": "7e326562-7701-4de5-a7fb-826c6d533d06",
   "metadata": {},
   "outputs": [
    {
     "data": {
      "text/plain": [
       "Text(0.5, 0, '$log_{10}$ Datasets per Annotation')"
      ]
     },
     "execution_count": 148,
     "metadata": {},
     "output_type": "execute_result"
    },
    {
     "data": {
      "image/png": "[encoded data removed]",
      "text/plain": [
       "<Figure size 640x480 with 1 Axes>"
      ]
     },
     "metadata": {
      "needs_background": "light"
     },
     "output_type": "display_data"
    }
   ],
   "source": [
    "dpa = defaultdict(int)\n",
    "fdr_cutoff = .05\n",
    "for tab in hmdb_tables:\n",
    "    tmp = list(tab[tab['fdr'] <= fdr_cutoff].index)\n",
    "    for t in tmp:\n",
    "        dpa[t] += 1\n",
    "plt.figure(figsize=(8, 6), dpi=80)\n",
    "plt.hist(np.log10(list(dpa.values())), bins=30, color='#18974C')\n",
    "plt.title(f\"#Datasets per annotation (FDR <= {fdr_cutoff})\")\n",
    "plt.xlabel(r'$log_{10}$ Datasets per Annotation')"
   ]
  },
  {
   "cell_type": "code",
   "execution_count": 149,
   "id": "9a97d911-3f9c-4bff-bb87-34ed39f554da",
   "metadata": {},
   "outputs": [
    {
     "data": {
      "text/plain": [
       "Text(0.5, 0, '$log_{10}$ Datasets per Annotation')"
      ]
     },
     "execution_count": 149,
     "metadata": {},
     "output_type": "execute_result"
    },
    {
     "data": {
      "image/png": "[encoded data removed]",
      "text/plain": [
       "<Figure size 640x480 with 1 Axes>"
      ]
     },
     "metadata": {
      "needs_background": "light"
     },
     "output_type": "display_data"
    }
   ],
   "source": [
    "dpa = defaultdict(int)\n",
    "fdr_cutoff = .1\n",
    "for tab in hmdb_tables:\n",
    "    tmp = list(tab[tab['fdr'] <= fdr_cutoff].index)\n",
    "    for t in tmp:\n",
    "        dpa[t] += 1\n",
    "plt.figure(figsize=(8, 6), dpi=80)\n",
    "plt.hist(np.log10(list(dpa.values())), bins=30, color='#18974C')\n",
    "plt.xlabel(r'$log_{10}$ Datasets per Annotation')"
   ]
  },
  {
   "cell_type": "code",
   "execution_count": 150,
   "id": "ed08d47a-8792-462c-a026-9e6578565eed",
   "metadata": {},
   "outputs": [
    {
     "data": {
      "text/plain": [
       "Text(0.5, 0, '$log_{10}$ Datasets per Annotation')"
      ]
     },
     "execution_count": 150,
     "metadata": {},
     "output_type": "execute_result"
    },
    {
     "data": {
      "image/png": "[encoded data removed]",
      "text/plain": [
       "<Figure size 640x480 with 1 Axes>"
      ]
     },
     "metadata": {
      "needs_background": "light"
     },
     "output_type": "display_data"
    }
   ],
   "source": [
    "dpa = defaultdict(int)\n",
    "fdr_cutoff = .2\n",
    "for tab in hmdb_tables:\n",
    "    tmp = list(tab[tab['fdr'] <= fdr_cutoff].index)\n",
    "    for t in tmp:\n",
    "        dpa[t] += 1\n",
    "plt.figure(figsize=(8, 6), dpi=80)\n",
    "plt.hist(np.log10(list(dpa.values())), bins=30, color='#18974C')\n",
    "plt.xlabel(r'$log_{10}$ Datasets per Annotation')"
   ]
  },
  {
   "cell_type": "code",
   "execution_count": 151,
   "id": "ecf135a7-4c93-4a11-9231-ab0ece3b5568",
   "metadata": {},
   "outputs": [
    {
     "data": {
      "text/plain": [
       "Text(0.5, 0, '$log_{10}$ Datasets per Annotation')"
      ]
     },
     "execution_count": 151,
     "metadata": {},
     "output_type": "execute_result"
    },
    {
     "data": {
      "image/png": "[encoded data removed]",
      "text/plain": [
       "<Figure size 640x480 with 1 Axes>"
      ]
     },
     "metadata": {
      "needs_background": "light"
     },
     "output_type": "display_data"
    }
   ],
   "source": [
    "dpa = defaultdict(int)\n",
    "fdr_cutoff = .5\n",
    "for tab in hmdb_tables:\n",
    "    tmp = list(tab[tab['fdr'] <= fdr_cutoff].index)\n",
    "    for t in tmp:\n",
    "        dpa[t] += 1\n",
    "plt.figure(figsize=(8, 6), dpi=80)\n",
    "plt.hist(np.log10(list(dpa.values())), bins=30, color='#18974C')\n",
    "plt.xlabel(r'$log_{10}$ Datasets per Annotation')"
   ]
  },
  {
   "cell_type": "code",
   "execution_count": null,
   "id": "1a4e8497-1abd-4ddc-a073-8e4ccca73bd5",
   "metadata": {},
   "outputs": [],
   "source": []
  }
 ],
 "metadata": {
  "kernelspec": {
   "display_name": "Python 3 (ipykernel)",
   "language": "python",
   "name": "python3"
  },
  "language_info": {
   "codemirror_mode": {
    "name": "ipython",
    "version": 3
   },
   "file_extension": ".py",
   "mimetype": "text/x-python",
   "name": "python",
   "nbconvert_exporter": "python",
   "pygments_lexer": "ipython3",
   "version": "3.9.6"
  }
 },
 "nbformat": 4,
 "nbformat_minor": 5
}
