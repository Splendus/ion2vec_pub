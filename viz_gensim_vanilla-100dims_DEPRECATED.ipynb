{
 "cells": [
  {
   "cell_type": "code",
   "execution_count": 4,
   "id": "164cd6a3",
   "metadata": {},
   "outputs": [],
   "source": [
    "import os\n",
    "import ast\n",
    "\n",
    "import numpy as np, pandas as pd\n",
    "import matplotlib.pyplot as plt, seaborn as sns\n",
    "import matplotlib.patches as mpatches\n",
    "\n",
    "import pickle\n",
    "\n",
    "import umap\n",
    "\n",
    "import metaspace\n",
    "from metaspace import SMInstance\n",
    "\n",
    "from viz import get_ds_list, get_ion_imgs, ion_cluster, plot_ion_imgs, label_point, imshow_ions, cluster_viz\n",
    "from metadata import get_meta_df, post_processing\n",
    "\n",
    "plt.rcParams['figure.figsize'] = (13,9)\n",
    "plt.rcParams['figure.dpi'] = 300"
   ]
  },
  {
   "cell_type": "code",
   "execution_count": 10,
   "id": "57acdf1d",
   "metadata": {},
   "outputs": [],
   "source": [
    "vec_file = \"slurm_job/Vanilla_output/ThNo1No2gensim_q10p50_10iters.model.txt\""
   ]
  },
  {
   "cell_type": "code",
   "execution_count": 13,
   "id": "10f846b8",
   "metadata": {},
   "outputs": [],
   "source": [
    "p = post_processing(vec_file, u_embed=True)\n",
    "meta_df = p.get_info_df()\n",
    "#meta_df = get_meta_df(vec_file, txt=True, embed=False)"
   ]
  },
  {
   "cell_type": "code",
   "execution_count": null,
   "id": "3de0cc74",
   "metadata": {},
   "outputs": [],
   "source": [
    "pal = sns.color_palette()\n",
    "color_dict_single = {'whole body xenograft (1) [RMS norm]': pal[0], 'wb xenograft trp pathway dosed- rms_corrected': pal[1], \n",
    "                   'whole body xenograft (2) [RMS norm]': pal[2], 'Servier_Ctrl_mouse_wb_lateral_plane_9aa': pal[3], \n",
    "                   'Servier_Ctrl_mouse_wb_median_plane_9aa': pal[4],  'Servier_Ctrl_mouse_wb_median_plane_chca' : pal[5],\n",
    "                   'Servier_Ctrl_mouse_wb_lateral_plane_chca': pal[6], 'Servier_Ctrl_mouse_wb_lateral_plane_DHB': pal[9]}\n",
    "\n",
    "color_dict_multiple = {'Multiple Datasets':'gray'}\n",
    "\n",
    "binary_dict = {0:'lightgray', 1:pal[9]}"
   ]
  },
  {
   "cell_type": "code",
   "execution_count": null,
   "id": "d31c4a46",
   "metadata": {},
   "outputs": [],
   "source": [
    "single_sh = sh_df[sh_df['single_dataset_name'] != 'Multiple Datasets']\n",
    "multiple_sh = sh_df[sh_df['single_dataset_name'] == 'Multiple Datasets'] \n",
    "\n",
    "single_nosh = nosh_df[nosh_df['single_dataset_name'] != 'Multiple Datasets']\n",
    "multiple_nosh = nosh_df[nosh_df['single_dataset_name'] == 'Multiple Datasets'] "
   ]
  },
  {
   "cell_type": "code",
   "execution_count": null,
   "id": "0aa52e95",
   "metadata": {},
   "outputs": [],
   "source": [
    "plt.title('GenVa 100: UMAP embeddings colored by occurence in Servier_Ctrl_mouse_wb_lateral_plane_DHB')\n",
    "#ax = sns.scatterplot(data = all_df, x = 'umap_x', y = 'umap_y', hue = all_df[one_hot.classes_].apply(tuple, axis=1),\n",
    "#                     palette=palette,  s = 40, )\n",
    "ax = sns.scatterplot(data = binary_df, x = 'umap_x', y= 'umap_y', hue = 'Servier_Ctrl_mouse_wb_lateral_plane_DHB', palette = binary_dict)\n",
    "#sns.scatterplot(data = multiple_ds_df, x = 'umap_x', y='umap_y', hue = 'single_dataset_name', palette = color_dict_multiple, alpha = 0.3)\n",
    "#label_point(all_df.umap_x, all_df.umap_y, all_df.mol_name, plt.gca())\n",
    "plt.xlabel('UMAP dimension 1')\n",
    "plt.ylabel('UMAP dimension 2')\n",
    "\n",
    "\n",
    "#left, bottom, width, height = (10.5, 10.6, 2.4, 2.6)\n",
    "#rect=mpatches.Rectangle((left,bottom),width,height, fill=False,color=\"purple\",linewidth=2)\n",
    "#plt.gca().add_patch(rect)\n",
    "#sns.move_legend(ax, \"upper left\", bbox_to_anchor=(1, 1))\n",
    "plt.tight_layout()\n",
    "#plt.savefig('plots/GenVa100_AllData_datasets_lateral_DHB.png', format='png')"
   ]
  },
  {
   "cell_type": "code",
   "execution_count": null,
   "id": "1ed4b84a",
   "metadata": {},
   "outputs": [],
   "source": [
    "plt.title('GenVa 100: UMAP embeddings colored by superclass')\n",
    "\n",
    "ax = sns.scatterplot(data = all_df, x = 'umap_x', y= 'umap_y', hue = 'super_class')\n",
    "#label_point(all_df.umap_x, all_df.umap_y, all_df.mol_name, plt.gca())\n",
    "plt.xlabel('UMAP dimension 1')\n",
    "plt.ylabel('UMAP dimension 2')\n",
    "\n",
    "#sns.move_legend(ax, \"upper left\", bbox_to_anchor=(1, 1))\n",
    "plt.tight_layout()\n",
    "#plt.savefig('plots/GenVa100_AllData_superclass.png', format='png')"
   ]
  },
  {
   "cell_type": "markdown",
   "id": "17d2955e",
   "metadata": {},
   "source": [
    "Closer look at cluster 1."
   ]
  },
  {
   "cell_type": "code",
   "execution_count": null,
   "id": "2c280669",
   "metadata": {},
   "outputs": [],
   "source": [
    "left, bottom, width, height = (5.5, 5.85, 3.5, 2.5)\n",
    "\n",
    "plt.title('GenVa100: Cluster 1')\n",
    "\n",
    "ax = sns.scatterplot(data = single_ds_df, x = 'umap_x', y= 'umap_y', hue = 'single_dataset_name', palette = color_dict_single)\n",
    "sns.scatterplot(data = multiple_ds_df, x = 'umap_x', y='umap_y', hue = 'single_dataset_name', palette = color_dict_multiple, alpha = 0.3)\n",
    "#label_point(all_df.umap_x, all_df.umap_y, all_df.mol_name, plt.gca())\n",
    "plt.xlabel('UMAP dimension 1')\n",
    "plt.ylabel('UMAP dimension 2')\n",
    "\n",
    "rect=mpatches.Rectangle((left,bottom),width,height, \n",
    "                        fill=False,\n",
    "                        color=\"darkblue\",\n",
    "                       linewidth=2)\n",
    "\n",
    "plt.gca().add_patch(rect)\n",
    "#sns.move_legend(ax, \"upper left\", bbox_to_anchor=(1, 1))\n",
    "plt.tight_layout()\n",
    "#plt.savefig('plots/GenVa100_AllData_Cluster1.png', format='png')"
   ]
  },
  {
   "cell_type": "code",
   "execution_count": null,
   "id": "249a71e3",
   "metadata": {},
   "outputs": [],
   "source": [
    "c1,_ = ion_cluster(all_df, left, left+width, bottom, bottom+height, 'super_class', 'mol_name',\n",
    "                title = 'GenVa100: Cluster 1, superclass and molecule names', output=None, \n",
    "                text_size=6, marker_size=60)\n",
    "\n",
    "c1,_ = ion_cluster(all_df, left, left+width, bottom, bottom+height, 'single_dataset_name', 'mol_name',\n",
    "                title = 'GenVa100: Cluster 1, dataset and molecule names', output=None, \n",
    "                text_size=6, marker_size=60)"
   ]
  },
  {
   "cell_type": "code",
   "execution_count": null,
   "id": "f7a3e9c6",
   "metadata": {},
   "outputs": [],
   "source": [
    "imshow_ions(c1, out = 'GenVa100_cluster1_ionimgs')"
   ]
  },
  {
   "cell_type": "markdown",
   "id": "8ace33e8",
   "metadata": {},
   "source": [
    "Cluster 2"
   ]
  },
  {
   "cell_type": "code",
   "execution_count": null,
   "id": "c937b58b",
   "metadata": {},
   "outputs": [],
   "source": [
    "c2_bb = [9.8, 1.8, 2.5, 2.6] # left,bottom, width,heigth\n",
    "left, bottom, width, height = (c2_bb[0], c2_bb[1], c2_bb[2], c2_bb[3])\n",
    "\n",
    "plt.title('GenVa100: Cluster 2')\n",
    "\n",
    "ax = sns.scatterplot(data = single_ds_df, x = 'umap_x', y= 'umap_y', hue = 'single_dataset_name', palette = color_dict_single)\n",
    "sns.scatterplot(data = multiple_ds_df, x = 'umap_x', y='umap_y', hue = 'single_dataset_name', palette = color_dict_multiple, alpha = 0.3)\n",
    "plt.xlabel('UMAP dimension 1')\n",
    "plt.ylabel('UMAP dimension 2')\n",
    "\n",
    "rect=mpatches.Rectangle((left,bottom),width,height, \n",
    "                        fill=False,\n",
    "                        color=\"orange\",\n",
    "                       linewidth=2)\n",
    "\n",
    "plt.gca().add_patch(rect)\n",
    "plt.tight_layout()\n",
    "#plt.savefig('plots/GenVa100_AllData_Cluster2.png', format='png')"
   ]
  },
  {
   "cell_type": "code",
   "execution_count": null,
   "id": "e047b870",
   "metadata": {},
   "outputs": [],
   "source": [
    "c2,_ = ion_cluster(all_df,c2_bb[0], c2_bb[0]+c2_bb[2], c2_bb[1], c2_bb[1]+c2_bb[3], 'super_class', 'mol_name',\n",
    "                title = 'GenVa100: Cluster 2, superclass and molecule names', output=None, \n",
    "                text_size=6, marker_size=60)\n",
    "\n",
    "c2,_ = ion_cluster(all_df, c2_bb[0], c2_bb[0]+c2_bb[2], c2_bb[1], c2_bb[1]+c2_bb[3], 'single_dataset_name', 'mol_name',\n",
    "                title = 'GenVa100: Cluster 2, dataset and molecule names', output=None, \n",
    "                text_size=6, marker_size=60)"
   ]
  },
  {
   "cell_type": "code",
   "execution_count": null,
   "id": "26710415",
   "metadata": {},
   "outputs": [],
   "source": [
    "imshow_ions(c2, out = 'GenVa100_cluster2_ionimgs')"
   ]
  },
  {
   "cell_type": "code",
   "execution_count": null,
   "id": "1ce06bcb",
   "metadata": {},
   "outputs": [],
   "source": [
    "c3_bb = [-7, 1.9, 3.7, 2.3] # left,bottom, width,heigth\n",
    "\n",
    "plt.title('GenVa100: Cluster 3')\n",
    "\n",
    "ax = sns.scatterplot(data = single_ds_df, x = 'umap_x', y= 'umap_y', hue = 'single_dataset_name', palette = color_dict_single)\n",
    "sns.scatterplot(data = multiple_ds_df, x = 'umap_x', y='umap_y', hue = 'single_dataset_name', palette = color_dict_multiple, alpha = 0.3)\n",
    "plt.xlabel('UMAP dimension 1')\n",
    "plt.ylabel('UMAP dimension 2')\n",
    "\n",
    "rect=mpatches.Rectangle((c3_bb[0],c3_bb[1]),c3_bb[2],c3_bb[3], \n",
    "                        fill=False,\n",
    "                        color=\"grey\",\n",
    "                       linewidth=2)\n",
    "\n",
    "plt.gca().add_patch(rect)\n",
    "plt.tight_layout()\n",
    "#plt.savefig('plots/GenVa100_AllData_Cluster3.png', format='png')"
   ]
  },
  {
   "cell_type": "code",
   "execution_count": null,
   "id": "01670fad",
   "metadata": {},
   "outputs": [],
   "source": [
    "c3,_ = ion_cluster(all_df,c3_bb[0], c3_bb[0]+c3_bb[2], c3_bb[1], c3_bb[1]+c3_bb[3], 'super_class', 'mol_name',\n",
    "                title = 'GenVa100: Cluster 3, superclass and molecule names', output=None, \n",
    "                text_size=5, marker_size=60)\n",
    "\n",
    "c3,_ = ion_cluster(all_df, c3_bb[0], c3_bb[0]+c3_bb[2], c3_bb[1], c3_bb[1]+c3_bb[3], 'single_dataset_name', 'mol_name',\n",
    "                title = 'GenVa100: Cluster 3, dataset and molecule names', output=None, \n",
    "                text_size=5, marker_size=60)"
   ]
  },
  {
   "cell_type": "code",
   "execution_count": null,
   "id": "8d294b60",
   "metadata": {},
   "outputs": [],
   "source": [
    "imshow_ions(c3, out = 'GenVa100_cluster3_ionimgs')"
   ]
  },
  {
   "cell_type": "code",
   "execution_count": null,
   "id": "dbab05ed",
   "metadata": {},
   "outputs": [],
   "source": [
    "c4_bb = [0.3, 4.45, 1.6, 1.3] # left,bottom, width,heigth\n",
    "\n",
    "plt.title('GenVa100: Cluster 4')\n",
    "\n",
    "ax = sns.scatterplot(data = single_ds_df, x = 'umap_x', y= 'umap_y', hue = 'single_dataset_name', palette = color_dict_single)\n",
    "sns.scatterplot(data = multiple_ds_df, x = 'umap_x', y='umap_y', hue = 'single_dataset_name', palette = color_dict_multiple, alpha = 0.3)\n",
    "plt.xlabel('UMAP dimension 1')\n",
    "plt.ylabel('UMAP dimension 2')\n",
    "\n",
    "rect=mpatches.Rectangle((c4_bb[0],c4_bb[1]),c4_bb[2],c4_bb[3], \n",
    "                        fill=False,\n",
    "                        color=\"darkgreen\",\n",
    "                       linewidth=2)\n",
    "\n",
    "plt.gca().add_patch(rect)\n",
    "plt.tight_layout()\n",
    "#plt.savefig('plots/GenVa100_AllData_Cluster4.png', format='png')"
   ]
  },
  {
   "cell_type": "code",
   "execution_count": null,
   "id": "c75a5ec7",
   "metadata": {},
   "outputs": [],
   "source": [
    "c4,_ = ion_cluster(all_df,c4_bb[0], c4_bb[0]+c4_bb[2], c4_bb[1], c4_bb[1]+c4_bb[3], 'super_class', 'mol_name',\n",
    "                title = 'GenVa100: Cluster 4, superclass and molecule names', output=None, \n",
    "                text_size=8, marker_size=80)\n",
    "\n",
    "c4,_ = ion_cluster(all_df, c4_bb[0], c4_bb[0]+c4_bb[2], c4_bb[1], c4_bb[1]+c4_bb[3], 'single_dataset_name', 'mol_name',\n",
    "                title = 'GenVa100: Cluster 4, dataset and molecule names', output=None, \n",
    "                text_size=8, marker_size=80)"
   ]
  },
  {
   "cell_type": "code",
   "execution_count": null,
   "id": "6f62c7e4",
   "metadata": {},
   "outputs": [],
   "source": [
    "imshow_ions(c4, out = 'GenVa100_cluster4_ionimgs')"
   ]
  },
  {
   "cell_type": "code",
   "execution_count": null,
   "id": "29c18ebd",
   "metadata": {},
   "outputs": [],
   "source": [
    "# Compare to No2_both (positive and negative mode)\n",
    "No2both_vecs = \"slurm_job/ThNo2_both_gensim_q00p50_10iters_sg.model.txt\""
   ]
  },
  {
   "cell_type": "code",
   "execution_count": null,
   "id": "8fc117ae",
   "metadata": {},
   "outputs": [],
   "source": [
    "two_df = get_meta_df(No2both_vecs, txt=True, embed=True)"
   ]
  },
  {
   "cell_type": "code",
   "execution_count": null,
   "id": "76a27e81",
   "metadata": {},
   "outputs": [],
   "source": [
    "binary_df = pd.concat([two_df,pd.get_dummies(two_df['ds_names'].apply(pd.Series).stack()).sum(level=0)], axis=1)"
   ]
  },
  {
   "cell_type": "code",
   "execution_count": null,
   "id": "8a151d18",
   "metadata": {},
   "outputs": [],
   "source": [
    "binary_df"
   ]
  },
  {
   "cell_type": "code",
   "execution_count": null,
   "id": "fe0bb00f",
   "metadata": {},
   "outputs": [],
   "source": [
    "single_ds_df2 = two_df[two_df['single_dataset_name'] != 'Multiple Datasets']\n",
    "multiple_ds_df2 = two_df[two_df['single_dataset_name'] == 'Multiple Datasets'] "
   ]
  },
  {
   "cell_type": "code",
   "execution_count": null,
   "id": "791d6a8e",
   "metadata": {},
   "outputs": [],
   "source": [
    "plt.title('GenVa: UMAP embeddings colored by occurence in datasets')\n",
    "#ax = sns.scatterplot(data = all_df, x = 'umap_x', y = 'umap_y', hue = all_df[one_hot.classes_].apply(tuple, axis=1),\n",
    "#                     palette=palette,  s = 40, )\n",
    "ax = sns.scatterplot(data = single_ds_df2, x = 'umap_x', y= 'umap_y', hue = 'single_dataset_name', palette = color_dict_single)\n",
    "sns.scatterplot(data = multiple_ds_df2, x = 'umap_x', y='umap_y', hue = 'single_dataset_name', palette = color_dict_multiple, alpha = 0.3)\n",
    "#label_point(all_df.umap_x, all_df.umap_y, all_df.mol_name, plt.gca())\n",
    "\n",
    "\n",
    "#left, bottom, width, height = (10.5, 10.6, 2.4, 2.6)\n",
    "#rect=mpatches.Rectangle((left,bottom),width,height, fill=False,color=\"purple\",linewidth=2)\n",
    "#plt.gca().add_patch(rect)\n",
    "#sns.move_legend(ax, \"upper left\", bbox_to_anchor=(1, 1))\n",
    "plt.tight_layout()\n",
    "plt.savefig('plots/GenVa_No2both_datasets.png', format='png')"
   ]
  },
  {
   "cell_type": "code",
   "execution_count": null,
   "id": "d7b8b2e4",
   "metadata": {},
   "outputs": [],
   "source": []
  }
 ],
 "metadata": {
  "kernelspec": {
   "display_name": "Python (DomEnv)",
   "language": "python",
   "name": "domenv"
  },
  "language_info": {
   "codemirror_mode": {
    "name": "ipython",
    "version": 3
   },
   "file_extension": ".py",
   "mimetype": "text/x-python",
   "name": "python",
   "nbconvert_exporter": "python",
   "pygments_lexer": "ipython3",
   "version": "3.9.13"
  }
 },
 "nbformat": 4,
 "nbformat_minor": 5
}
